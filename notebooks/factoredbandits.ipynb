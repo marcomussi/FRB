{
 "cells": [
  {
   "cell_type": "code",
   "execution_count": 1,
   "id": "52278476",
   "metadata": {},
   "outputs": [
    {
     "name": "stdout",
     "output_type": "stream",
     "text": [
      "Moving Current Directory from /home/simone/Projects/research/FRB/notebooks to /home/simone/Projects/research/FRB\n"
     ]
    }
   ],
   "source": [
    "import numpy as np\n",
    "import math\n",
    "from tqdm.auto import tqdm\n",
    "import matplotlib.pyplot as plt\n",
    "import tikzplotlib as tkz\n",
    "import warnings\n",
    "warnings.filterwarnings(\"ignore\")\n",
    "\n",
    "import os, sys\n",
    "\n",
    "_, filename = os.path.split(os.getcwd())\n",
    "if filename == 'notebooks':\n",
    "    old_dir = os.getcwd()\n",
    "    os.chdir('../')\n",
    "    print('Moving Current Directory from ' + old_dir + ' to ' + os.getcwd())\n",
    "else:\n",
    "    print('Current Directory is ' + os.getcwd())\n",
    "\n",
    "sys.path.append('./')  \n",
    "\n",
    "from FRB.agents import UCB1Agent, FactoredUCBAgent, TMRobustUCBAgent #, FactoredUCBAgentMM\n",
    "from FRB.env import FactoredEnv\n",
    "from FRB.utils import get_pulled_expected, compute_max_expected, create_action_matrix, get_sigma_square_eq_max"
   ]
  },
  {
   "cell_type": "code",
   "execution_count": 2,
   "id": "6142cda6",
   "metadata": {},
   "outputs": [],
   "source": [
    "class FactoredUCBAgentMM():\n",
    "    \"\"\"\n",
    "    This class implements the FRB MM optimal algorithm in its anytime\n",
    "    version for bounded variables\n",
    "    \"\"\"\n",
    "    def __init__(self, k, d, time_horizon, sigma=0.5,\n",
    "                 max_reward=1, exploration_alpha=4, bounded=True):\n",
    "        self.k = k\n",
    "        self.d = d\n",
    "        self.T = time_horizon\n",
    "        self.max_reward = max_reward\n",
    "        if bounded:\n",
    "            self.sigma = sigma\n",
    "        else:\n",
    "            self.sigma2 = (1 + sigma**2)**d\n",
    "            self.sigma = np.sqrt(self.sigma2)\n",
    "        self.exploration_alpha = exploration_alpha\n",
    "        self.num_actions = self.k ** self.d\n",
    "        self.bounded = bounded\n",
    "        # Creation of the action matrix\n",
    "        self.action_matrix = np.zeros(\n",
    "            (self.num_actions, self.d), dtype=int\n",
    "        )\n",
    "        for i in range(self.d):\n",
    "            vect = -1 * np.ones(self.k**(i+1))\n",
    "            external_repeats = int(self.k**(self.d-(i+1)))\n",
    "            internal_repeats = self.k**i\n",
    "            for j in range(self.k):\n",
    "                vect[j*internal_repeats:(j+1)*internal_repeats] = j\n",
    "            vect_new = np.copy(vect).reshape(-1, 1)\n",
    "            for _ in range(external_repeats-1):\n",
    "                vect_new = np.vstack((vect_new, vect.reshape(-1, 1)))\n",
    "            self.action_matrix[:, i] = vect_new.ravel()\n",
    "        self.reset()\n",
    "\n",
    "    def reset(self):\n",
    "        self.t = 1\n",
    "        self.last_pull = None\n",
    "        self.n_min_pull = np.zeros(self.num_actions, dtype=int)\n",
    "        self.n_pulls = np.zeros((self.d, self.k), dtype=int)\n",
    "        self.observations = -1 * np.ones((self.d, self.k, self.T), dtype=int)\n",
    "        self.virtual_pulls_sum = np.zeros(self.num_actions)\n",
    "\n",
    "    def pull_arm(self):\n",
    "        # if self.bounded:\n",
    "        #     for i in range(self.num_actions):\n",
    "        #         action_vector = self.action_matrix[i, :]\n",
    "        #         new_min_pull = self.n_pulls[0, action_vector[0]]\n",
    "        #         for j in range(1, self.d):\n",
    "        #             new_min_pull = min(new_min_pull, self.n_pulls[j, action_vector[j]])\n",
    "        #         if new_min_pull != self.n_min_pull[i]:\n",
    "        #             self.n_min_pull[i] = new_min_pull\n",
    "        #             aux = 1\n",
    "        #             for j in range(self.d):\n",
    "        #                 aux *= self.observations[j, self.last_pull[j], self.n_min_pull[i]-1]\n",
    "        #             self.virtual_pulls_sum[i] += aux\n",
    "        #     mean = self.virtual_pulls_sum / self.n_min_pull\n",
    "        #     ucb = mean + self.sigma * np.sqrt(self.exploration_alpha * math.log(self.t) / self.n_min_pull)\n",
    "\n",
    "        # else:\n",
    "        #     for i in range(self.num_actions):\n",
    "        #         action_vector = self.action_matrix[i, :]\n",
    "        #         new_min_pull = self.n_pulls[0, action_vector[0]]\n",
    "        #         for j in range(1, self.d):\n",
    "        #             new_min_pull = min(new_min_pull, self.n_pulls[j, action_vector[j]])\n",
    "        #         if new_min_pull != self.n_min_pull[i]:\n",
    "        #             self.n_min_pull[i] = new_min_pull\n",
    "\n",
    "        #             if self.last_pull is not None and (action_vector == self.last_pull).any() and self.n_min_pull[i]>0:\n",
    "        #                 _observations = np.zeros((self.d, self.n_min_pull[i]-1))\n",
    "        #                 for h in range(self.d):\n",
    "        #                     _observations[h, :] = self.observations[h,action_vector[h],:self.n_min_pull[i]-1]\n",
    "        #                 x = np.prod(_observations, axis = 0)\n",
    "        #                 # self.virtual_pulls_sum[i] = self.trimmed_mean(x, self.sigma, 1/self.T, 1)\n",
    "        #                 self.virtual_pulls_sum[i] = np.mean(np.where(np.abs(x)<= self.threshold_lookup(self.t, 1),\n",
    "        #                                           x, 0))\n",
    "                    \n",
    "        #     mean = self.virtual_pulls_sum\n",
    "        #     ucb = mean + self.sigma * np.sqrt(4*self.exploration_alpha * math.log(self.t**2) / self.n_min_pull)\n",
    "\n",
    "        if self.bounded:\n",
    "            pass\n",
    "        else:\n",
    "            for i in range(self.num_actions):\n",
    "                action_vector = self.action_matrix[i, :]\n",
    "                # Check if any element of action_vector has been pulled\n",
    "                if self.last_pull is not None and (action_vector == self.last_pull).any():\n",
    "                    # Check if the equivalent number of pulls of action_vector changes\n",
    "                    new_min_pull = self.n_pulls[0, action_vector[0]]\n",
    "                    for j in range(1, self.d):\n",
    "                        new_min_pull = min(new_min_pull, self.n_pulls[j, action_vector[j]])\n",
    "                    \n",
    "                    if new_min_pull > self.n_min_pull[i]:\n",
    "                        self.n_min_pull[i] = new_min_pull\n",
    "                        # Update estimated mean\n",
    "                        _observations = np.zeros((self.d, self.n_min_pull[i]))\n",
    "                    \n",
    "                        for h in range(self.d):\n",
    "                            _observations[h, :] = self.observations[h,action_vector[h],:self.n_min_pull[i]]\n",
    "                        \n",
    "                        x = np.prod(_observations, axis = 0)\n",
    "                        # self.virtual_pulls_sum[i] = self.trimmed_mean(x, self.sigma, 1/self.T, 1)\n",
    "                        self.virtual_pulls_sum[i] = np.mean(np.where(np.abs(x) <= self.threshold_lookup(self.t, 1), x, 0))\n",
    "            \n",
    "            mean = self.virtual_pulls_sum\n",
    "            # ucb = mean + self.sigma * np.sqrt(2 * self.exploration_alpha * math.log(self.t) / self.n_min_pull)\n",
    "\n",
    "            ucb = mean + 4*self.sigma2**(1/2) * (2*np.log(self.t)/self.n_min_pull)**(1/2)\n",
    "\n",
    "\n",
    "            \n",
    "        self.last_pull = self.action_matrix[int(np.argmax(ucb)), :]\n",
    "        return self.last_pull\n",
    "\n",
    "    def update(self, observations):\n",
    "        self.t += 1\n",
    "        for i in range(self.d):\n",
    "            self.observations[i, self.last_pull[i], self.n_pulls[i, self.last_pull[i]]] = observations[i]\n",
    "            self.n_pulls[i, self.last_pull[i]] = self.n_pulls[i, self.last_pull[i]] + 1\n",
    "\n",
    "    def threshold_lookup(self, n, epsilon):\n",
    "        return (self.sigma2*n/np.log(n**-2))**(1/(1+epsilon))\n",
    "    \n",
    "    def trimmed_mean(self, x, u, delta, epsilon):\n",
    "        n = x.shape[0]\n",
    "        mask = np.zeros(x.shape)\n",
    "        _log = np.log(1/delta)\n",
    "        \n",
    "        t = np.arange(n)\n",
    "        mask = np.abs(x) <= (u*t - _log)**(1/(1+epsilon))\n",
    "        \n",
    "        mask = np.array(mask, dtype='bool')\n",
    "\n",
    "        mu = np.sum(x[mask]) / n\n",
    "        return mu"
   ]
  },
  {
   "cell_type": "code",
   "execution_count": 3,
   "id": "64fe5c05",
   "metadata": {
    "scrolled": false
   },
   "outputs": [
    {
     "data": {
      "application/vnd.jupyter.widget-view+json": {
       "model_id": "24d8341c32f44c7bab21b76a3c4f7a11",
       "version_major": 2,
       "version_minor": 0
      },
      "text/plain": [
       "  0%|          | 0/4 [00:00<?, ?it/s]"
      ]
     },
     "metadata": {},
     "output_type": "display_data"
    },
    {
     "name": "stdout",
     "output_type": "stream",
     "text": [
      "\\JPAalgnameshort run completed - k=2 d=1 $\\sigma$=0.1\n",
      "T=1000: $1.73 \\ (0.45)$\n",
      "T=2000: $2.1 \\ (0.62)$\n",
      "T=5000: $2.34 \\ (0.64)$\n"
     ]
    },
    {
     "data": {
      "application/vnd.jupyter.widget-view+json": {
       "model_id": "5f88e11cd7e7465bbaa7e4a291f8df80",
       "version_major": 2,
       "version_minor": 0
      },
      "text/plain": [
       "  0%|          | 0/4 [00:00<?, ?it/s]"
      ]
     },
     "metadata": {},
     "output_type": "display_data"
    },
    {
     "name": "stdout",
     "output_type": "stream",
     "text": [
      "\\JPAalgnameshortMM run completed - k=2 d=1 $\\sigma$=0.1\n",
      "T=1000: $90.75 \\ (18.29)$\n",
      "T=2000: $181.49 \\ (36.58)$\n",
      "T=5000: $453.73 \\ (91.45)$\n"
     ]
    },
    {
     "data": {
      "application/vnd.jupyter.widget-view+json": {
       "model_id": "e08d330ef48f459f95617683b948b004",
       "version_major": 2,
       "version_minor": 0
      },
      "text/plain": [
       "  0%|          | 0/4 [00:00<?, ?it/s]"
      ]
     },
     "metadata": {},
     "output_type": "display_data"
    },
    {
     "name": "stdout",
     "output_type": "stream",
     "text": [
      "\\ucbone run completed - k=2 d=1 $\\sigma$=0.1\n",
      "T=1000: $1.73 \\ (0.45)$\n",
      "T=2000: $2.1 \\ (0.62)$\n",
      "T=5000: $2.34 \\ (0.64)$\n"
     ]
    },
    {
     "data": {
      "application/vnd.jupyter.widget-view+json": {
       "model_id": "31d1e2c8139b477d8588dcccbb35fe46",
       "version_major": 2,
       "version_minor": 0
      },
      "text/plain": [
       "  0%|          | 0/4 [00:00<?, ?it/s]"
      ]
     },
     "metadata": {},
     "output_type": "display_data"
    },
    {
     "name": "stdout",
     "output_type": "stream",
     "text": [
      "\\httem run completed - k=2 d=1 $\\sigma$=0.1\n",
      "T=1000: $90.75 \\ (18.29)$\n",
      "T=2000: $181.49 \\ (36.58)$\n",
      "T=5000: $453.73 \\ (91.45)$\n"
     ]
    },
    {
     "data": {
      "application/vnd.jupyter.widget-view+json": {
       "model_id": "77151fca798c4388aa195d53d0515319",
       "version_major": 2,
       "version_minor": 0
      },
      "text/plain": [
       "  0%|          | 0/4 [00:00<?, ?it/s]"
      ]
     },
     "metadata": {},
     "output_type": "display_data"
    },
    {
     "name": "stdout",
     "output_type": "stream",
     "text": [
      "\\JPAalgnameshort run completed - k=3 d=1 $\\sigma$=0.1\n",
      "T=1000: $3.11 \\ (0.92)$\n",
      "T=2000: $3.96 \\ (0.72)$\n",
      "T=5000: $4.29 \\ (0.87)$\n"
     ]
    },
    {
     "data": {
      "application/vnd.jupyter.widget-view+json": {
       "model_id": "585113c0ed4e4b9290ecff07175ab645",
       "version_major": 2,
       "version_minor": 0
      },
      "text/plain": [
       "  0%|          | 0/4 [00:00<?, ?it/s]"
      ]
     },
     "metadata": {},
     "output_type": "display_data"
    },
    {
     "name": "stdout",
     "output_type": "stream",
     "text": [
      "\\JPAalgnameshortMM run completed - k=3 d=1 $\\sigma$=0.1\n",
      "T=1000: $146.65 \\ (30.93)$\n",
      "T=2000: $293.26 \\ (61.84)$\n",
      "T=5000: $733.27 \\ (154.65)$\n"
     ]
    },
    {
     "data": {
      "application/vnd.jupyter.widget-view+json": {
       "model_id": "3ad2b27d486c4ee9bd913841ad92c0a2",
       "version_major": 2,
       "version_minor": 0
      },
      "text/plain": [
       "  0%|          | 0/4 [00:00<?, ?it/s]"
      ]
     },
     "metadata": {},
     "output_type": "display_data"
    },
    {
     "name": "stdout",
     "output_type": "stream",
     "text": [
      "\\ucbone run completed - k=3 d=1 $\\sigma$=0.1\n",
      "T=1000: $3.11 \\ (0.92)$\n",
      "T=2000: $3.96 \\ (0.72)$\n",
      "T=5000: $4.29 \\ (0.87)$\n"
     ]
    },
    {
     "data": {
      "application/vnd.jupyter.widget-view+json": {
       "model_id": "fa4d380d08f04f2286eee49347a0acca",
       "version_major": 2,
       "version_minor": 0
      },
      "text/plain": [
       "  0%|          | 0/4 [00:00<?, ?it/s]"
      ]
     },
     "metadata": {},
     "output_type": "display_data"
    },
    {
     "name": "stdout",
     "output_type": "stream",
     "text": [
      "\\httem run completed - k=3 d=1 $\\sigma$=0.1\n",
      "T=1000: $146.59 \\ (30.9)$\n",
      "T=2000: $293.39 \\ (61.91)$\n",
      "T=5000: $733.3 \\ (154.65)$\n"
     ]
    },
    {
     "data": {
      "application/vnd.jupyter.widget-view+json": {
       "model_id": "9ab320b7c7234b48afbb8c3dabc1160f",
       "version_major": 2,
       "version_minor": 0
      },
      "text/plain": [
       "  0%|          | 0/4 [00:00<?, ?it/s]"
      ]
     },
     "metadata": {},
     "output_type": "display_data"
    },
    {
     "name": "stdout",
     "output_type": "stream",
     "text": [
      "\\JPAalgnameshort run completed - k=2 d=2 $\\sigma$=0.1\n",
      "T=1000: $3.34 \\ (0.69)$\n",
      "T=2000: $4.18 \\ (0.95)$\n",
      "T=5000: $4.89 \\ (1.18)$\n"
     ]
    },
    {
     "data": {
      "application/vnd.jupyter.widget-view+json": {
       "model_id": "c3cfa76143494b589bb267755d20ad40",
       "version_major": 2,
       "version_minor": 0
      },
      "text/plain": [
       "  0%|          | 0/4 [00:00<?, ?it/s]"
      ]
     },
     "metadata": {},
     "output_type": "display_data"
    },
    {
     "name": "stdout",
     "output_type": "stream",
     "text": [
      "\\JPAalgnameshortMM run completed - k=2 d=2 $\\sigma$=0.1\n",
      "T=1000: $103.85 \\ (15.71)$\n",
      "T=2000: $207.66 \\ (31.42)$\n",
      "T=5000: $519.09 \\ (78.56)$\n"
     ]
    },
    {
     "data": {
      "application/vnd.jupyter.widget-view+json": {
       "model_id": "0b5c01cbd7ea446e909a3674c186b14c",
       "version_major": 2,
       "version_minor": 0
      },
      "text/plain": [
       "  0%|          | 0/4 [00:00<?, ?it/s]"
      ]
     },
     "metadata": {},
     "output_type": "display_data"
    },
    {
     "name": "stdout",
     "output_type": "stream",
     "text": [
      "\\ucbone run completed - k=2 d=2 $\\sigma$=0.1\n",
      "T=1000: $5.73 \\ (0.55)$\n",
      "T=2000: $6.76 \\ (0.72)$\n",
      "T=5000: $8.17 \\ (1.0)$\n"
     ]
    },
    {
     "data": {
      "application/vnd.jupyter.widget-view+json": {
       "model_id": "d60f245b5a584ace9ebfeec71078e206",
       "version_major": 2,
       "version_minor": 0
      },
      "text/plain": [
       "  0%|          | 0/4 [00:00<?, ?it/s]"
      ]
     },
     "metadata": {},
     "output_type": "display_data"
    },
    {
     "name": "stdout",
     "output_type": "stream",
     "text": [
      "\\httem run completed - k=2 d=2 $\\sigma$=0.1\n",
      "T=1000: $98.8 \\ (13.59)$\n",
      "T=2000: $197.61 \\ (27.18)$\n",
      "T=5000: $494.01 \\ (67.96)$\n"
     ]
    },
    {
     "data": {
      "application/vnd.jupyter.widget-view+json": {
       "model_id": "efc9ae5e0ca9477ea39990899644acb7",
       "version_major": 2,
       "version_minor": 0
      },
      "text/plain": [
       "  0%|          | 0/4 [00:00<?, ?it/s]"
      ]
     },
     "metadata": {},
     "output_type": "display_data"
    },
    {
     "name": "stdout",
     "output_type": "stream",
     "text": [
      "\\JPAalgnameshort run completed - k=3 d=2 $\\sigma$=0.1\n",
      "T=1000: $5.34 \\ (0.7)$\n",
      "T=2000: $6.8 \\ (0.94)$\n",
      "T=5000: $8.35 \\ (1.04)$\n"
     ]
    },
    {
     "data": {
      "application/vnd.jupyter.widget-view+json": {
       "model_id": "0bbb35731d814bd786c9043d1fdf8d61",
       "version_major": 2,
       "version_minor": 0
      },
      "text/plain": [
       "  0%|          | 0/4 [00:00<?, ?it/s]"
      ]
     },
     "metadata": {},
     "output_type": "display_data"
    },
    {
     "name": "stdout",
     "output_type": "stream",
     "text": [
      "\\JPAalgnameshortMM run completed - k=3 d=2 $\\sigma$=0.1\n",
      "T=1000: $141.99 \\ (22.14)$\n",
      "T=2000: $283.94 \\ (44.21)$\n",
      "T=5000: $709.8 \\ (110.42)$\n"
     ]
    },
    {
     "data": {
      "application/vnd.jupyter.widget-view+json": {
       "model_id": "89c0cf0ea1144339a5d7bb12d539ee9e",
       "version_major": 2,
       "version_minor": 0
      },
      "text/plain": [
       "  0%|          | 0/4 [00:00<?, ?it/s]"
      ]
     },
     "metadata": {},
     "output_type": "display_data"
    },
    {
     "name": "stdout",
     "output_type": "stream",
     "text": [
      "\\ucbone run completed - k=3 d=2 $\\sigma$=0.1\n",
      "T=1000: $19.97 \\ (11.1)$\n",
      "T=2000: $34.17 \\ (21.45)$\n",
      "T=5000: $74.33 \\ (54.06)$\n"
     ]
    },
    {
     "data": {
      "application/vnd.jupyter.widget-view+json": {
       "model_id": "ec085d00e4da4fb4b3a559db193f25ef",
       "version_major": 2,
       "version_minor": 0
      },
      "text/plain": [
       "  0%|          | 0/4 [00:00<?, ?it/s]"
      ]
     },
     "metadata": {},
     "output_type": "display_data"
    },
    {
     "name": "stdout",
     "output_type": "stream",
     "text": [
      "\\httem run completed - k=3 d=2 $\\sigma$=0.1\n",
      "T=1000: $119.86 \\ (8.72)$\n",
      "T=2000: $239.81 \\ (17.5)$\n",
      "T=5000: $599.75 \\ (43.71)$\n"
     ]
    },
    {
     "data": {
      "application/vnd.jupyter.widget-view+json": {
       "model_id": "c7e31e3caec44a99b4f0ffe7a862c36b",
       "version_major": 2,
       "version_minor": 0
      },
      "text/plain": [
       "  0%|          | 0/4 [00:00<?, ?it/s]"
      ]
     },
     "metadata": {},
     "output_type": "display_data"
    },
    {
     "name": "stdout",
     "output_type": "stream",
     "text": [
      "\\JPAalgnameshort run completed - k=2 d=3 $\\sigma$=0.1\n",
      "T=1000: $2.93 \\ (0.63)$\n",
      "T=2000: $3.75 \\ (0.71)$\n",
      "T=5000: $4.69 \\ (1.05)$\n"
     ]
    },
    {
     "data": {
      "application/vnd.jupyter.widget-view+json": {
       "model_id": "77507065edbb4096a5ba1a5dc83c12a3",
       "version_major": 2,
       "version_minor": 0
      },
      "text/plain": [
       "  0%|          | 0/4 [00:00<?, ?it/s]"
      ]
     },
     "metadata": {},
     "output_type": "display_data"
    },
    {
     "name": "stdout",
     "output_type": "stream",
     "text": [
      "\\JPAalgnameshortMM run completed - k=2 d=3 $\\sigma$=0.1\n",
      "T=1000: $86.9 \\ (11.86)$\n",
      "T=2000: $173.78 \\ (23.71)$\n",
      "T=5000: $434.4 \\ (59.21)$\n"
     ]
    },
    {
     "data": {
      "application/vnd.jupyter.widget-view+json": {
       "model_id": "3f0d59d8931c4fe983fb8fa9826a1eef",
       "version_major": 2,
       "version_minor": 0
      },
      "text/plain": [
       "  0%|          | 0/4 [00:00<?, ?it/s]"
      ]
     },
     "metadata": {},
     "output_type": "display_data"
    },
    {
     "name": "stdout",
     "output_type": "stream",
     "text": [
      "\\ucbone run completed - k=2 d=3 $\\sigma$=0.1\n",
      "T=1000: $38.76 \\ (13.94)$\n",
      "T=2000: $70.79 \\ (28.72)$\n",
      "T=5000: $158.76 \\ (72.57)$\n"
     ]
    },
    {
     "data": {
      "application/vnd.jupyter.widget-view+json": {
       "model_id": "ace00c20addf4b64ab1034bcfa5fe6f6",
       "version_major": 2,
       "version_minor": 0
      },
      "text/plain": [
       "  0%|          | 0/4 [00:00<?, ?it/s]"
      ]
     },
     "metadata": {},
     "output_type": "display_data"
    },
    {
     "name": "stdout",
     "output_type": "stream",
     "text": [
      "\\httem run completed - k=2 d=3 $\\sigma$=0.1\n",
      "T=1000: $84.26 \\ (10.48)$\n",
      "T=2000: $168.55 \\ (21.03)$\n",
      "T=5000: $421.46 \\ (52.57)$\n"
     ]
    },
    {
     "data": {
      "application/vnd.jupyter.widget-view+json": {
       "model_id": "a635ad40dfa0432ca9ec50213debf599",
       "version_major": 2,
       "version_minor": 0
      },
      "text/plain": [
       "  0%|          | 0/4 [00:00<?, ?it/s]"
      ]
     },
     "metadata": {},
     "output_type": "display_data"
    },
    {
     "name": "stdout",
     "output_type": "stream",
     "text": [
      "\\JPAalgnameshort run completed - k=3 d=3 $\\sigma$=0.1\n",
      "T=1000: $5.27 \\ (0.73)$\n",
      "T=2000: $6.17 \\ (0.86)$\n",
      "T=5000: $7.8 \\ (1.08)$\n"
     ]
    },
    {
     "data": {
      "application/vnd.jupyter.widget-view+json": {
       "model_id": "f8a0324d1eda4d8f968e850e27fa31ee",
       "version_major": 2,
       "version_minor": 0
      },
      "text/plain": [
       "  0%|          | 0/4 [00:00<?, ?it/s]"
      ]
     },
     "metadata": {},
     "output_type": "display_data"
    },
    {
     "name": "stdout",
     "output_type": "stream",
     "text": [
      "\\JPAalgnameshortMM run completed - k=3 d=3 $\\sigma$=0.1\n",
      "T=1000: $153.73 \\ (25.81)$\n",
      "T=2000: $307.3 \\ (51.58)$\n",
      "T=5000: $768.19 \\ (128.92)$\n"
     ]
    },
    {
     "data": {
      "application/vnd.jupyter.widget-view+json": {
       "model_id": "c7dff86d8f8148669cf6885a6e18ed18",
       "version_major": 2,
       "version_minor": 0
      },
      "text/plain": [
       "  0%|          | 0/4 [00:00<?, ?it/s]"
      ]
     },
     "metadata": {},
     "output_type": "display_data"
    },
    {
     "name": "stdout",
     "output_type": "stream",
     "text": [
      "\\ucbone run completed - k=3 d=3 $\\sigma$=0.1\n",
      "T=1000: $73.66 \\ (9.02)$\n",
      "T=2000: $136.35 \\ (18.2)$\n",
      "T=5000: $315.36 \\ (46.12)$\n"
     ]
    },
    {
     "data": {
      "application/vnd.jupyter.widget-view+json": {
       "model_id": "d1941dc5202847a6a17182afe37df9b8",
       "version_major": 2,
       "version_minor": 0
      },
      "text/plain": [
       "  0%|          | 0/4 [00:00<?, ?it/s]"
      ]
     },
     "metadata": {},
     "output_type": "display_data"
    },
    {
     "name": "stdout",
     "output_type": "stream",
     "text": [
      "\\httem run completed - k=3 d=3 $\\sigma$=0.1\n",
      "T=1000: $130.01 \\ (20.28)$\n",
      "T=2000: $260.01 \\ (40.6)$\n",
      "T=5000: $650.07 \\ (101.42)$\n"
     ]
    },
    {
     "data": {
      "image/png": "[encoded data removed]",
      "text/plain": [
       "<Figure size 432x288 with 1 Axes>"
      ]
     },
     "metadata": {
      "needs_background": "light"
     },
     "output_type": "display_data"
    },
    {
     "data": {
      "image/png": "[encoded data removed]",
      "text/plain": [
       "<Figure size 432x288 with 1 Axes>"
      ]
     },
     "metadata": {
      "needs_background": "light"
     },
     "output_type": "display_data"
    },
    {
     "data": {
      "image/png": "[encoded data removed]",
      "text/plain": [
       "<Figure size 432x288 with 1 Axes>"
      ]
     },
     "metadata": {
      "needs_background": "light"
     },
     "output_type": "display_data"
    },
    {
     "data": {
      "image/png": "[encoded data removed]",
      "text/plain": [
       "<Figure size 432x288 with 1 Axes>"
      ]
     },
     "metadata": {
      "needs_background": "light"
     },
     "output_type": "display_data"
    },
    {
     "data": {
      "image/png": "[encoded data removed]",
      "text/plain": [
       "<Figure size 432x288 with 1 Axes>"
      ]
     },
     "metadata": {
      "needs_background": "light"
     },
     "output_type": "display_data"
    },
    {
     "data": {
      "image/png": "[encoded data removed]",
      "text/plain": [
       "<Figure size 432x288 with 1 Axes>"
      ]
     },
     "metadata": {
      "needs_background": "light"
     },
     "output_type": "display_data"
    }
   ],
   "source": [
    "# BASIC SETTING FOR EXPERIMENTS\n",
    "fucb = '\\\\JPAalgnameshort'\n",
    "fucbMM = '\\\\JPAalgnameshortMM'\n",
    "ucbone = '\\\\ucbone'\n",
    "httem = '\\\\httem'\n",
    "algs = [fucb, fucbMM, ucbone, httem]\n",
    "# T = 10000\n",
    "# checkpoints = [1000, 5000, 10000]\n",
    "# n_trials = 50\n",
    "# seed = 0\n",
    "# k_list = [3, 5]\n",
    "# d_list = [1, 2, 3, 4]\n",
    "# bounded_list = [True, False]   \n",
    "# do_subsampling = True\n",
    "\n",
    "# OVERRIDE FOR TESTING PURPOSE TO SPEED UP THE RUNS\n",
    "T = 10000\n",
    "checkpoints = [1000, 2000, 5000]\n",
    "bounded_list = [False] \n",
    "algs = [fucb, fucbMM, ucbone, httem]\n",
    "n_trials = 4\n",
    "k_list = [2, 3]\n",
    "d_list = [1, 2, 3]\n",
    "do_subsampling = False\n",
    "    \n",
    "result_table = {}\n",
    "\n",
    "for bounded in bounded_list:\n",
    "\n",
    "    result_table[bounded] = {}\n",
    "    \n",
    "    if bounded: \n",
    "        sigma = 0.5 # fixed for bernoulli\n",
    "    else:\n",
    "        sigma = 0.1\n",
    "    \n",
    "    for d in d_list:\n",
    "\n",
    "        result_table[bounded][d] = {}\n",
    "\n",
    "        for k in k_list:\n",
    "\n",
    "            result_table[bounded][d][k] = {}\n",
    "\n",
    "            arms_vect = k * np.ones(d, dtype=int)\n",
    "\n",
    "            # F-UCB INIT\n",
    "            agent_factored = FactoredUCBAgent(arms_vect, d, sigma)\n",
    "\n",
    "            # F-UCB-MM INIT\n",
    "            agent_factored_MM = FactoredUCBAgentMM(k, d, T, sigma=sigma, bounded=bounded)\n",
    "            \n",
    "            # UCB1 INIT\n",
    "            agent_ucb = UCB1Agent(d*k, sigma)\n",
    "            action_mx = create_action_matrix(d, k)\n",
    "\n",
    "            # HT-TEM INIT\n",
    "            agent_ht_tem = TMRobustUCBAgent(d*k, 1, (1+sigma**2)**d)\n",
    "            \n",
    "            mean_cum_expected_regret = {}\n",
    "            std_cum_expected_regret = {}\n",
    "            \n",
    "            for alg in algs:\n",
    "\n",
    "                result_table[bounded][d][k][alg] = {}\n",
    "\n",
    "                env = FactoredEnv(arms_vect, d, sigma=sigma, bounded=bounded)\n",
    "\n",
    "                inst_expected_regret = np.zeros((n_trials, T))\n",
    "                \n",
    "                # for trial_i in range(n_trials):\n",
    "                for trial_i in tqdm(range(n_trials)):\n",
    "                \n",
    "                    vals_expected = env.get_expected()\n",
    "                    max_expected = compute_max_expected(vals_expected)\n",
    "\n",
    "                    for t in range(T):\n",
    "\n",
    "                        if alg == ucbone:\n",
    "                            action = action_mx[agent_ucb.pull_arm(), :]\n",
    "                            agent_ucb.update(np.prod(env.step(action)))\n",
    "                        elif alg == fucb:\n",
    "                            action = agent_factored.pull_arm()\n",
    "                            agent_factored.update(env.step(action))\n",
    "                        elif alg == fucbMM:\n",
    "                            action = agent_factored_MM.pull_arm()\n",
    "                            agent_factored_MM.update(env.step(action))\n",
    "                        elif alg == httem:\n",
    "                            action = action_mx[agent_ht_tem.pull_arm(), :]\n",
    "                            agent_ht_tem.update(np.prod(env.step(action)))\n",
    "                        else:\n",
    "                            raise ValueError('Error in selecting algorithm')\n",
    "\n",
    "                        inst_expected_regret[trial_i, t] = max_expected - get_pulled_expected(\n",
    "                            vals_expected, action)\n",
    "                    \n",
    "                    # I reset all the agents, becuase i do not know which one \n",
    "                    # i am using for the sake of simplicity\n",
    "                    agent_ucb.reset()\n",
    "                    agent_factored.reset()\n",
    "                    agent_factored_MM.reset()\n",
    "                    agent_ht_tem.reset()\n",
    "                    \n",
    "                    if trial_i < n_trials - 1:\n",
    "                        env.reset()\n",
    "                \n",
    "                # maybe replace with cumsum with correct axis\n",
    "                cum_expected_regret = np.zeros(inst_expected_regret.shape)\n",
    "                cum_expected_regret[:, 0] = inst_expected_regret[:, 0]\n",
    "                for i in range(1, T):\n",
    "                    cum_expected_regret[:, i] = inst_expected_regret[:, i] + cum_expected_regret[:, i-1]\n",
    "\n",
    "                mean_cum_expected_regret[alg] = np.mean(cum_expected_regret, axis=0)\n",
    "                std_cum_expected_regret[alg] = np.std(cum_expected_regret, axis=0) / np.sqrt(n_trials)\n",
    "\n",
    "                print('{} run completed - k={} d={} $\\sigma$={}'.format(alg, k, d, sigma))\n",
    "                for i in checkpoints:\n",
    "                    result_table[bounded][d][k][alg][i] = '${} \\ ({})$   '.format(\n",
    "                        round(mean_cum_expected_regret[alg][i-1], 2), \n",
    "                        round(std_cum_expected_regret[alg][i-1], 2)\n",
    "                    )\n",
    "                    print('T={}: ${} \\ ({})$'.format(i, round(mean_cum_expected_regret[alg][i-1], 2), \n",
    "                                                  round(std_cum_expected_regret[alg][i-1], 2)))\n",
    "\n",
    "            plt.figure()\n",
    "            if do_subsampling:\n",
    "                subsample = 50\n",
    "                assert T % subsample == 0\n",
    "                x_plt = np.linspace(0, T-1, int(T/subsample), dtype=int)\n",
    "            else:\n",
    "                x_plt = np.linspace(0, T-1, T, dtype=int)\n",
    "            for alg in algs:\n",
    "                plt.plot(x_plt, mean_cum_expected_regret[alg][x_plt], \n",
    "                         label=alg)\n",
    "                plt.fill_between(x_plt, \n",
    "                                 mean_cum_expected_regret[alg][x_plt] - std_cum_expected_regret[alg][x_plt], \n",
    "                                 mean_cum_expected_regret[alg][x_plt] + std_cum_expected_regret[alg][x_plt], \n",
    "                                 alpha=0.3)\n",
    "            plt.legend()\n",
    "            plt.xlabel('Rounds')\n",
    "            plt.ylabel('Regret')\n",
    "            plt.title('bounded={} k={} d={} $\\sigma$={}'.format(bounded, k, d, sigma))\n",
    "            if bounded:\n",
    "                save_str = 'results/bounded_k{}_d{}'.format(k, d)\n",
    "            else:\n",
    "                save_str = 'results/subgauss_k{}_d{}'.format(k, d)\n",
    "            plt.savefig(save_str + '.png')\n",
    "            tkz.save(save_str + '.tex')"
   ]
  },
  {
   "cell_type": "code",
   "execution_count": 4,
   "id": "46dc7c88",
   "metadata": {
    "scrolled": false
   },
   "outputs": [
    {
     "name": "stdout",
     "output_type": "stream",
     "text": [
      "d= \t k= \t T=\t\t\\JPAalgnameshort\t\t\t\\JPAalgnameshortMM\t\t\t\\ucbone\t\t\t\\httem\t\t\t\n",
      "$1$ & \t $2$ & \t $1000$ \t\t& $1.73 \\ (0.45)$   \t& $90.75 \\ (18.29)$   \t& $1.73 \\ (0.45)$   \t& $90.75 \\ (18.29)$   \t\\\\\n",
      "\\cmidrule{3-10}\n",
      "$1$ & \t $2$ & \t $2000$ \t\t& $2.1 \\ (0.62)$   \t& $181.49 \\ (36.58)$   \t& $2.1 \\ (0.62)$   \t& $181.49 \\ (36.58)$   \t\\\\\n",
      "\\cmidrule{3-10}\n",
      "$1$ & \t $2$ & \t $5000$ \t\t& $2.34 \\ (0.64)$   \t& $453.73 \\ (91.45)$   \t& $2.34 \\ (0.64)$   \t& $453.73 \\ (91.45)$   \t\\\\\n",
      "\\cmidrule{2-10}\n",
      "$1$ & \t $3$ & \t $1000$ \t\t& $3.11 \\ (0.92)$   \t& $146.65 \\ (30.93)$   \t& $3.11 \\ (0.92)$   \t& $146.59 \\ (30.9)$   \t\\\\\n",
      "\\cmidrule{3-10}\n",
      "$1$ & \t $3$ & \t $2000$ \t\t& $3.96 \\ (0.72)$   \t& $293.26 \\ (61.84)$   \t& $3.96 \\ (0.72)$   \t& $293.39 \\ (61.91)$   \t\\\\\n",
      "\\cmidrule{3-10}\n",
      "$1$ & \t $3$ & \t $5000$ \t\t& $4.29 \\ (0.87)$   \t& $733.27 \\ (154.65)$   \t& $4.29 \\ (0.87)$   \t& $733.3 \\ (154.65)$   \t\\\\\n",
      "\\cmidrule{2-10}\n",
      "\\cmidrule{1-10}\n",
      "$2$ & \t $2$ & \t $1000$ \t\t& $3.34 \\ (0.69)$   \t& $103.85 \\ (15.71)$   \t& $5.73 \\ (0.55)$   \t& $98.8 \\ (13.59)$   \t\\\\\n",
      "\\cmidrule{3-10}\n",
      "$2$ & \t $2$ & \t $2000$ \t\t& $4.18 \\ (0.95)$   \t& $207.66 \\ (31.42)$   \t& $6.76 \\ (0.72)$   \t& $197.61 \\ (27.18)$   \t\\\\\n",
      "\\cmidrule{3-10}\n",
      "$2$ & \t $2$ & \t $5000$ \t\t& $4.89 \\ (1.18)$   \t& $519.09 \\ (78.56)$   \t& $8.17 \\ (1.0)$   \t& $494.01 \\ (67.96)$   \t\\\\\n",
      "\\cmidrule{2-10}\n",
      "$2$ & \t $3$ & \t $1000$ \t\t& $5.34 \\ (0.7)$   \t& $141.99 \\ (22.14)$   \t& $19.97 \\ (11.1)$   \t& $119.86 \\ (8.72)$   \t\\\\\n",
      "\\cmidrule{3-10}\n",
      "$2$ & \t $3$ & \t $2000$ \t\t& $6.8 \\ (0.94)$   \t& $283.94 \\ (44.21)$   \t& $34.17 \\ (21.45)$   \t& $239.81 \\ (17.5)$   \t\\\\\n",
      "\\cmidrule{3-10}\n",
      "$2$ & \t $3$ & \t $5000$ \t\t& $8.35 \\ (1.04)$   \t& $709.8 \\ (110.42)$   \t& $74.33 \\ (54.06)$   \t& $599.75 \\ (43.71)$   \t\\\\\n",
      "\\cmidrule{2-10}\n",
      "\\cmidrule{1-10}\n",
      "$3$ & \t $2$ & \t $1000$ \t\t& $2.93 \\ (0.63)$   \t& $86.9 \\ (11.86)$   \t& $38.76 \\ (13.94)$   \t& $84.26 \\ (10.48)$   \t\\\\\n",
      "\\cmidrule{3-10}\n",
      "$3$ & \t $2$ & \t $2000$ \t\t& $3.75 \\ (0.71)$   \t& $173.78 \\ (23.71)$   \t& $70.79 \\ (28.72)$   \t& $168.55 \\ (21.03)$   \t\\\\\n",
      "\\cmidrule{3-10}\n",
      "$3$ & \t $2$ & \t $5000$ \t\t& $4.69 \\ (1.05)$   \t& $434.4 \\ (59.21)$   \t& $158.76 \\ (72.57)$   \t& $421.46 \\ (52.57)$   \t\\\\\n",
      "\\cmidrule{2-10}\n",
      "$3$ & \t $3$ & \t $1000$ \t\t& $5.27 \\ (0.73)$   \t& $153.73 \\ (25.81)$   \t& $73.66 \\ (9.02)$   \t& $130.01 \\ (20.28)$   \t\\\\\n",
      "\\cmidrule{3-10}\n",
      "$3$ & \t $3$ & \t $2000$ \t\t& $6.17 \\ (0.86)$   \t& $307.3 \\ (51.58)$   \t& $136.35 \\ (18.2)$   \t& $260.01 \\ (40.6)$   \t\\\\\n",
      "\\cmidrule{3-10}\n",
      "$3$ & \t $3$ & \t $5000$ \t\t& $7.8 \\ (1.08)$   \t& $768.19 \\ (128.92)$   \t& $315.36 \\ (46.12)$   \t& $650.07 \\ (101.42)$   \t\\\\\n",
      "\\cmidrule{2-10}\n",
      "\\cmidrule{1-10}\n"
     ]
    }
   ],
   "source": [
    "print('d= \\t k= \\t T=\\t\\t', end='')\n",
    "[print(alg, end='\\t\\t\\t') for alg in algs]\n",
    "print('')\n",
    "\n",
    "for d in d_list:\n",
    "    for k in k_list:\n",
    "        for T_val in checkpoints:\n",
    "            print('${}$ & \\t ${}$ & \\t ${}$ \\t\\t'.format(d, k, T_val), end='')\n",
    "            for bounded in bounded_list:\n",
    "                for alg in algs:\n",
    "                    print('&', result_table[bounded][d][k][alg][T_val], end='\\t')\n",
    "            if T_val == checkpoints[-1]:\n",
    "                print('\\\\\\\\\\n\\\\cmidrule{2-10}')\n",
    "            else:\n",
    "                print('\\\\\\\\\\n\\\\cmidrule{3-10}')\n",
    "    print('\\cmidrule{1-10}')"
   ]
  },
  {
   "cell_type": "markdown",
   "metadata": {},
   "source": [
    "d= \t k= \t T=\t\t\\JPAalgnameshort\t\t\t\\JPAalgnameshortMM\t\t\t\\ucbone\t\t\t\\httem\t\t\t\n",
    "$1$ & \t $3$ & \t $1000$ \t\t& $25.61 \\ (1.0)$   \t& $25.6 \\ (1.01)$   \t& $25.61 \\ (1.0)$   \t& $117.94 \\ (6.28)$   \t& $2.72 \\ (0.2)$   \t& $107.35 \\ (10.14)$   \t& $2.72 \\ (0.2)$   \t& $116.96 \\ (6.26)$   \t\\\\\n",
    "\\cmidrule{3-10}\n",
    "$1$ & \t $3$ & \t $5000$ \t\t& $51.25 \\ (2.6)$   \t& $51.35 \\ (2.59)$   \t& $51.25 \\ (2.6)$   \t& $377.0 \\ (14.51)$   \t& $4.44 \\ (0.47)$   \t& $394.77 \\ (47.56)$   \t& $4.44 \\ (0.47)$   \t& $376.82 \\ (14.58)$   \t\\\\\n",
    "\\cmidrule{3-10}\n",
    "$1$ & \t $3$ & \t $10000$ \t\t& $65.3 \\ (3.9)$   \t& $65.19 \\ (3.91)$   \t& $65.3 \\ (3.9)$   \t& $575.0 \\ (18.42)$   \t& $5.52 \\ (0.67)$   \t& $679.17 \\ (90.19)$   \t& $5.52 \\ (0.67)$   \t& $575.02 \\ (18.17)$   \t\\\\\n",
    "\\cmidrule{2-10}\n",
    "$1$ & \t $5$ & \t $1000$ \t\t& $46.67 \\ (1.01)$   \t& $46.77 \\ (0.97)$   \t& $46.67 \\ (1.01)$   \t& $178.52 \\ (6.84)$   \t& $5.18 \\ (0.22)$   \t& $143.37 \\ (11.4)$   \t& $5.18 \\ (0.22)$   \t& $178.26 \\ (6.87)$   \t\\\\\n",
    "\\cmidrule{3-10}\n",
    "$1$ & \t $5$ & \t $5000$ \t\t& $93.23 \\ (2.83)$   \t& $93.05 \\ (2.95)$   \t& $93.23 \\ (2.83)$   \t& $640.81 \\ (21.79)$   \t& $7.73 \\ (0.52)$   \t& $492.95 \\ (58.95)$   \t& $7.73 \\ (0.52)$   \t& $640.03 \\ (21.48)$   \t\\\\\n",
    "\\cmidrule{3-10}\n",
    "$1$ & \t $5$ & \t $10000$ \t\t& $118.27 \\ (4.42)$   \t& $117.8 \\ (4.52)$   \t& $118.27 \\ (4.42)$   \t& $1013.28 \\ (29.75)$   \t& $9.16 \\ (0.7)$   \t& $826.64 \\ (116.34)$   \t& $9.16 \\ (0.7)$   \t& $1016.67 \\ (29.11)$   \t\\\\\n",
    "\\cmidrule{2-10}\n",
    "\\cmidrule{1-10}\n",
    "$2$ & \t $3$ & \t $1000$ \t\t& $44.65 \\ (1.24)$   \t& $127.48 \\ (14.51)$   \t& $99.05 \\ (11.05)$   \t& $218.0 \\ (11.02)$   \t& $4.67 \\ (0.2)$   \t& $267.74 \\ (14.63)$   \t& $42.19 \\ (10.99)$   \t& $219.14 \\ (11.05)$   \t\\\\\n",
    "\\cmidrule{3-10}\n",
    "$2$ & \t $3$ & \t $5000$ \t\t& $87.24 \\ (2.66)$   \t& $512.17 \\ (69.49)$   \t& $300.46 \\ (56.14)$   \t& $880.79 \\ (48.54)$   \t& $7.14 \\ (0.48)$   \t& $1339.73 \\ (71.42)$   \t& $186.56 \\ (54.39)$   \t& $884.31 \\ (48.42)$   \t\\\\\n",
    "\\cmidrule{3-10}\n",
    "$2$ & \t $3$ & \t $10000$ \t\t& $111.55 \\ (4.17)$   \t& $969.79 \\ (138.09)$   \t& $510.31 \\ (111.08)$   \t& $1518.28 \\ (97.52)$   \t& $8.41 \\ (0.66)$   \t& $2683.38 \\ (142.41)$   \t& $364.8 \\ (108.53)$   \t& $1524.1 \\ (97.12)$   \t\\\\\n",
    "\\cmidrule{2-10}\n",
    "$2$ & \t $5$ & \t $1000$ \t\t& $83.73 \\ (1.81)$   \t& $162.88 \\ (13.63)$   \t& $172.01 \\ (15.05)$   \t& $308.8 \\ (14.12)$   \t& $9.38 \\ (0.35)$   \t& $353.87 \\ (15.53)$   \t& $87.39 \\ (15.22)$   \t& $309.58 \\ (14.15)$   \t\\\\\n",
    "\\cmidrule{3-10}\n",
    "$2$ & \t $5$ & \t $5000$ \t\t& $165.56 \\ (4.05)$   \t& $573.04 \\ (65.84)$   \t& $575.82 \\ (77.56)$   \t& $1353.7 \\ (68.88)$   \t& $14.1 \\ (0.71)$   \t& $1785.66 \\ (74.72)$   \t& $396.13 \\ (75.5)$   \t& $1355.17 \\ (68.83)$   \t\\\\\n",
    "\\cmidrule{3-10}\n",
    "$2$ & \t $5$ & \t $10000$ \t\t& $213.49 \\ (6.58)$   \t& $1046.43 \\ (129.32)$   \t& $1016.49 \\ (154.19)$   \t& $2447.43 \\ (139.31)$   \t& $16.89 \\ (0.98)$   \t& $3576.17 \\ (148.54)$   \t& $778.71 \\ (150.81)$   \t& $2448.84 \\ (139.1)$   \t\\\\\n",
    "\\cmidrule{2-10}\n",
    "\\cmidrule{1-10}\n",
    "$3$ & \t $3$ & \t $1000$ \t\t& $51.66 \\ (1.88)$   \t& $142.14 \\ (13.23)$   \t& $210.43 \\ (19.01)$   \t& $277.61 \\ (19.71)$   \t& $5.43 \\ (0.24)$   \t& $294.03 \\ (17.07)$   \t& $148.88 \\ (18.9)$   \t& $277.12 \\ (19.72)$   \t\\\\\n",
    "\\cmidrule{3-10}\n",
    "$3$ & \t $3$ & \t $5000$ \t\t& $103.67 \\ (3.89)$   \t& $534.71 \\ (67.04)$   \t& $880.13 \\ (95.1)$   \t& $1300.12 \\ (95.92)$   \t& $8.49 \\ (0.48)$   \t& $1476.91 \\ (85.48)$   \t& $699.71 \\ (94.05)$   \t& $1299.32 \\ (96.16)$   \t\\\\\n",
    "\\cmidrule{3-10}\n",
    "$3$ & \t $3$ & \t $10000$ \t\t& $130.95 \\ (5.37)$   \t& $955.86 \\ (123.77)$   \t& $1641.97 \\ (190.3)$   \t& $2483.36 \\ (190.2)$   \t& $10.17 \\ (0.75)$   \t& $2964.56 \\ (171.11)$   \t& $1381.59 \\ (187.85)$   \t& $2478.67 \\ (190.41)$   \t\\\\\n",
    "\\cmidrule{2-10}\n",
    "$3$ & \t $5$ & \t $1000$ \t\t& $104.88 \\ (2.49)$   \t& $248.56 \\ (15.53)$   \t& $328.22 \\ (19.28)$   \t& $396.65 \\ (17.87)$   \t& $11.98 \\ (0.45)$   \t& $413.05 \\ (18.36)$   \t& $235.9 \\ (21.03)$   \t& $397.0 \\ (17.84)$   \t\\\\\n",
    "\\cmidrule{3-10}\n",
    "$3$ & \t $5$ & \t $5000$ \t\t& $214.88 \\ (5.2)$   \t& $810.9 \\ (75.49)$   \t& $1385.42 \\ (104.27)$   \t& $1901.5 \\ (90.04)$   \t& $18.36 \\ (0.92)$   \t& $2067.63 \\ (91.3)$   \t& $1110.88 \\ (104.76)$   \t& $1902.34 \\ (89.67)$   \t\\\\\n",
    "\\cmidrule{3-10}\n",
    "$3$ & \t $5$ & \t $10000$ \t\t& $274.16 \\ (7.57)$   \t& $1395.04 \\ (147.59)$   \t& $2586.55 \\ (211.12)$   \t& $3683.9 \\ (182.26)$   \t& $21.63 \\ (1.14)$   \t& $4139.21 \\ (182.21)$   \t& $2193.9 \\ (209.1)$   \t& $3684.07 \\ (181.57)$   \t\\\\\n",
    "\\cmidrule{2-10}\n",
    "\\cmidrule{1-10}\n",
    "$4$ & \t $3$ & \t $1000$ \t\t& $54.1 \\ (2.17)$   \t& $173.18 \\ (13.91)$   \t& $231.93 \\ (15.56)$   \t& $272.18 \\ (16.0)$   \t& $6.13 \\ (0.26)$   \t& $279.87 \\ (16.5)$   \t& $171.85 \\ (15.59)$   \t& $272.43 \\ (15.96)$   \t\\\\\n",
    "\\cmidrule{3-10}\n",
    "$4$ & \t $3$ & \t $5000$ \t\t& $109.61 \\ (4.26)$   \t& $627.08 \\ (69.6)$   \t& $1002.83 \\ (79.82)$   \t& $1318.72 \\ (78.73)$   \t& $9.58 \\ (0.55)$   \t& $1398.72 \\ (82.36)$   \t& $799.05 \\ (77.62)$   \t& $1318.71 \\ (78.49)$   \t\\\\\n",
    "\\cmidrule{3-10}\n",
    "$4$ & \t $3$ & \t $10000$ \t\t& $141.67 \\ (5.39)$   \t& $1123.03 \\ (139.34)$   \t& $1886.23 \\ (158.47)$   \t& $2571.6 \\ (156.35)$   \t& $11.63 \\ (0.75)$   \t& $2797.29 \\ (164.68)$   \t& $1571.24 \\ (154.96)$   \t& $2571.89 \\ (155.9)$   \t\\\\\n",
    "\\cmidrule{2-10}\n",
    "$4$ & \t $5$ & \t $1000$ \t\t& $117.6 \\ (3.48)$   \t& $316.29 \\ (17.18)$   \t& $381.58 \\ (20.25)$   \t& $413.28 \\ (19.76)$   \t& $13.74 \\ (0.49)$   \t& $427.8 \\ (19.73)$   \t& $306.4 \\ (21.47)$   \t& $413.14 \\ (19.78)$   \t\\\\\n",
    "\\cmidrule{3-10}\n",
    "$4$ & \t $5$ & \t $5000$ \t\t& $247.53 \\ (6.58)$   \t& $1134.93 \\ (87.45)$   \t& $1741.2 \\ (105.7)$   \t& $2034.95 \\ (99.14)$   \t& $20.96 \\ (0.88)$   \t& $2138.68 \\ (98.48)$   \t& $1440.24 \\ (106.57)$   \t& $2034.1 \\ (99.08)$   \t\\\\\n",
    "\\cmidrule{3-10}\n",
    "$4$ & \t $5$ & \t $10000$ \t\t& $318.79 \\ (8.67)$   \t& $1882.25 \\ (158.54)$   \t& $3319.16 \\ (213.61)$   \t& $4023.06 \\ (199.04)$   \t& $24.5 \\ (1.12)$   \t& $4277.27 \\ (196.91)$   \t& $2840.05 \\ (212.48)$   \t& $4021.3 \\ (198.53)$   \t\\\\\n",
    "\\cmidrule{2-10}\n",
    "\\cmidrule{1-10}"
   ]
  }
 ],
 "metadata": {
  "kernelspec": {
   "display_name": "Python 3 (ipykernel)",
   "language": "python",
   "name": "python3"
  },
  "language_info": {
   "codemirror_mode": {
    "name": "ipython",
    "version": 3
   },
   "file_extension": ".py",
   "mimetype": "text/x-python",
   "name": "python",
   "nbconvert_exporter": "python",
   "pygments_lexer": "ipython3",
   "version": "3.10.12"
  }
 },
 "nbformat": 4,
 "nbformat_minor": 5
}
