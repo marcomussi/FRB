{
 "cells": [
  {
   "cell_type": "code",
   "execution_count": 1,
   "id": "52278476",
   "metadata": {},
   "outputs": [
    {
     "name": "stdout",
     "output_type": "stream",
     "text": [
      "Moving Current Directory from /home/simone/Projects/research/FRB/notebooks to /home/simone/Projects/research/FRB\n"
     ]
    }
   ],
   "source": [
    "import numpy as np\n",
    "import math\n",
    "from tqdm.auto import tqdm\n",
    "import matplotlib.pyplot as plt\n",
    "import tikzplotlib as tkz\n",
    "import warnings\n",
    "warnings.filterwarnings(\"ignore\")\n",
    "\n",
    "import os, sys\n",
    "\n",
    "_, filename = os.path.split(os.getcwd())\n",
    "if filename == 'notebooks':\n",
    "    old_dir = os.getcwd()\n",
    "    os.chdir('../')\n",
    "    print('Moving Current Directory from ' + old_dir + ' to ' + os.getcwd())\n",
    "else:\n",
    "    print('Current Directory is ' + os.getcwd())\n",
    "\n",
    "sys.path.append('./')  \n",
    "\n",
    "from FRB.agents import UCB1Agent, FactoredUCBAgent, TEA #, FactoredUCBAgentMM\n",
    "from FRB.env import FactoredEnv\n",
    "from FRB.utils import get_pulled_expected, compute_max_expected, create_action_matrix, get_sigma_square_eq_max"
   ]
  },
  {
   "cell_type": "code",
   "execution_count": 2,
   "id": "6142cda6",
   "metadata": {},
   "outputs": [],
   "source": [
    "class FactoredUCBAgentMM():\n",
    "    \"\"\"\n",
    "    This class implements the FRB MM optimal algorithm in its anytime\n",
    "    version for bounded variables\n",
    "    \"\"\"\n",
    "    def __init__(self, k, d, time_horizon, sigma=0.5,\n",
    "                 max_reward=1, exploration_alpha=4, bounded=True):\n",
    "        self.k = k\n",
    "        self.d = d\n",
    "        self.T = time_horizon\n",
    "        self.max_reward = max_reward\n",
    "        if bounded:\n",
    "            self.sigma = sigma\n",
    "        else:\n",
    "            self.sigma2 = (1 + sigma**2)**d\n",
    "            self.sigma = np.sqrt(self.sigma2)\n",
    "        self.exploration_alpha = exploration_alpha\n",
    "        self.num_actions = self.k ** self.d\n",
    "        self.bounded = bounded\n",
    "        # Creation of the action matrix\n",
    "        self.action_matrix = np.zeros(\n",
    "            (self.num_actions, self.d), dtype=int\n",
    "        )\n",
    "        for i in range(self.d):\n",
    "            vect = -1 * np.ones(self.k**(i+1))\n",
    "            external_repeats = int(self.k**(self.d-(i+1)))\n",
    "            internal_repeats = self.k**i\n",
    "            for j in range(self.k):\n",
    "                vect[j*internal_repeats:(j+1)*internal_repeats] = j\n",
    "            vect_new = np.copy(vect).reshape(-1, 1)\n",
    "            for _ in range(external_repeats-1):\n",
    "                vect_new = np.vstack((vect_new, vect.reshape(-1, 1)))\n",
    "            self.action_matrix[:, i] = vect_new.ravel()\n",
    "        self.reset()\n",
    "\n",
    "    def reset(self):\n",
    "        self.t = 1\n",
    "        self.last_pull = None\n",
    "        self.n_min_pull = np.zeros(self.num_actions, dtype=int)\n",
    "        self.n_pulls = np.zeros((self.d, self.k), dtype=int)\n",
    "        self.observations = -1 * np.ones((self.d, self.k, self.T), dtype=int)\n",
    "        self.virtual_pulls_sum = np.zeros(self.num_actions)\n",
    "\n",
    "    def pull_arm(self):\n",
    "        # if self.bounded:\n",
    "        #     for i in range(self.num_actions):\n",
    "        #         action_vector = self.action_matrix[i, :]\n",
    "        #         new_min_pull = self.n_pulls[0, action_vector[0]]\n",
    "        #         for j in range(1, self.d):\n",
    "        #             new_min_pull = min(new_min_pull, self.n_pulls[j, action_vector[j]])\n",
    "        #         if new_min_pull != self.n_min_pull[i]:\n",
    "        #             self.n_min_pull[i] = new_min_pull\n",
    "        #             aux = 1\n",
    "        #             for j in range(self.d):\n",
    "        #                 aux *= self.observations[j, self.last_pull[j], self.n_min_pull[i]-1]\n",
    "        #             self.virtual_pulls_sum[i] += aux\n",
    "        #     mean = self.virtual_pulls_sum / self.n_min_pull\n",
    "        #     ucb = mean + self.sigma * np.sqrt(self.exploration_alpha * math.log(self.t) / self.n_min_pull)\n",
    "\n",
    "        # else:\n",
    "        #     for i in range(self.num_actions):\n",
    "        #         action_vector = self.action_matrix[i, :]\n",
    "        #         new_min_pull = self.n_pulls[0, action_vector[0]]\n",
    "        #         for j in range(1, self.d):\n",
    "        #             new_min_pull = min(new_min_pull, self.n_pulls[j, action_vector[j]])\n",
    "        #         if new_min_pull != self.n_min_pull[i]:\n",
    "        #             self.n_min_pull[i] = new_min_pull\n",
    "\n",
    "        #             if self.last_pull is not None and (action_vector == self.last_pull).any() and self.n_min_pull[i]>0:\n",
    "        #                 _observations = np.zeros((self.d, self.n_min_pull[i]-1))\n",
    "        #                 for h in range(self.d):\n",
    "        #                     _observations[h, :] = self.observations[h,action_vector[h],:self.n_min_pull[i]-1]\n",
    "        #                 x = np.prod(_observations, axis = 0)\n",
    "        #                 # self.virtual_pulls_sum[i] = self.trimmed_mean(x, self.sigma, 1/self.T, 1)\n",
    "        #                 self.virtual_pulls_sum[i] = np.mean(np.where(np.abs(x)<= self.threshold_lookup(self.t, 1),\n",
    "        #                                           x, 0))\n",
    "                    \n",
    "        #     mean = self.virtual_pulls_sum\n",
    "        #     ucb = mean + self.sigma * np.sqrt(4*self.exploration_alpha * math.log(self.t**2) / self.n_min_pull)\n",
    "\n",
    "        if self.bounded:\n",
    "            pass\n",
    "        else:\n",
    "            for i in range(self.num_actions):\n",
    "                action_vector = self.action_matrix[i, :]\n",
    "                # Check if any element of action_vector has been pulled\n",
    "                if self.last_pull is not None and (action_vector == self.last_pull).any():\n",
    "                    # Check if the equivalent number of pulls of action_vector changes\n",
    "                    new_min_pull = self.n_pulls[0, action_vector[0]]\n",
    "                    for j in range(1, self.d):\n",
    "                        new_min_pull = min(new_min_pull, self.n_pulls[j, action_vector[j]])\n",
    "                    \n",
    "                    if new_min_pull > self.n_min_pull[i]:\n",
    "                        self.n_min_pull[i] = new_min_pull\n",
    "            for i in range(self.num_actions):\n",
    "                # Update estimated mean\n",
    "                _observations = np.zeros((self.d, self.n_min_pull[i]))\n",
    "            \n",
    "                for h in range(self.d):\n",
    "                    _observations[h, :] = self.observations[h,action_vector[h],:self.n_min_pull[i]]\n",
    "                \n",
    "                x = np.prod(_observations, axis = 0)\n",
    "                # self.virtual_pulls_sum[i] = self.trimmed_mean(x, self.sigma, 1/self.T, 1)\n",
    "                self.virtual_pulls_sum[i] = np.mean(np.where(np.abs(x) <= self.threshold_lookup(self.t, 1), x, 0))\n",
    "                \n",
    "            mean = self.virtual_pulls_sum\n",
    "            # ucb = mean + self.sigma * np.sqrt(2 * self.exploration_alpha * math.log(self.t) / self.n_min_pull)\n",
    "\n",
    "            ucb = mean + 4*self.sigma2**(1/2) * (2*np.log(self.t)/self.n_min_pull)**(1/2)\n",
    "\n",
    "\n",
    "            \n",
    "        self.last_pull = self.action_matrix[int(np.argmax(ucb)), :]\n",
    "        return self.last_pull\n",
    "\n",
    "    def update(self, observations):\n",
    "        self.t += 1\n",
    "        for i in range(self.d):\n",
    "            self.observations[i, self.last_pull[i], self.n_pulls[i, self.last_pull[i]]] = observations[i]\n",
    "            self.n_pulls[i, self.last_pull[i]] = self.n_pulls[i, self.last_pull[i]] + 1\n",
    "\n",
    "    def threshold_lookup(self, n, epsilon):\n",
    "        return (self.sigma2*n/np.log(n**-2))**(1/(1+epsilon))\n",
    "    \n",
    "    def trimmed_mean(self, x, u, delta, epsilon):\n",
    "        n = x.shape[0]\n",
    "        mask = np.zeros(x.shape)\n",
    "        _log = np.log(1/delta)\n",
    "        \n",
    "        t = np.arange(n)\n",
    "        mask = np.abs(x) <= (u*t - _log)**(1/(1+epsilon))\n",
    "        \n",
    "        mask = np.array(mask, dtype='bool')\n",
    "\n",
    "        mu = np.sum(x[mask]) / n\n",
    "        return mu"
   ]
  },
  {
   "cell_type": "code",
   "execution_count": 3,
   "metadata": {},
   "outputs": [],
   "source": [
    "class TMRobustUCBAgent:\n",
    "    \n",
    "    def __init__(self, n_arms, u, *args, **kwargs):\n",
    "        self.n_arms = n_arms\n",
    "        self.u = u\n",
    "        # self.v = 2 * np.sqrt(self.u)\n",
    "        self.v = np.sqrt(self.u)\n",
    "        self.e_sqrt_16 = np.exp(1/16)\n",
    "        self.reset()\n",
    "        \n",
    "    def pull_arm(self): \n",
    "        # Truncated Mean\n",
    "        # ucbs = self.estimators + self.v * np.sqrt(np.sqrt(2)*2*np.log(self.t)/self.n_pulls)\n",
    "        # Median of Means\n",
    "        ucbs = self.estimators + np.sqrt(12 * self.v * 32 * np.log(self.e_sqrt_16 * self.t) / self.n_pulls)\n",
    "        ucbs = np.nan_to_num(ucbs, nan=np.inf)\n",
    "        self.last_pull = np.random.choice(np.where(ucbs == ucbs.max())[0])\n",
    "        self.n_pulls[self.last_pull] += 1\n",
    "        self.t += 1\n",
    "        return self.last_pull\n",
    "    \n",
    "    def update(self, X):\n",
    "        self.rewards[self.last_pull] = np.append(self.rewards[self.last_pull], X)\n",
    "        # Truncated Mean\n",
    "        # for a in range(self.n_arms):\n",
    "        #     self.estimators[a] = np.mean(np.where(np.abs(self.rewards[a]\n",
    "        #         ) <= self.threshold_lookup(self.t), self.rewards[a], 0))\n",
    "        # Median of Means\n",
    "        self.c = 2+32*np.log(self.t)\n",
    "        for a in range(self.n_arms):\n",
    "            k = max(int(min(self.c, self.n_pulls[a])/2), 1)\n",
    "            N = int(self.n_pulls[a]/k)\n",
    "            self.estimators[a] = np.median([np.mean(chunk) for chunk in np.array_split(self.rewards[a][:N*k], k)])\n",
    "\n",
    "    \n",
    "    def threshold_lookup(self, n):\n",
    "        return np.sqrt(self.u * n / (-2 * np.log(self.t)))\n",
    "    \n",
    "    def reset(self):\n",
    "        self.t = 1\n",
    "        self.last_pull = None\n",
    "        self.rewards = [np.array([]) for i in range(self.n_arms)]\n",
    "        self.estimators = np.ones(self.n_arms)*np.inf\n",
    "        self.n_pulls = np.zeros(self.n_arms, dtype=int)"
   ]
  },
  {
   "cell_type": "code",
   "execution_count": 4,
   "metadata": {},
   "outputs": [],
   "source": [
    "class NewFactoredUCBAgentMM():\n",
    "    \"\"\"\n",
    "    This class implements the FRB MM optimal algorithm in its anytime\n",
    "    version for bounded variables\n",
    "    \"\"\"\n",
    "    def __init__(self, k, d, T, bounded, sigma):\n",
    "        self.k = k\n",
    "        self.d = d\n",
    "        self.T = T\n",
    "        if bounded:\n",
    "            self.v = sigma\n",
    "        else:\n",
    "            self.u = (1 + sigma**2)**d - 1\n",
    "            # self.v = 2 * np.sqrt(self.u)\n",
    "            self.v = np.sqrt(self.u)\n",
    "        self.num_actions = self.k ** self.d\n",
    "        self.bounded = bounded\n",
    "        # Creation of the action matrix\n",
    "        self.action_matrix = np.zeros(\n",
    "            (self.num_actions, self.d), dtype=int\n",
    "        )\n",
    "        for i in range(self.d):\n",
    "            vect = -1 * np.ones(self.k**(i+1))\n",
    "            external_repeats = int(self.k**(self.d-(i+1)))\n",
    "            internal_repeats = self.k**i\n",
    "            for j in range(self.k):\n",
    "                vect[j*internal_repeats:(j+1)*internal_repeats] = j\n",
    "            vect_new = np.copy(vect).reshape(-1, 1)\n",
    "            for _ in range(external_repeats-1):\n",
    "                vect_new = np.vstack((vect_new, vect.reshape(-1, 1)))\n",
    "            self.action_matrix[:, i] = vect_new.ravel()\n",
    "        self.e_sqrt_16 = np.exp(1/16)\n",
    "        self.reset()\n",
    "\n",
    "    def update(self, observations):\n",
    "        self.t += 1\n",
    "        # print(f\"t {self.t}: {observations}\")\n",
    "        for i in range(self.d):\n",
    "            self.observations[i, self.last_pull[i], self.n_pulls[i, self.last_pull[i]]] = observations[i]\n",
    "            self.n_pulls[i, self.last_pull[i]] = self.n_pulls[i, self.last_pull[i]] + 1\n",
    "\n",
    "    def threshold_lookup(self, n):\n",
    "        return np.sqrt(self.u * n / (-2 * np.log(self.t)))\n",
    "    \n",
    "    def pull_arm(self):\n",
    "        if self.bounded:\n",
    "            for i in range(self.num_actions):\n",
    "                action_vector = self.action_matrix[i, :]\n",
    "                new_min_pull = self.n_pulls[0, action_vector[0]]\n",
    "                for j in range(1, self.d):\n",
    "                    new_min_pull = min(new_min_pull, self.n_pulls[j, action_vector[j]])\n",
    "                if new_min_pull != self.n_min_pull[i]:\n",
    "                    self.n_min_pull[i] = new_min_pull\n",
    "                    aux = 1\n",
    "                    for j in range(self.d):\n",
    "                        aux *= self.observations[j, self.last_pull[j], self.n_min_pull[i]-1]\n",
    "                    self.virtual_pulls_sum[i] += aux\n",
    "            mean = self.virtual_pulls_sum / self.n_min_pull\n",
    "            ucb = mean + self.v * np.sqrt(4 * math.log(self.t) / self.n_min_pull)\n",
    "        else:\n",
    "        \n",
    "            for i in range(self.num_actions):\n",
    "                \n",
    "                action_vector = self.action_matrix[i, :]\n",
    "                if (action_vector == self.last_pull).any():\n",
    "                    new_min_pull = self.n_pulls[0, action_vector[0]]\n",
    "                    for j in range(1, self.d):\n",
    "                        new_min_pull = min(new_min_pull, self.n_pulls[j, action_vector[j]])\n",
    "                    self.n_min_pull[i] = new_min_pull\n",
    "\n",
    "                _observations = np.zeros((self.d, self.n_min_pull[i]))\n",
    "\n",
    "                for h in range(self.d):\n",
    "                    _observations[h, :] = self.observations[h, action_vector[h], :self.n_min_pull[i]]\n",
    "\n",
    "                x = np.prod(_observations, axis=0)\n",
    "                \n",
    "                # Truncated Mean\n",
    "                # self.virtual_pulls_sum[i] = np.mean(np.where(np.abs(x) <= self.threshold_lookup(self.t), x, 0))\n",
    "                # Median of Means\n",
    "                k = max(int(min(2+32*np.log(self.t), self.n_min_pull[i])/2), 1)\n",
    "                N = int(self.n_min_pull[i]/k)\n",
    "                self.virtual_pulls_sum[i] = np.median([np.mean(chunk) for chunk in np.array_split(x[:N*k], k)])\n",
    "\n",
    "            mean = self.virtual_pulls_sum\n",
    "            \n",
    "            # Truncated Mean\n",
    "            # ucb = mean + self.v * np.sqrt(np.sqrt(2)*2*np.log(self.t)/self.n_min_pull)\n",
    "            # Median of Means\n",
    "            ucb = mean + np.sqrt(12 * self.v * 32 * np.log(self.e_sqrt_16 * self.t) / self.n_min_pull)\n",
    "            ucb = np.nan_to_num(ucb, nan=np.inf)\n",
    "        \n",
    "        self.last_pull = self.action_matrix[np.random.choice(np.where(ucb == ucb.max())[0]), :]\n",
    "\n",
    "        return self.last_pull\n",
    "                       \n",
    "    def reset(self):\n",
    "        self.t = 1\n",
    "        self.last_pull = None\n",
    "        self.n_min_pull = np.zeros(self.num_actions, dtype=int)\n",
    "        self.n_pulls = np.zeros((self.d, self.k), dtype=int)\n",
    "        self.observations = -1 * np.ones((self.d, self.k, self.T))#, dtype=int)\n",
    "        self.virtual_pulls_sum = np.zeros(self.num_actions)"
   ]
  },
  {
   "cell_type": "code",
   "execution_count": 5,
   "id": "64fe5c05",
   "metadata": {
    "scrolled": false
   },
   "outputs": [
    {
     "data": {
      "application/vnd.jupyter.widget-view+json": {
       "model_id": "1664fbab718745939a5a5d2cf05775df",
       "version_major": 2,
       "version_minor": 0
      },
      "text/plain": [
       "  0%|          | 0/4 [00:00<?, ?it/s]"
      ]
     },
     "metadata": {},
     "output_type": "display_data"
    },
    {
     "data": {
      "application/vnd.jupyter.widget-view+json": {
       "model_id": "7369d67525cc4c90a76be6065d3f9442",
       "version_major": 2,
       "version_minor": 0
      },
      "text/plain": [
       "  0%|          | 0/10000 [00:00<?, ?it/s]"
      ]
     },
     "metadata": {},
     "output_type": "display_data"
    },
    {
     "data": {
      "application/vnd.jupyter.widget-view+json": {
       "model_id": "1acfcebec3cc4fc788d4b08f3aaa3bc2",
       "version_major": 2,
       "version_minor": 0
      },
      "text/plain": [
       "  0%|          | 0/10000 [00:00<?, ?it/s]"
      ]
     },
     "metadata": {},
     "output_type": "display_data"
    },
    {
     "data": {
      "application/vnd.jupyter.widget-view+json": {
       "model_id": "e726905c93a547d89293240650a23b17",
       "version_major": 2,
       "version_minor": 0
      },
      "text/plain": [
       "  0%|          | 0/10000 [00:00<?, ?it/s]"
      ]
     },
     "metadata": {},
     "output_type": "display_data"
    },
    {
     "data": {
      "application/vnd.jupyter.widget-view+json": {
       "model_id": "ecb569d914584a6395e42307ea30bc64",
       "version_major": 2,
       "version_minor": 0
      },
      "text/plain": [
       "  0%|          | 0/10000 [00:00<?, ?it/s]"
      ]
     },
     "metadata": {},
     "output_type": "display_data"
    },
    {
     "name": "stdout",
     "output_type": "stream",
     "text": [
      "\\JPAalgnameshort run completed - k=2 d=1 $\\sigma$=0.1\n",
      "T=1000: $1.73 \\ (0.45)$\n",
      "T=2000: $2.1 \\ (0.62)$\n",
      "T=5000: $2.34 \\ (0.64)$\n"
     ]
    },
    {
     "data": {
      "application/vnd.jupyter.widget-view+json": {
       "model_id": "84a971de68cb433c9e34e3cb566460bd",
       "version_major": 2,
       "version_minor": 0
      },
      "text/plain": [
       "  0%|          | 0/4 [00:00<?, ?it/s]"
      ]
     },
     "metadata": {},
     "output_type": "display_data"
    },
    {
     "data": {
      "application/vnd.jupyter.widget-view+json": {
       "model_id": "20a2d6fde4be4a57b17f987aa2ab4f19",
       "version_major": 2,
       "version_minor": 0
      },
      "text/plain": [
       "  0%|          | 0/10000 [00:00<?, ?it/s]"
      ]
     },
     "metadata": {},
     "output_type": "display_data"
    },
    {
     "data": {
      "application/vnd.jupyter.widget-view+json": {
       "model_id": "a84c218bc4a84566ab5c210ccf03efc7",
       "version_major": 2,
       "version_minor": 0
      },
      "text/plain": [
       "  0%|          | 0/10000 [00:00<?, ?it/s]"
      ]
     },
     "metadata": {},
     "output_type": "display_data"
    },
    {
     "data": {
      "application/vnd.jupyter.widget-view+json": {
       "model_id": "c87274346b1f423fa597819279465bf3",
       "version_major": 2,
       "version_minor": 0
      },
      "text/plain": [
       "  0%|          | 0/10000 [00:00<?, ?it/s]"
      ]
     },
     "metadata": {},
     "output_type": "display_data"
    },
    {
     "data": {
      "application/vnd.jupyter.widget-view+json": {
       "model_id": "ef9c5cbb494944e3bdb4a652ccb32318",
       "version_major": 2,
       "version_minor": 0
      },
      "text/plain": [
       "  0%|          | 0/10000 [00:00<?, ?it/s]"
      ]
     },
     "metadata": {},
     "output_type": "display_data"
    },
    {
     "name": "stdout",
     "output_type": "stream",
     "text": [
      "\\tea run completed - k=2 d=1 $\\sigma$=0.1\n",
      "T=1000: $90.75 \\ (18.29)$\n",
      "T=2000: $181.49 \\ (36.58)$\n",
      "T=5000: $453.73 \\ (91.45)$\n"
     ]
    },
    {
     "data": {
      "application/vnd.jupyter.widget-view+json": {
       "model_id": "c909e74d92ca43d9bee225c027516ecf",
       "version_major": 2,
       "version_minor": 0
      },
      "text/plain": [
       "  0%|          | 0/4 [00:00<?, ?it/s]"
      ]
     },
     "metadata": {},
     "output_type": "display_data"
    },
    {
     "data": {
      "application/vnd.jupyter.widget-view+json": {
       "model_id": "2538f397908b4a4bb3fba1f2e4a4cf2d",
       "version_major": 2,
       "version_minor": 0
      },
      "text/plain": [
       "  0%|          | 0/10000 [00:00<?, ?it/s]"
      ]
     },
     "metadata": {},
     "output_type": "display_data"
    },
    {
     "data": {
      "application/vnd.jupyter.widget-view+json": {
       "model_id": "446c89e90f6041c1a02ee3ffaaa104df",
       "version_major": 2,
       "version_minor": 0
      },
      "text/plain": [
       "  0%|          | 0/10000 [00:00<?, ?it/s]"
      ]
     },
     "metadata": {},
     "output_type": "display_data"
    },
    {
     "data": {
      "application/vnd.jupyter.widget-view+json": {
       "model_id": "fa058e13f08d441293bd96d1cfd45bb4",
       "version_major": 2,
       "version_minor": 0
      },
      "text/plain": [
       "  0%|          | 0/10000 [00:00<?, ?it/s]"
      ]
     },
     "metadata": {},
     "output_type": "display_data"
    },
    {
     "data": {
      "application/vnd.jupyter.widget-view+json": {
       "model_id": "a7978403f74343cc91463ed2d4186643",
       "version_major": 2,
       "version_minor": 0
      },
      "text/plain": [
       "  0%|          | 0/10000 [00:00<?, ?it/s]"
      ]
     },
     "metadata": {},
     "output_type": "display_data"
    },
    {
     "name": "stdout",
     "output_type": "stream",
     "text": [
      "\\JPAalgnameshort run completed - k=3 d=1 $\\sigma$=0.1\n",
      "T=1000: $3.11 \\ (0.92)$\n",
      "T=2000: $3.96 \\ (0.72)$\n",
      "T=5000: $4.29 \\ (0.87)$\n"
     ]
    },
    {
     "data": {
      "application/vnd.jupyter.widget-view+json": {
       "model_id": "3e327a0ff0ba47d495a83a391fab2b53",
       "version_major": 2,
       "version_minor": 0
      },
      "text/plain": [
       "  0%|          | 0/4 [00:00<?, ?it/s]"
      ]
     },
     "metadata": {},
     "output_type": "display_data"
    },
    {
     "data": {
      "application/vnd.jupyter.widget-view+json": {
       "model_id": "783acb235e46414a8321d8bf02efc4ba",
       "version_major": 2,
       "version_minor": 0
      },
      "text/plain": [
       "  0%|          | 0/10000 [00:00<?, ?it/s]"
      ]
     },
     "metadata": {},
     "output_type": "display_data"
    },
    {
     "data": {
      "application/vnd.jupyter.widget-view+json": {
       "model_id": "b4851e0eee46488a91c40a3f58cf10fb",
       "version_major": 2,
       "version_minor": 0
      },
      "text/plain": [
       "  0%|          | 0/10000 [00:00<?, ?it/s]"
      ]
     },
     "metadata": {},
     "output_type": "display_data"
    },
    {
     "data": {
      "application/vnd.jupyter.widget-view+json": {
       "model_id": "422af320ea9647c3932f3205a4bacbfb",
       "version_major": 2,
       "version_minor": 0
      },
      "text/plain": [
       "  0%|          | 0/10000 [00:00<?, ?it/s]"
      ]
     },
     "metadata": {},
     "output_type": "display_data"
    },
    {
     "data": {
      "application/vnd.jupyter.widget-view+json": {
       "model_id": "042be310618c4b3a9a2d0478ed93c1b1",
       "version_major": 2,
       "version_minor": 0
      },
      "text/plain": [
       "  0%|          | 0/10000 [00:00<?, ?it/s]"
      ]
     },
     "metadata": {},
     "output_type": "display_data"
    },
    {
     "name": "stdout",
     "output_type": "stream",
     "text": [
      "\\tea run completed - k=3 d=1 $\\sigma$=0.1\n",
      "T=1000: $146.6 \\ (30.94)$\n",
      "T=2000: $293.29 \\ (61.88)$\n",
      "T=5000: $733.37 \\ (154.74)$\n"
     ]
    },
    {
     "data": {
      "application/vnd.jupyter.widget-view+json": {
       "model_id": "a1499f33f8824912b304ba190357b11b",
       "version_major": 2,
       "version_minor": 0
      },
      "text/plain": [
       "  0%|          | 0/4 [00:00<?, ?it/s]"
      ]
     },
     "metadata": {},
     "output_type": "display_data"
    },
    {
     "data": {
      "application/vnd.jupyter.widget-view+json": {
       "model_id": "d157d918dcc24fdba1a20a657e7a0195",
       "version_major": 2,
       "version_minor": 0
      },
      "text/plain": [
       "  0%|          | 0/10000 [00:00<?, ?it/s]"
      ]
     },
     "metadata": {},
     "output_type": "display_data"
    },
    {
     "data": {
      "application/vnd.jupyter.widget-view+json": {
       "model_id": "d903fa9f86fb46f7a93723b96cbbbe86",
       "version_major": 2,
       "version_minor": 0
      },
      "text/plain": [
       "  0%|          | 0/10000 [00:00<?, ?it/s]"
      ]
     },
     "metadata": {},
     "output_type": "display_data"
    },
    {
     "data": {
      "application/vnd.jupyter.widget-view+json": {
       "model_id": "32599b54d4d44896b1aafc524a7a2fec",
       "version_major": 2,
       "version_minor": 0
      },
      "text/plain": [
       "  0%|          | 0/10000 [00:00<?, ?it/s]"
      ]
     },
     "metadata": {},
     "output_type": "display_data"
    },
    {
     "data": {
      "application/vnd.jupyter.widget-view+json": {
       "model_id": "ccb7640b1b3e4fb3b39cadd1c5b76a04",
       "version_major": 2,
       "version_minor": 0
      },
      "text/plain": [
       "  0%|          | 0/10000 [00:00<?, ?it/s]"
      ]
     },
     "metadata": {},
     "output_type": "display_data"
    },
    {
     "name": "stdout",
     "output_type": "stream",
     "text": [
      "\\JPAalgnameshort run completed - k=2 d=2 $\\sigma$=0.1\n",
      "T=1000: $3.34 \\ (0.69)$\n",
      "T=2000: $4.18 \\ (0.95)$\n",
      "T=5000: $4.89 \\ (1.18)$\n"
     ]
    },
    {
     "data": {
      "application/vnd.jupyter.widget-view+json": {
       "model_id": "7b8f2a2d05624461aedbfe414e11056e",
       "version_major": 2,
       "version_minor": 0
      },
      "text/plain": [
       "  0%|          | 0/4 [00:00<?, ?it/s]"
      ]
     },
     "metadata": {},
     "output_type": "display_data"
    },
    {
     "data": {
      "application/vnd.jupyter.widget-view+json": {
       "model_id": "85e0d08e184e4fdba177b71362951cc7",
       "version_major": 2,
       "version_minor": 0
      },
      "text/plain": [
       "  0%|          | 0/10000 [00:00<?, ?it/s]"
      ]
     },
     "metadata": {},
     "output_type": "display_data"
    },
    {
     "data": {
      "application/vnd.jupyter.widget-view+json": {
       "model_id": "b5f0adc3b80b4fb9a4d96f756d81a0e1",
       "version_major": 2,
       "version_minor": 0
      },
      "text/plain": [
       "  0%|          | 0/10000 [00:00<?, ?it/s]"
      ]
     },
     "metadata": {},
     "output_type": "display_data"
    },
    {
     "data": {
      "application/vnd.jupyter.widget-view+json": {
       "model_id": "d2886da3d2ca409a8f9bb3c9d95b09a5",
       "version_major": 2,
       "version_minor": 0
      },
      "text/plain": [
       "  0%|          | 0/10000 [00:00<?, ?it/s]"
      ]
     },
     "metadata": {},
     "output_type": "display_data"
    },
    {
     "data": {
      "application/vnd.jupyter.widget-view+json": {
       "model_id": "36c500d8aa4a42fd8ecffa420969f396",
       "version_major": 2,
       "version_minor": 0
      },
      "text/plain": [
       "  0%|          | 0/10000 [00:00<?, ?it/s]"
      ]
     },
     "metadata": {},
     "output_type": "display_data"
    },
    {
     "name": "stdout",
     "output_type": "stream",
     "text": [
      "\\tea run completed - k=2 d=2 $\\sigma$=0.1\n",
      "T=1000: $98.68 \\ (13.55)$\n",
      "T=2000: $197.67 \\ (27.23)$\n",
      "T=5000: $494.16 \\ (68.11)$\n"
     ]
    },
    {
     "data": {
      "application/vnd.jupyter.widget-view+json": {
       "model_id": "e5e98c3931224e649fc6b63ec8ff8178",
       "version_major": 2,
       "version_minor": 0
      },
      "text/plain": [
       "  0%|          | 0/4 [00:00<?, ?it/s]"
      ]
     },
     "metadata": {},
     "output_type": "display_data"
    },
    {
     "data": {
      "application/vnd.jupyter.widget-view+json": {
       "model_id": "4f94e69e2df44b11865eac2696ee4ff4",
       "version_major": 2,
       "version_minor": 0
      },
      "text/plain": [
       "  0%|          | 0/10000 [00:00<?, ?it/s]"
      ]
     },
     "metadata": {},
     "output_type": "display_data"
    },
    {
     "data": {
      "application/vnd.jupyter.widget-view+json": {
       "model_id": "3f65d2eb9b7449f3b9f6eda65b953676",
       "version_major": 2,
       "version_minor": 0
      },
      "text/plain": [
       "  0%|          | 0/10000 [00:00<?, ?it/s]"
      ]
     },
     "metadata": {},
     "output_type": "display_data"
    },
    {
     "data": {
      "application/vnd.jupyter.widget-view+json": {
       "model_id": "17f15166569147368f0b6ff9bf75028e",
       "version_major": 2,
       "version_minor": 0
      },
      "text/plain": [
       "  0%|          | 0/10000 [00:00<?, ?it/s]"
      ]
     },
     "metadata": {},
     "output_type": "display_data"
    },
    {
     "data": {
      "application/vnd.jupyter.widget-view+json": {
       "model_id": "a9ebe2b5c5eb4c97a7cd88fbb9cf67fa",
       "version_major": 2,
       "version_minor": 0
      },
      "text/plain": [
       "  0%|          | 0/10000 [00:00<?, ?it/s]"
      ]
     },
     "metadata": {},
     "output_type": "display_data"
    },
    {
     "name": "stdout",
     "output_type": "stream",
     "text": [
      "\\JPAalgnameshort run completed - k=3 d=2 $\\sigma$=0.1\n",
      "T=1000: $5.34 \\ (0.7)$\n",
      "T=2000: $6.8 \\ (0.94)$\n",
      "T=5000: $8.35 \\ (1.04)$\n"
     ]
    },
    {
     "data": {
      "application/vnd.jupyter.widget-view+json": {
       "model_id": "05993ff09d3a4e6aa733e4372d14538f",
       "version_major": 2,
       "version_minor": 0
      },
      "text/plain": [
       "  0%|          | 0/4 [00:00<?, ?it/s]"
      ]
     },
     "metadata": {},
     "output_type": "display_data"
    },
    {
     "data": {
      "application/vnd.jupyter.widget-view+json": {
       "model_id": "eeffdb4007114ea2a8a33beba4a8bcb9",
       "version_major": 2,
       "version_minor": 0
      },
      "text/plain": [
       "  0%|          | 0/10000 [00:00<?, ?it/s]"
      ]
     },
     "metadata": {},
     "output_type": "display_data"
    },
    {
     "data": {
      "application/vnd.jupyter.widget-view+json": {
       "model_id": "ccd05c8d02e04ead8a9fc59e9a2b3659",
       "version_major": 2,
       "version_minor": 0
      },
      "text/plain": [
       "  0%|          | 0/10000 [00:00<?, ?it/s]"
      ]
     },
     "metadata": {},
     "output_type": "display_data"
    },
    {
     "data": {
      "application/vnd.jupyter.widget-view+json": {
       "model_id": "b11a4d0ef39d4731a57f23c53a412e61",
       "version_major": 2,
       "version_minor": 0
      },
      "text/plain": [
       "  0%|          | 0/10000 [00:00<?, ?it/s]"
      ]
     },
     "metadata": {},
     "output_type": "display_data"
    },
    {
     "data": {
      "application/vnd.jupyter.widget-view+json": {
       "model_id": "ebbb89fb9ddd4c0eb5c6f696b82b5d94",
       "version_major": 2,
       "version_minor": 0
      },
      "text/plain": [
       "  0%|          | 0/10000 [00:00<?, ?it/s]"
      ]
     },
     "metadata": {},
     "output_type": "display_data"
    },
    {
     "name": "stdout",
     "output_type": "stream",
     "text": [
      "\\tea run completed - k=3 d=2 $\\sigma$=0.1\n",
      "T=1000: $141.28 \\ (18.45)$\n",
      "T=2000: $282.04 \\ (36.65)$\n",
      "T=5000: $705.3 \\ (91.78)$\n"
     ]
    },
    {
     "data": {
      "application/vnd.jupyter.widget-view+json": {
       "model_id": "b220e3db3ee14e8db2c21e7ff89603eb",
       "version_major": 2,
       "version_minor": 0
      },
      "text/plain": [
       "  0%|          | 0/4 [00:00<?, ?it/s]"
      ]
     },
     "metadata": {},
     "output_type": "display_data"
    },
    {
     "data": {
      "application/vnd.jupyter.widget-view+json": {
       "model_id": "31302153ec5144418037a06d8873bac7",
       "version_major": 2,
       "version_minor": 0
      },
      "text/plain": [
       "  0%|          | 0/10000 [00:00<?, ?it/s]"
      ]
     },
     "metadata": {},
     "output_type": "display_data"
    },
    {
     "data": {
      "application/vnd.jupyter.widget-view+json": {
       "model_id": "3164fc0e14eb4b23bab0967d95556f99",
       "version_major": 2,
       "version_minor": 0
      },
      "text/plain": [
       "  0%|          | 0/10000 [00:00<?, ?it/s]"
      ]
     },
     "metadata": {},
     "output_type": "display_data"
    },
    {
     "data": {
      "application/vnd.jupyter.widget-view+json": {
       "model_id": "d9000fa225b44c81b488e61d1b6910f2",
       "version_major": 2,
       "version_minor": 0
      },
      "text/plain": [
       "  0%|          | 0/10000 [00:00<?, ?it/s]"
      ]
     },
     "metadata": {},
     "output_type": "display_data"
    },
    {
     "data": {
      "application/vnd.jupyter.widget-view+json": {
       "model_id": "2c77ebcece734f258f0849168dd9dc32",
       "version_major": 2,
       "version_minor": 0
      },
      "text/plain": [
       "  0%|          | 0/10000 [00:00<?, ?it/s]"
      ]
     },
     "metadata": {},
     "output_type": "display_data"
    },
    {
     "name": "stdout",
     "output_type": "stream",
     "text": [
      "\\JPAalgnameshort run completed - k=2 d=3 $\\sigma$=0.1\n",
      "T=1000: $2.93 \\ (0.63)$\n",
      "T=2000: $3.75 \\ (0.71)$\n",
      "T=5000: $4.69 \\ (1.05)$\n"
     ]
    },
    {
     "data": {
      "application/vnd.jupyter.widget-view+json": {
       "model_id": "9cea20c9a3c04c4d91ecc31e04b444c9",
       "version_major": 2,
       "version_minor": 0
      },
      "text/plain": [
       "  0%|          | 0/4 [00:00<?, ?it/s]"
      ]
     },
     "metadata": {},
     "output_type": "display_data"
    },
    {
     "data": {
      "application/vnd.jupyter.widget-view+json": {
       "model_id": "a7a695df277148929c498d62faeae598",
       "version_major": 2,
       "version_minor": 0
      },
      "text/plain": [
       "  0%|          | 0/10000 [00:00<?, ?it/s]"
      ]
     },
     "metadata": {},
     "output_type": "display_data"
    },
    {
     "data": {
      "application/vnd.jupyter.widget-view+json": {
       "model_id": "cdd9f83872584fcd92002c2e296e956a",
       "version_major": 2,
       "version_minor": 0
      },
      "text/plain": [
       "  0%|          | 0/10000 [00:00<?, ?it/s]"
      ]
     },
     "metadata": {},
     "output_type": "display_data"
    },
    {
     "data": {
      "application/vnd.jupyter.widget-view+json": {
       "model_id": "33692c556e584802a9c01c5199d09b5e",
       "version_major": 2,
       "version_minor": 0
      },
      "text/plain": [
       "  0%|          | 0/10000 [00:00<?, ?it/s]"
      ]
     },
     "metadata": {},
     "output_type": "display_data"
    },
    {
     "data": {
      "application/vnd.jupyter.widget-view+json": {
       "model_id": "6ae556fbfd1942c0ab88c3e01ae3f170",
       "version_major": 2,
       "version_minor": 0
      },
      "text/plain": [
       "  0%|          | 0/10000 [00:00<?, ?it/s]"
      ]
     },
     "metadata": {},
     "output_type": "display_data"
    },
    {
     "name": "stdout",
     "output_type": "stream",
     "text": [
      "\\tea run completed - k=2 d=3 $\\sigma$=0.1\n",
      "T=1000: $76.51 \\ (5.9)$\n",
      "T=2000: $153.01 \\ (11.68)$\n",
      "T=5000: $382.72 \\ (29.08)$\n"
     ]
    },
    {
     "data": {
      "application/vnd.jupyter.widget-view+json": {
       "model_id": "3a26b42c0ee345c18cc8d9c567999bc0",
       "version_major": 2,
       "version_minor": 0
      },
      "text/plain": [
       "  0%|          | 0/4 [00:00<?, ?it/s]"
      ]
     },
     "metadata": {},
     "output_type": "display_data"
    },
    {
     "data": {
      "application/vnd.jupyter.widget-view+json": {
       "model_id": "17a66bad37af4aa38c0e2ba6bff2d244",
       "version_major": 2,
       "version_minor": 0
      },
      "text/plain": [
       "  0%|          | 0/10000 [00:00<?, ?it/s]"
      ]
     },
     "metadata": {},
     "output_type": "display_data"
    },
    {
     "data": {
      "application/vnd.jupyter.widget-view+json": {
       "model_id": "112103abeb4b4298bf293a956eba28fa",
       "version_major": 2,
       "version_minor": 0
      },
      "text/plain": [
       "  0%|          | 0/10000 [00:00<?, ?it/s]"
      ]
     },
     "metadata": {},
     "output_type": "display_data"
    },
    {
     "data": {
      "application/vnd.jupyter.widget-view+json": {
       "model_id": "4124bc09c2804b42856a4743fa488359",
       "version_major": 2,
       "version_minor": 0
      },
      "text/plain": [
       "  0%|          | 0/10000 [00:00<?, ?it/s]"
      ]
     },
     "metadata": {},
     "output_type": "display_data"
    },
    {
     "data": {
      "application/vnd.jupyter.widget-view+json": {
       "model_id": "034d24ea07f54b78b35c3bdd0f3f2e06",
       "version_major": 2,
       "version_minor": 0
      },
      "text/plain": [
       "  0%|          | 0/10000 [00:00<?, ?it/s]"
      ]
     },
     "metadata": {},
     "output_type": "display_data"
    },
    {
     "name": "stdout",
     "output_type": "stream",
     "text": [
      "\\JPAalgnameshort run completed - k=3 d=3 $\\sigma$=0.1\n",
      "T=1000: $5.27 \\ (0.73)$\n",
      "T=2000: $6.17 \\ (0.86)$\n",
      "T=5000: $7.8 \\ (1.08)$\n"
     ]
    },
    {
     "data": {
      "application/vnd.jupyter.widget-view+json": {
       "model_id": "487a8f9faa2c40a88a88ff437487bb44",
       "version_major": 2,
       "version_minor": 0
      },
      "text/plain": [
       "  0%|          | 0/4 [00:00<?, ?it/s]"
      ]
     },
     "metadata": {},
     "output_type": "display_data"
    },
    {
     "data": {
      "application/vnd.jupyter.widget-view+json": {
       "model_id": "1a200137eb2f44acb8e51f641c8d7e0c",
       "version_major": 2,
       "version_minor": 0
      },
      "text/plain": [
       "  0%|          | 0/10000 [00:00<?, ?it/s]"
      ]
     },
     "metadata": {},
     "output_type": "display_data"
    },
    {
     "data": {
      "application/vnd.jupyter.widget-view+json": {
       "model_id": "d1b03e77dcde4995be5b8949a8327dae",
       "version_major": 2,
       "version_minor": 0
      },
      "text/plain": [
       "  0%|          | 0/10000 [00:00<?, ?it/s]"
      ]
     },
     "metadata": {},
     "output_type": "display_data"
    },
    {
     "data": {
      "application/vnd.jupyter.widget-view+json": {
       "model_id": "24747fe2ea2341259c483227b3c8e935",
       "version_major": 2,
       "version_minor": 0
      },
      "text/plain": [
       "  0%|          | 0/10000 [00:00<?, ?it/s]"
      ]
     },
     "metadata": {},
     "output_type": "display_data"
    },
    {
     "data": {
      "application/vnd.jupyter.widget-view+json": {
       "model_id": "e8f5b49fcb2749569bc19b7263aaaabe",
       "version_major": 2,
       "version_minor": 0
      },
      "text/plain": [
       "  0%|          | 0/10000 [00:00<?, ?it/s]"
      ]
     },
     "metadata": {},
     "output_type": "display_data"
    },
    {
     "name": "stdout",
     "output_type": "stream",
     "text": [
      "\\tea run completed - k=3 d=3 $\\sigma$=0.1\n",
      "T=1000: $131.53 \\ (12.0)$\n",
      "T=2000: $263.24 \\ (23.84)$\n",
      "T=5000: $658.83 \\ (59.66)$\n"
     ]
    },
    {
     "data": {
      "image/png": "[encoded data removed]",
      "text/plain": [
       "<Figure size 432x288 with 1 Axes>"
      ]
     },
     "metadata": {
      "needs_background": "light"
     },
     "output_type": "display_data"
    },
    {
     "data": {
      "image/png": "[encoded data removed]",
      "text/plain": [
       "<Figure size 432x288 with 1 Axes>"
      ]
     },
     "metadata": {
      "needs_background": "light"
     },
     "output_type": "display_data"
    },
    {
     "data": {
      "image/png": "[encoded data removed]",
      "text/plain": [
       "<Figure size 432x288 with 1 Axes>"
      ]
     },
     "metadata": {
      "needs_background": "light"
     },
     "output_type": "display_data"
    },
    {
     "data": {
      "image/png": "[encoded data removed]",
      "text/plain": [
       "<Figure size 432x288 with 1 Axes>"
      ]
     },
     "metadata": {
      "needs_background": "light"
     },
     "output_type": "display_data"
    },
    {
     "data": {
      "image/png": "[encoded data removed]",
      "text/plain": [
       "<Figure size 432x288 with 1 Axes>"
      ]
     },
     "metadata": {
      "needs_background": "light"
     },
     "output_type": "display_data"
    },
    {
     "data": {
      "image/png": "[encoded data removed]",
      "text/plain": [
       "<Figure size 432x288 with 1 Axes>"
      ]
     },
     "metadata": {
      "needs_background": "light"
     },
     "output_type": "display_data"
    }
   ],
   "source": [
    "# BASIC SETTING FOR EXPERIMENTS\n",
    "fucb = '\\\\JPAalgnameshort'\n",
    "fucbMM = '\\\\JPAalgnameshortMM'\n",
    "ucbone = '\\\\ucbone'\n",
    "httem = '\\\\httem'\n",
    "tea = '\\\\tea'\n",
    "algs = [fucb, fucbMM, ucbone, httem]\n",
    "T = 10000\n",
    "checkpoints = [1000, 5000, 10000]\n",
    "n_trials = 50\n",
    "seed = 0\n",
    "k_list = [3, 5]\n",
    "d_list = [1, 2, 3, 4]\n",
    "bounded_list = [True, False]   \n",
    "do_subsampling = True\n",
    "\n",
    "# OVERRIDE FOR TESTING PURPOSE TO SPEED UP THE RUNS\n",
    "T = 10000\n",
    "checkpoints = [1000, 2000, 5000]\n",
    "bounded_list = [False] \n",
    "algs = [fucb, tea]\n",
    "n_trials = 4\n",
    "k_list = [2, 3]\n",
    "d_list = [1, 2, 3]\n",
    "do_subsampling = False\n",
    "    \n",
    "result_table = {}\n",
    "\n",
    "for bounded in bounded_list:\n",
    "\n",
    "    result_table[bounded] = {}\n",
    "    \n",
    "    if bounded: \n",
    "        sigma = 0.5 # fixed for bernoulli\n",
    "    else:\n",
    "        sigma = 0.1\n",
    "    \n",
    "    for d in d_list:\n",
    "\n",
    "        result_table[bounded][d] = {}\n",
    "\n",
    "        for k in k_list:\n",
    "\n",
    "            result_table[bounded][d][k] = {}\n",
    "\n",
    "            arms_vect = k * np.ones(d, dtype=int)\n",
    "\n",
    "            # F-UCB INIT\n",
    "            agent_factored = FactoredUCBAgent(arms_vect, d, sigma)\n",
    "\n",
    "            # F-UCB-MM INIT\n",
    "            # agent_factored_MM = FactoredUCBAgentMM(k, d, T, sigma=sigma, bounded=bounded)\n",
    "            agent_factored_MM = NewFactoredUCBAgentMM(k, d, T, bounded, sigma)\n",
    "            \n",
    "            # UCB1 INIT\n",
    "            agent_ucb = UCB1Agent(d*k, sigma)\n",
    "            action_mx = create_action_matrix(d, k)\n",
    "\n",
    "            # HT-TEM INIT\n",
    "            agent_ht_tem = TMRobustUCBAgent(n_arms=d*k, u=(1+sigma**2)**d-1)\n",
    "\n",
    "            # TEA INIT\n",
    "            agent_tea = TEA(k, d)\n",
    "            \n",
    "            mean_cum_expected_regret = {}\n",
    "            std_cum_expected_regret = {}\n",
    "            \n",
    "            for alg in algs:\n",
    "\n",
    "                result_table[bounded][d][k][alg] = {}\n",
    "\n",
    "                env = FactoredEnv(arms_vect, d, sigma=sigma, bounded=bounded)\n",
    "\n",
    "                inst_expected_regret = np.zeros((n_trials, T))\n",
    "                \n",
    "                # for trial_i in range(n_trials):\n",
    "                for trial_i in tqdm(range(n_trials)):\n",
    "                \n",
    "                    vals_expected = env.get_expected()\n",
    "                    max_expected = compute_max_expected(vals_expected)\n",
    "\n",
    "                    for t in tqdm(range(T)):\n",
    "\n",
    "                        if alg == ucbone:\n",
    "                            action = action_mx[agent_ucb.pull_arm(), :]\n",
    "                            agent_ucb.update(np.prod(env.step(action)))\n",
    "                        elif alg == fucb:\n",
    "                            action = agent_factored.pull_arm()\n",
    "                            agent_factored.update(env.step(action))\n",
    "                        elif alg == fucbMM:\n",
    "                            action = agent_factored_MM.pull_arm()\n",
    "                            agent_factored_MM.update(env.step(action))\n",
    "                        elif alg == httem:\n",
    "                            action = action_mx[agent_ht_tem.pull_arm(), :]\n",
    "                            agent_ht_tem.update(np.prod(env.step(action)))\n",
    "                        elif alg == tea:\n",
    "                            action = agent_tea.pull_arm()\n",
    "                            agent_tea.update(np.prod(env.step(action)))\n",
    "                        else:\n",
    "                            raise ValueError('Error in selecting algorithm')\n",
    "\n",
    "                        inst_expected_regret[trial_i, t] = max_expected - get_pulled_expected(\n",
    "                            vals_expected, action)\n",
    "                    \n",
    "                    # I reset all the agents, becuase i do not know which one \n",
    "                    # i am using for the sake of simplicity\n",
    "                    \n",
    "                    if trial_i < n_trials - 1:\n",
    "                        env.reset()\n",
    "                        agent_ucb.reset()\n",
    "                    agent_factored.reset()\n",
    "                    agent_factored_MM.reset()\n",
    "                    agent_ht_tem.reset()\n",
    "                    agent_tea.reset()\n",
    "                \n",
    "                # maybe replace with cumsum with correct axis\n",
    "                cum_expected_regret = np.zeros(inst_expected_regret.shape)\n",
    "                cum_expected_regret[:, 0] = inst_expected_regret[:, 0]\n",
    "                for i in range(1, T):\n",
    "                    cum_expected_regret[:, i] = inst_expected_regret[:, i] + cum_expected_regret[:, i-1]\n",
    "\n",
    "                mean_cum_expected_regret[alg] = np.mean(cum_expected_regret, axis=0)\n",
    "                std_cum_expected_regret[alg] = np.std(cum_expected_regret, axis=0) / np.sqrt(n_trials)\n",
    "\n",
    "                print('{} run completed - k={} d={} $\\sigma$={}'.format(alg, k, d, sigma))\n",
    "                for i in checkpoints:\n",
    "                    result_table[bounded][d][k][alg][i] = '${} \\ ({})$   '.format(\n",
    "                        round(mean_cum_expected_regret[alg][i-1], 2), \n",
    "                        round(std_cum_expected_regret[alg][i-1], 2)\n",
    "                    )\n",
    "                    print('T={}: ${} \\ ({})$'.format(i, round(mean_cum_expected_regret[alg][i-1], 2), \n",
    "                                                  round(std_cum_expected_regret[alg][i-1], 2)))\n",
    "\n",
    "            plt.figure()\n",
    "            if do_subsampling:\n",
    "                subsample = 50\n",
    "                assert T % subsample == 0\n",
    "                x_plt = np.linspace(0, T-1, int(T/subsample), dtype=int)\n",
    "            else:\n",
    "                x_plt = np.linspace(0, T-1, T, dtype=int)\n",
    "            for alg in algs:\n",
    "                plt.plot(x_plt, mean_cum_expected_regret[alg][x_plt], \n",
    "                         label=alg)\n",
    "                plt.fill_between(x_plt, \n",
    "                                 mean_cum_expected_regret[alg][x_plt] - std_cum_expected_regret[alg][x_plt], \n",
    "                                 mean_cum_expected_regret[alg][x_plt] + std_cum_expected_regret[alg][x_plt], \n",
    "                                 alpha=0.3)\n",
    "            plt.legend()\n",
    "            plt.xlabel('Rounds')\n",
    "            plt.ylabel('Regret')\n",
    "            plt.title('bounded={} k={} d={} $\\sigma$={}'.format(bounded, k, d, sigma))\n",
    "            if bounded:\n",
    "                save_str = 'results/bounded_k{}_d{}'.format(k, d)\n",
    "            else:\n",
    "                save_str = 'results/subgauss_k{}_d{}'.format(k, d)\n",
    "            plt.savefig(save_str + '.png')\n",
    "            tkz.save(save_str + '.tex')"
   ]
  },
  {
   "cell_type": "code",
   "execution_count": 6,
   "id": "46dc7c88",
   "metadata": {
    "scrolled": false
   },
   "outputs": [
    {
     "name": "stdout",
     "output_type": "stream",
     "text": [
      "d= \t k= \t T=\t\t\\JPAalgnameshort\t\t\t\\tea\t\t\t\n",
      "$1$ & \t $2$ & \t $1000$ \t\t& $1.73 \\ (0.45)$   \t& $90.75 \\ (18.29)$   \t\\\\\n",
      "\\cmidrule{3-10}\n",
      "$1$ & \t $2$ & \t $2000$ \t\t& $2.1 \\ (0.62)$   \t& $181.49 \\ (36.58)$   \t\\\\\n",
      "\\cmidrule{3-10}\n",
      "$1$ & \t $2$ & \t $5000$ \t\t& $2.34 \\ (0.64)$   \t& $453.73 \\ (91.45)$   \t\\\\\n",
      "\\cmidrule{2-10}\n",
      "$1$ & \t $3$ & \t $1000$ \t\t& $3.11 \\ (0.92)$   \t& $146.6 \\ (30.94)$   \t\\\\\n",
      "\\cmidrule{3-10}\n",
      "$1$ & \t $3$ & \t $2000$ \t\t& $3.96 \\ (0.72)$   \t& $293.29 \\ (61.88)$   \t\\\\\n",
      "\\cmidrule{3-10}\n",
      "$1$ & \t $3$ & \t $5000$ \t\t& $4.29 \\ (0.87)$   \t& $733.37 \\ (154.74)$   \t\\\\\n",
      "\\cmidrule{2-10}\n",
      "\\cmidrule{1-10}\n",
      "$2$ & \t $2$ & \t $1000$ \t\t& $3.34 \\ (0.69)$   \t& $98.68 \\ (13.55)$   \t\\\\\n",
      "\\cmidrule{3-10}\n",
      "$2$ & \t $2$ & \t $2000$ \t\t& $4.18 \\ (0.95)$   \t& $197.67 \\ (27.23)$   \t\\\\\n",
      "\\cmidrule{3-10}\n",
      "$2$ & \t $2$ & \t $5000$ \t\t& $4.89 \\ (1.18)$   \t& $494.16 \\ (68.11)$   \t\\\\\n",
      "\\cmidrule{2-10}\n",
      "$2$ & \t $3$ & \t $1000$ \t\t& $5.34 \\ (0.7)$   \t& $141.28 \\ (18.45)$   \t\\\\\n",
      "\\cmidrule{3-10}\n",
      "$2$ & \t $3$ & \t $2000$ \t\t& $6.8 \\ (0.94)$   \t& $282.04 \\ (36.65)$   \t\\\\\n",
      "\\cmidrule{3-10}\n",
      "$2$ & \t $3$ & \t $5000$ \t\t& $8.35 \\ (1.04)$   \t& $705.3 \\ (91.78)$   \t\\\\\n",
      "\\cmidrule{2-10}\n",
      "\\cmidrule{1-10}\n",
      "$3$ & \t $2$ & \t $1000$ \t\t& $2.93 \\ (0.63)$   \t& $76.51 \\ (5.9)$   \t\\\\\n",
      "\\cmidrule{3-10}\n",
      "$3$ & \t $2$ & \t $2000$ \t\t& $3.75 \\ (0.71)$   \t& $153.01 \\ (11.68)$   \t\\\\\n",
      "\\cmidrule{3-10}\n",
      "$3$ & \t $2$ & \t $5000$ \t\t& $4.69 \\ (1.05)$   \t& $382.72 \\ (29.08)$   \t\\\\\n",
      "\\cmidrule{2-10}\n",
      "$3$ & \t $3$ & \t $1000$ \t\t& $5.27 \\ (0.73)$   \t& $131.53 \\ (12.0)$   \t\\\\\n",
      "\\cmidrule{3-10}\n",
      "$3$ & \t $3$ & \t $2000$ \t\t& $6.17 \\ (0.86)$   \t& $263.24 \\ (23.84)$   \t\\\\\n",
      "\\cmidrule{3-10}\n",
      "$3$ & \t $3$ & \t $5000$ \t\t& $7.8 \\ (1.08)$   \t& $658.83 \\ (59.66)$   \t\\\\\n",
      "\\cmidrule{2-10}\n",
      "\\cmidrule{1-10}\n"
     ]
    }
   ],
   "source": [
    "print('d= \\t k= \\t T=\\t\\t', end='')\n",
    "[print(alg, end='\\t\\t\\t') for alg in algs]\n",
    "print('')\n",
    "\n",
    "for d in d_list:\n",
    "    for k in k_list:\n",
    "        for T_val in checkpoints:\n",
    "            print('${}$ & \\t ${}$ & \\t ${}$ \\t\\t'.format(d, k, T_val), end='')\n",
    "            for bounded in bounded_list:\n",
    "                for alg in algs:\n",
    "                    print('&', result_table[bounded][d][k][alg][T_val], end='\\t')\n",
    "            if T_val == checkpoints[-1]:\n",
    "                print('\\\\\\\\\\n\\\\cmidrule{2-10}')\n",
    "            else:\n",
    "                print('\\\\\\\\\\n\\\\cmidrule{3-10}')\n",
    "    print('\\cmidrule{1-10}')"
   ]
  },
  {
   "cell_type": "markdown",
   "metadata": {},
   "source": [
    "d= \t k= \t T=\t\t\\JPAalgnameshort\t\t\t\\JPAalgnameshortMM\t\t\t\\ucbone\t\t\t\\httem\t\t\t\n",
    "$1$ & \t $3$ & \t $1000$ \t\t& $25.61 \\ (1.0)$   \t& $25.6 \\ (1.01)$   \t& $25.61 \\ (1.0)$   \t& $117.94 \\ (6.28)$   \t& $2.72 \\ (0.2)$   \t& $107.35 \\ (10.14)$   \t& $2.72 \\ (0.2)$   \t& $116.96 \\ (6.26)$   \t\\\\\n",
    "\\cmidrule{3-10}\n",
    "$1$ & \t $3$ & \t $5000$ \t\t& $51.25 \\ (2.6)$   \t& $51.35 \\ (2.59)$   \t& $51.25 \\ (2.6)$   \t& $377.0 \\ (14.51)$   \t& $4.44 \\ (0.47)$   \t& $394.77 \\ (47.56)$   \t& $4.44 \\ (0.47)$   \t& $376.82 \\ (14.58)$   \t\\\\\n",
    "\\cmidrule{3-10}\n",
    "$1$ & \t $3$ & \t $10000$ \t\t& $65.3 \\ (3.9)$   \t& $65.19 \\ (3.91)$   \t& $65.3 \\ (3.9)$   \t& $575.0 \\ (18.42)$   \t& $5.52 \\ (0.67)$   \t& $679.17 \\ (90.19)$   \t& $5.52 \\ (0.67)$   \t& $575.02 \\ (18.17)$   \t\\\\\n",
    "\\cmidrule{2-10}\n",
    "$1$ & \t $5$ & \t $1000$ \t\t& $46.67 \\ (1.01)$   \t& $46.77 \\ (0.97)$   \t& $46.67 \\ (1.01)$   \t& $178.52 \\ (6.84)$   \t& $5.18 \\ (0.22)$   \t& $143.37 \\ (11.4)$   \t& $5.18 \\ (0.22)$   \t& $178.26 \\ (6.87)$   \t\\\\\n",
    "\\cmidrule{3-10}\n",
    "$1$ & \t $5$ & \t $5000$ \t\t& $93.23 \\ (2.83)$   \t& $93.05 \\ (2.95)$   \t& $93.23 \\ (2.83)$   \t& $640.81 \\ (21.79)$   \t& $7.73 \\ (0.52)$   \t& $492.95 \\ (58.95)$   \t& $7.73 \\ (0.52)$   \t& $640.03 \\ (21.48)$   \t\\\\\n",
    "\\cmidrule{3-10}\n",
    "$1$ & \t $5$ & \t $10000$ \t\t& $118.27 \\ (4.42)$   \t& $117.8 \\ (4.52)$   \t& $118.27 \\ (4.42)$   \t& $1013.28 \\ (29.75)$   \t& $9.16 \\ (0.7)$   \t& $826.64 \\ (116.34)$   \t& $9.16 \\ (0.7)$   \t& $1016.67 \\ (29.11)$   \t\\\\\n",
    "\\cmidrule{2-10}\n",
    "\\cmidrule{1-10}\n",
    "$2$ & \t $3$ & \t $1000$ \t\t& $44.65 \\ (1.24)$   \t& $127.48 \\ (14.51)$   \t& $99.05 \\ (11.05)$   \t& $218.0 \\ (11.02)$   \t& $4.67 \\ (0.2)$   \t& $267.74 \\ (14.63)$   \t& $42.19 \\ (10.99)$   \t& $219.14 \\ (11.05)$   \t\\\\\n",
    "\\cmidrule{3-10}\n",
    "$2$ & \t $3$ & \t $5000$ \t\t& $87.24 \\ (2.66)$   \t& $512.17 \\ (69.49)$   \t& $300.46 \\ (56.14)$   \t& $880.79 \\ (48.54)$   \t& $7.14 \\ (0.48)$   \t& $1339.73 \\ (71.42)$   \t& $186.56 \\ (54.39)$   \t& $884.31 \\ (48.42)$   \t\\\\\n",
    "\\cmidrule{3-10}\n",
    "$2$ & \t $3$ & \t $10000$ \t\t& $111.55 \\ (4.17)$   \t& $969.79 \\ (138.09)$   \t& $510.31 \\ (111.08)$   \t& $1518.28 \\ (97.52)$   \t& $8.41 \\ (0.66)$   \t& $2683.38 \\ (142.41)$   \t& $364.8 \\ (108.53)$   \t& $1524.1 \\ (97.12)$   \t\\\\\n",
    "\\cmidrule{2-10}\n",
    "$2$ & \t $5$ & \t $1000$ \t\t& $83.73 \\ (1.81)$   \t& $162.88 \\ (13.63)$   \t& $172.01 \\ (15.05)$   \t& $308.8 \\ (14.12)$   \t& $9.38 \\ (0.35)$   \t& $353.87 \\ (15.53)$   \t& $87.39 \\ (15.22)$   \t& $309.58 \\ (14.15)$   \t\\\\\n",
    "\\cmidrule{3-10}\n",
    "$2$ & \t $5$ & \t $5000$ \t\t& $165.56 \\ (4.05)$   \t& $573.04 \\ (65.84)$   \t& $575.82 \\ (77.56)$   \t& $1353.7 \\ (68.88)$   \t& $14.1 \\ (0.71)$   \t& $1785.66 \\ (74.72)$   \t& $396.13 \\ (75.5)$   \t& $1355.17 \\ (68.83)$   \t\\\\\n",
    "\\cmidrule{3-10}\n",
    "$2$ & \t $5$ & \t $10000$ \t\t& $213.49 \\ (6.58)$   \t& $1046.43 \\ (129.32)$   \t& $1016.49 \\ (154.19)$   \t& $2447.43 \\ (139.31)$   \t& $16.89 \\ (0.98)$   \t& $3576.17 \\ (148.54)$   \t& $778.71 \\ (150.81)$   \t& $2448.84 \\ (139.1)$   \t\\\\\n",
    "\\cmidrule{2-10}\n",
    "\\cmidrule{1-10}\n",
    "$3$ & \t $3$ & \t $1000$ \t\t& $51.66 \\ (1.88)$   \t& $142.14 \\ (13.23)$   \t& $210.43 \\ (19.01)$   \t& $277.61 \\ (19.71)$   \t& $5.43 \\ (0.24)$   \t& $294.03 \\ (17.07)$   \t& $148.88 \\ (18.9)$   \t& $277.12 \\ (19.72)$   \t\\\\\n",
    "\\cmidrule{3-10}\n",
    "$3$ & \t $3$ & \t $5000$ \t\t& $103.67 \\ (3.89)$   \t& $534.71 \\ (67.04)$   \t& $880.13 \\ (95.1)$   \t& $1300.12 \\ (95.92)$   \t& $8.49 \\ (0.48)$   \t& $1476.91 \\ (85.48)$   \t& $699.71 \\ (94.05)$   \t& $1299.32 \\ (96.16)$   \t\\\\\n",
    "\\cmidrule{3-10}\n",
    "$3$ & \t $3$ & \t $10000$ \t\t& $130.95 \\ (5.37)$   \t& $955.86 \\ (123.77)$   \t& $1641.97 \\ (190.3)$   \t& $2483.36 \\ (190.2)$   \t& $10.17 \\ (0.75)$   \t& $2964.56 \\ (171.11)$   \t& $1381.59 \\ (187.85)$   \t& $2478.67 \\ (190.41)$   \t\\\\\n",
    "\\cmidrule{2-10}\n",
    "$3$ & \t $5$ & \t $1000$ \t\t& $104.88 \\ (2.49)$   \t& $248.56 \\ (15.53)$   \t& $328.22 \\ (19.28)$   \t& $396.65 \\ (17.87)$   \t& $11.98 \\ (0.45)$   \t& $413.05 \\ (18.36)$   \t& $235.9 \\ (21.03)$   \t& $397.0 \\ (17.84)$   \t\\\\\n",
    "\\cmidrule{3-10}\n",
    "$3$ & \t $5$ & \t $5000$ \t\t& $214.88 \\ (5.2)$   \t& $810.9 \\ (75.49)$   \t& $1385.42 \\ (104.27)$   \t& $1901.5 \\ (90.04)$   \t& $18.36 \\ (0.92)$   \t& $2067.63 \\ (91.3)$   \t& $1110.88 \\ (104.76)$   \t& $1902.34 \\ (89.67)$   \t\\\\\n",
    "\\cmidrule{3-10}\n",
    "$3$ & \t $5$ & \t $10000$ \t\t& $274.16 \\ (7.57)$   \t& $1395.04 \\ (147.59)$   \t& $2586.55 \\ (211.12)$   \t& $3683.9 \\ (182.26)$   \t& $21.63 \\ (1.14)$   \t& $4139.21 \\ (182.21)$   \t& $2193.9 \\ (209.1)$   \t& $3684.07 \\ (181.57)$   \t\\\\\n",
    "\\cmidrule{2-10}\n",
    "\\cmidrule{1-10}\n",
    "$4$ & \t $3$ & \t $1000$ \t\t& $54.1 \\ (2.17)$   \t& $173.18 \\ (13.91)$   \t& $231.93 \\ (15.56)$   \t& $272.18 \\ (16.0)$   \t& $6.13 \\ (0.26)$   \t& $279.87 \\ (16.5)$   \t& $171.85 \\ (15.59)$   \t& $272.43 \\ (15.96)$   \t\\\\\n",
    "\\cmidrule{3-10}\n",
    "$4$ & \t $3$ & \t $5000$ \t\t& $109.61 \\ (4.26)$   \t& $627.08 \\ (69.6)$   \t& $1002.83 \\ (79.82)$   \t& $1318.72 \\ (78.73)$   \t& $9.58 \\ (0.55)$   \t& $1398.72 \\ (82.36)$   \t& $799.05 \\ (77.62)$   \t& $1318.71 \\ (78.49)$   \t\\\\\n",
    "\\cmidrule{3-10}\n",
    "$4$ & \t $3$ & \t $10000$ \t\t& $141.67 \\ (5.39)$   \t& $1123.03 \\ (139.34)$   \t& $1886.23 \\ (158.47)$   \t& $2571.6 \\ (156.35)$   \t& $11.63 \\ (0.75)$   \t& $2797.29 \\ (164.68)$   \t& $1571.24 \\ (154.96)$   \t& $2571.89 \\ (155.9)$   \t\\\\\n",
    "\\cmidrule{2-10}\n",
    "$4$ & \t $5$ & \t $1000$ \t\t& $117.6 \\ (3.48)$   \t& $316.29 \\ (17.18)$   \t& $381.58 \\ (20.25)$   \t& $413.28 \\ (19.76)$   \t& $13.74 \\ (0.49)$   \t& $427.8 \\ (19.73)$   \t& $306.4 \\ (21.47)$   \t& $413.14 \\ (19.78)$   \t\\\\\n",
    "\\cmidrule{3-10}\n",
    "$4$ & \t $5$ & \t $5000$ \t\t& $247.53 \\ (6.58)$   \t& $1134.93 \\ (87.45)$   \t& $1741.2 \\ (105.7)$   \t& $2034.95 \\ (99.14)$   \t& $20.96 \\ (0.88)$   \t& $2138.68 \\ (98.48)$   \t& $1440.24 \\ (106.57)$   \t& $2034.1 \\ (99.08)$   \t\\\\\n",
    "\\cmidrule{3-10}\n",
    "$4$ & \t $5$ & \t $10000$ \t\t& $318.79 \\ (8.67)$   \t& $1882.25 \\ (158.54)$   \t& $3319.16 \\ (213.61)$   \t& $4023.06 \\ (199.04)$   \t& $24.5 \\ (1.12)$   \t& $4277.27 \\ (196.91)$   \t& $2840.05 \\ (212.48)$   \t& $4021.3 \\ (198.53)$   \t\\\\\n",
    "\\cmidrule{2-10}\n",
    "\\cmidrule{1-10}"
   ]
  },
  {
   "cell_type": "code",
   "execution_count": 7,
   "id": "a73b2c5a",
   "metadata": {},
   "outputs": [
    {
     "data": {
      "text/plain": [
       "array([[0, 1, 2],\n",
       "       [3, 4, 5],\n",
       "       [6, 7, 8]])"
      ]
     },
     "execution_count": 7,
     "metadata": {},
     "output_type": "execute_result"
    }
   ],
   "source": [
    "a = np.arange(9).reshape((3,3))\n",
    "a"
   ]
  },
  {
   "cell_type": "code",
   "execution_count": 8,
   "id": "4c81b0de",
   "metadata": {},
   "outputs": [
    {
     "name": "stdout",
     "output_type": "stream",
     "text": [
      "[[4 5]\n",
      " [7 8]]\n",
      "[[0 2]\n",
      " [6 8]]\n",
      "[[0 1]\n",
      " [3 4]]\n"
     ]
    }
   ],
   "source": [
    "for i in range(3):\n",
    "    mask = np.ones(3, dtype=bool)\n",
    "    mask[i] = 0\n",
    "    print(a[mask, :][:, mask])"
   ]
  },
  {
   "cell_type": "code",
   "execution_count": 9,
   "id": "d17502de",
   "metadata": {},
   "outputs": [],
   "source": [
    "def TEA_f (t):\n",
    "    return (t+1) * (np.log(t+1))**2"
   ]
  },
  {
   "cell_type": "code",
   "execution_count": 10,
   "id": "af9a3c62",
   "metadata": {},
   "outputs": [
    {
     "ename": "ValueError",
     "evalue": "'a' cannot be empty unless no samples are taken",
     "output_type": "error",
     "traceback": [
      "\u001b[0;31m---------------------------------------------------------------------------\u001b[0m",
      "\u001b[0;31mValueError\u001b[0m                                Traceback (most recent call last)",
      "Input \u001b[0;32mIn [10]\u001b[0m, in \u001b[0;36m<cell line: 3>\u001b[0;34m()\u001b[0m\n\u001b[1;32m      1\u001b[0m a \u001b[38;5;241m=\u001b[39m np\u001b[38;5;241m.\u001b[39marray([\u001b[38;5;241m1\u001b[39m, \u001b[38;5;241m2\u001b[39m, \u001b[38;5;241m3\u001b[39m, \u001b[38;5;241m4\u001b[39m])\n\u001b[1;32m      2\u001b[0m np\u001b[38;5;241m.\u001b[39mwhere(a\u001b[38;5;241m>\u001b[39m\u001b[38;5;241m2\u001b[39m)[\u001b[38;5;241m0\u001b[39m]\n\u001b[0;32m----> 3\u001b[0m \u001b[43mnp\u001b[49m\u001b[38;5;241;43m.\u001b[39;49m\u001b[43mrandom\u001b[49m\u001b[38;5;241;43m.\u001b[39;49m\u001b[43mchoice\u001b[49m\u001b[43m(\u001b[49m\u001b[43mnp\u001b[49m\u001b[38;5;241;43m.\u001b[39;49m\u001b[43mwhere\u001b[49m\u001b[43m(\u001b[49m\u001b[43ma\u001b[49m\u001b[38;5;241;43m>\u001b[39;49m\u001b[38;5;241;43m4\u001b[39;49m\u001b[43m)\u001b[49m\u001b[43m[\u001b[49m\u001b[38;5;241;43m0\u001b[39;49m\u001b[43m]\u001b[49m\u001b[43m)\u001b[49m\n",
      "File \u001b[0;32mmtrand.pyx:915\u001b[0m, in \u001b[0;36mnumpy.random.mtrand.RandomState.choice\u001b[0;34m()\u001b[0m\n",
      "\u001b[0;31mValueError\u001b[0m: 'a' cannot be empty unless no samples are taken"
     ]
    }
   ],
   "source": [
    "a = np.array([1, 2, 3, 4])\n",
    "np.where(a>2)[0]\n",
    "np.random.choice(np.where(a>4)[0])"
   ]
  },
  {
   "cell_type": "code",
   "execution_count": null,
   "id": "870a09a0",
   "metadata": {},
   "outputs": [
    {
     "data": {
      "text/plain": [
       "array([10, 11, 12, 13, 14])"
      ]
     },
     "execution_count": 40,
     "metadata": {},
     "output_type": "execute_result"
    }
   ],
   "source": [
    "a = 10\n",
    "b = np.arange(10, 15)\n",
    "b"
   ]
  },
  {
   "cell_type": "code",
   "execution_count": null,
   "id": "ed0a41cf",
   "metadata": {},
   "outputs": [
    {
     "data": {
      "text/plain": [
       "0"
      ]
     },
     "execution_count": 44,
     "metadata": {},
     "output_type": "execute_result"
    }
   ],
   "source": [
    "np.where(b==a)[0][0]"
   ]
  }
 ],
 "metadata": {
  "kernelspec": {
   "display_name": "Python 3 (ipykernel)",
   "language": "python",
   "name": "python3"
  },
  "language_info": {
   "codemirror_mode": {
    "name": "ipython",
    "version": 3
   },
   "file_extension": ".py",
   "mimetype": "text/x-python",
   "name": "python",
   "nbconvert_exporter": "python",
   "pygments_lexer": "ipython3",
   "version": "3.10.12"
  }
 },
 "nbformat": 4,
 "nbformat_minor": 5
}
