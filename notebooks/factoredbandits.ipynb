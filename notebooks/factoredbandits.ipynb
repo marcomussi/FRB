{
 "cells": [
  {
   "cell_type": "code",
   "execution_count": 1,
   "id": "52278476",
   "metadata": {},
   "outputs": [
    {
     "name": "stdout",
     "output_type": "stream",
     "text": [
      "Moving Current Directory from /home/simone/Projects/research/FRB/notebooks to /home/simone/Projects/research/FRB\n"
     ]
    }
   ],
   "source": [
    "import numpy as np\n",
    "import math\n",
    "from tqdm.auto import tqdm\n",
    "import matplotlib.pyplot as plt\n",
    "import tikzplotlib as tkz\n",
    "import warnings\n",
    "warnings.filterwarnings(\"ignore\")\n",
    "\n",
    "import os, sys\n",
    "\n",
    "_, filename = os.path.split(os.getcwd())\n",
    "if filename == 'notebooks':\n",
    "    old_dir = os.getcwd()\n",
    "    os.chdir('../')\n",
    "    print('Moving Current Directory from ' + old_dir + ' to ' + os.getcwd())\n",
    "else:\n",
    "    print('Current Directory is ' + os.getcwd())\n",
    "\n",
    "sys.path.append('./')  \n",
    "\n",
    "from FRB.agents import UCB1Agent, FactoredUCBAgent, TMRobustUCBAgent #, FactoredUCBAgentMM\n",
    "from FRB.env import FactoredEnv\n",
    "from FRB.utils import get_pulled_expected, compute_max_expected, create_action_matrix, get_sigma_square_eq_max"
   ]
  },
  {
   "cell_type": "code",
   "execution_count": 2,
   "id": "2ae5c537",
   "metadata": {},
   "outputs": [
    {
     "data": {
      "text/plain": [
       "'\\nclass FactoredUCBAgentMM():\\n    \"\"\"\\n    This class implements the FRB MM optimal algorithm in its anytime\\n    version for bounded variables\\n    \"\"\"\\n    def __init__(self, n_arms_vect, dim, time_horizon, sigma=0.5,\\n                 max_reward=1, exploration_alpha=4):\\n        self.n_arms_vect = n_arms_vect\\n        self.dim = dim\\n        self.T = time_horizon\\n        assert self.dim == self.n_arms_vect.shape[0]\\n        self.max_reward = max_reward\\n        self.sigma = sigma\\n        self.exploration_alpha = exploration_alpha\\n        self.num_actions = np.prod(self.n_arms_vect)\\n        self.action_matrix = np.zeros(\\n            (self.num_actions, dim), dtype=int\\n        )\\n        for i in range(self.dim):\\n            vect = -1 * np.ones(np.prod(self.n_arms_vect[:i+1]))\\n            external_repeats = int(np.prod(self.n_arms_vect) / len(vect))\\n            internal_repeats = max(1, int(np.prod(self.n_arms_vect[:i])))\\n            for j in range(self.n_arms_vect[i]):\\n                vect[j*internal_repeats:(j+1)*internal_repeats] = j\\n            vect_new = np.copy(vect).reshape(-1, 1)\\n            for _ in range(external_repeats-1):\\n                vect_new = np.vstack((vect_new, vect.reshape(-1, 1)))\\n            self.action_matrix[:, i] = vect_new.ravel()\\n        print(self.action_matrix)\\n        self.reset()\\n\\n    def reset(self):\\n        self.t = 1\\n        self.last_pull = None\\n        self.n_min_pull = np.zeros(self.num_actions)\\n        self.n_pulls = []\\n        self.observations = []\\n        for size in self.n_arms_vect:\\n            self.n_pulls.append(np.zeros(size, dtype=int))\\n            self.observations.append(-1 * np.ones((self.T, size), dtype=int))\\n        return self\\n\\n    def pull_arm(self):\\n        ucb = np.zeros(self.num_actions)\\n        for i in range(self.num_actions):\\n            action_vector = self.action_matrix[i, :]\\n            self.n_min_pull[i] = self.n_pulls[0][action_vector[0]]\\n            for j in range(1, self.dim):\\n                self.n_min_pull[i] = min(self.n_min_pull[i], self.n_pulls[j][action_vector[j]])\\n            virtual_pulls_sum = 0\\n            for j in range(self.n_min_pull[i]):\\n                prod_var = 1\\n                for h in range(self.dim):\\n                    prod_var *= self.observations[h][j, self.last_pull[h]]\\n                virtual_pulls_sum += prod_var\\n            ucb[i] = virtual_pulls_sum / self.n_min_pull[i] + self.sigma * np.sqrt(\\n                self.exploration_alpha * math.log(self.t) / self.n_min_pull[i])\\n        print(ucb)\\n        self.last_pull = self.action_matrix[int(np.argmax(ucb)), :]\\n        return self.last_pull\\n\\n    def update(self, observations):\\n        self.t += 1\\n        for i in range(self.dim):\\n            self.observations[i][self.n_pulls[i][self.last_pull[i]], self.last_pull[i]] = observations[i]\\n            self.n_pulls[i][self.last_pull[i]] = self.n_pulls[i][self.last_pull[i]] + 1  \\n'"
      ]
     },
     "execution_count": 2,
     "metadata": {},
     "output_type": "execute_result"
    }
   ],
   "source": [
    "'''\n",
    "class FactoredUCBAgentMM():\n",
    "    \"\"\"\n",
    "    This class implements the FRB MM optimal algorithm in its anytime\n",
    "    version for bounded variables\n",
    "    \"\"\"\n",
    "    def __init__(self, n_arms_vect, dim, time_horizon, sigma=0.5,\n",
    "                 max_reward=1, exploration_alpha=4):\n",
    "        self.n_arms_vect = n_arms_vect\n",
    "        self.dim = dim\n",
    "        self.T = time_horizon\n",
    "        assert self.dim == self.n_arms_vect.shape[0]\n",
    "        self.max_reward = max_reward\n",
    "        self.sigma = sigma\n",
    "        self.exploration_alpha = exploration_alpha\n",
    "        self.num_actions = np.prod(self.n_arms_vect)\n",
    "        self.action_matrix = np.zeros(\n",
    "            (self.num_actions, dim), dtype=int\n",
    "        )\n",
    "        for i in range(self.dim):\n",
    "            vect = -1 * np.ones(np.prod(self.n_arms_vect[:i+1]))\n",
    "            external_repeats = int(np.prod(self.n_arms_vect) / len(vect))\n",
    "            internal_repeats = max(1, int(np.prod(self.n_arms_vect[:i])))\n",
    "            for j in range(self.n_arms_vect[i]):\n",
    "                vect[j*internal_repeats:(j+1)*internal_repeats] = j\n",
    "            vect_new = np.copy(vect).reshape(-1, 1)\n",
    "            for _ in range(external_repeats-1):\n",
    "                vect_new = np.vstack((vect_new, vect.reshape(-1, 1)))\n",
    "            self.action_matrix[:, i] = vect_new.ravel()\n",
    "        print(self.action_matrix)\n",
    "        self.reset()\n",
    "\n",
    "    def reset(self):\n",
    "        self.t = 1\n",
    "        self.last_pull = None\n",
    "        self.n_min_pull = np.zeros(self.num_actions)\n",
    "        self.n_pulls = []\n",
    "        self.observations = []\n",
    "        for size in self.n_arms_vect:\n",
    "            self.n_pulls.append(np.zeros(size, dtype=int))\n",
    "            self.observations.append(-1 * np.ones((self.T, size), dtype=int))\n",
    "        return self\n",
    "\n",
    "    def pull_arm(self):\n",
    "        ucb = np.zeros(self.num_actions)\n",
    "        for i in range(self.num_actions):\n",
    "            action_vector = self.action_matrix[i, :]\n",
    "            self.n_min_pull[i] = self.n_pulls[0][action_vector[0]]\n",
    "            for j in range(1, self.dim):\n",
    "                self.n_min_pull[i] = min(self.n_min_pull[i], self.n_pulls[j][action_vector[j]])\n",
    "            virtual_pulls_sum = 0\n",
    "            for j in range(self.n_min_pull[i]):\n",
    "                prod_var = 1\n",
    "                for h in range(self.dim):\n",
    "                    prod_var *= self.observations[h][j, self.last_pull[h]]\n",
    "                virtual_pulls_sum += prod_var\n",
    "            ucb[i] = virtual_pulls_sum / self.n_min_pull[i] + self.sigma * np.sqrt(\n",
    "                self.exploration_alpha * math.log(self.t) / self.n_min_pull[i])\n",
    "        print(ucb)\n",
    "        self.last_pull = self.action_matrix[int(np.argmax(ucb)), :]\n",
    "        return self.last_pull\n",
    "\n",
    "    def update(self, observations):\n",
    "        self.t += 1\n",
    "        for i in range(self.dim):\n",
    "            self.observations[i][self.n_pulls[i][self.last_pull[i]], self.last_pull[i]] = observations[i]\n",
    "            self.n_pulls[i][self.last_pull[i]] = self.n_pulls[i][self.last_pull[i]] + 1  \n",
    "'''"
   ]
  },
  {
   "cell_type": "code",
   "execution_count": 18,
   "id": "6142cda6",
   "metadata": {},
   "outputs": [],
   "source": [
    "class FactoredUCBAgentMM():\n",
    "    \"\"\"\n",
    "    This class implements the FRB MM optimal algorithm in its anytime\n",
    "    version for bounded variables\n",
    "    \"\"\"\n",
    "    def __init__(self, k, d, time_horizon, sigma=0.5,\n",
    "                 max_reward=1, exploration_alpha=4):\n",
    "        self.k = k\n",
    "        self.d = d\n",
    "        self.T = time_horizon\n",
    "        self.max_reward = max_reward\n",
    "        self.sigma = sigma\n",
    "        self.exploration_alpha = exploration_alpha\n",
    "        self.num_actions = self.k ** self.d\n",
    "        # Creation of the action matrix\n",
    "        self.action_matrix = np.zeros(\n",
    "            (self.num_actions, self.d), dtype=int\n",
    "        )\n",
    "        for i in range(self.d):\n",
    "            vect = -1 * np.ones(self.k**(i+1))\n",
    "            external_repeats = int(self.k**(self.d-(i+1)))\n",
    "            internal_repeats = self.k**i\n",
    "            for j in range(self.k):\n",
    "                vect[j*internal_repeats:(j+1)*internal_repeats] = j\n",
    "            vect_new = np.copy(vect).reshape(-1, 1)\n",
    "            for _ in range(external_repeats-1):\n",
    "                vect_new = np.vstack((vect_new, vect.reshape(-1, 1)))\n",
    "            self.action_matrix[:, i] = vect_new.ravel()\n",
    "        print(self.action_matrix)\n",
    "        self.reset()\n",
    "\n",
    "    def reset(self):\n",
    "        self.t = 1\n",
    "        self.last_pull = None\n",
    "        self.n_min_pull = np.zeros(self.num_actions, dtype=int)\n",
    "        self.n_pulls = np.zeros((self.d, self.k), dtype=int)\n",
    "        self.observations = -1 * np.ones((self.d, self.k, self.T), dtype=int)\n",
    "        self.virtual_pulls_sum = np.zeros(self.num_actions)\n",
    "\n",
    "    def pull_arm(self):\n",
    "        # ucb = np.zeros(self.num_actions)\n",
    "        for i in range(self.num_actions):\n",
    "            action_vector = self.action_matrix[i, :]\n",
    "            new_min_pull = self.n_pulls[0, action_vector[0]]\n",
    "            for j in range(1, self.d):\n",
    "                new_min_pull = min(new_min_pull, self.n_pulls[j, action_vector[j]])\n",
    "            if new_min_pull != self.n_min_pull[i]:\n",
    "                self.n_min_pull[i] = new_min_pull\n",
    "                aux = 1\n",
    "                for j in range(self.d):\n",
    "                    aux *= self.observations[j, self.last_pull[j], self.n_min_pull[i]-1]\n",
    "                self.virtual_pulls_sum[i] += aux\n",
    "        mean = self.virtual_pulls_sum / self.n_min_pull\n",
    "        ucb = mean + self.sigma * np.sqrt(self.exploration_alpha * math.log(self.t) / self.n_min_pull)\n",
    "        self.last_pull = self.action_matrix[int(np.argmax(ucb)), :]\n",
    "        return self.last_pull\n",
    "\n",
    "    def update(self, observations):\n",
    "        self.t += 1\n",
    "        for i in range(self.d):\n",
    "            self.observations[i, self.last_pull[i], self.n_pulls[i, self.last_pull[i]]] = observations[i]\n",
    "            self.n_pulls[i, self.last_pull[i]] = self.n_pulls[i, self.last_pull[i]] + 1"
   ]
  },
  {
   "cell_type": "code",
   "execution_count": 19,
   "id": "64fe5c05",
   "metadata": {
    "scrolled": false
   },
   "outputs": [
    {
     "name": "stdout",
     "output_type": "stream",
     "text": [
      "[[0]\n",
      " [1]]\n"
     ]
    },
    {
     "data": {
      "application/vnd.jupyter.widget-view+json": {
       "model_id": "fdacfbbb1506400a871b2d9db5102f28",
       "version_major": 2,
       "version_minor": 0
      },
      "text/plain": [
       "  0%|          | 0/5 [00:00<?, ?it/s]"
      ]
     },
     "metadata": {},
     "output_type": "display_data"
    },
    {
     "name": "stdout",
     "output_type": "stream",
     "text": [
      "\\JPAalgnameshort run completed - k=2 d=1 $\\sigma$=0.5\n",
      "T=1000: $15.42 \\ (2.06)$\n",
      "T=2000: $21.45 \\ (4.13)$\n",
      "T=5000: $32.61 \\ (9.02)$\n"
     ]
    },
    {
     "data": {
      "application/vnd.jupyter.widget-view+json": {
       "model_id": "908fdc5b6f454844bb5db0eae53bc445",
       "version_major": 2,
       "version_minor": 0
      },
      "text/plain": [
       "  0%|          | 0/5 [00:00<?, ?it/s]"
      ]
     },
     "metadata": {},
     "output_type": "display_data"
    },
    {
     "name": "stdout",
     "output_type": "stream",
     "text": [
      "\\JPAalgnameshortMM run completed - k=2 d=1 $\\sigma$=0.5\n",
      "T=1000: $15.42 \\ (2.06)$\n",
      "T=2000: $21.45 \\ (4.13)$\n",
      "T=5000: $32.61 \\ (9.02)$\n"
     ]
    },
    {
     "data": {
      "application/vnd.jupyter.widget-view+json": {
       "model_id": "27bc0073838d406bace1582128910da9",
       "version_major": 2,
       "version_minor": 0
      },
      "text/plain": [
       "  0%|          | 0/5 [00:00<?, ?it/s]"
      ]
     },
     "metadata": {},
     "output_type": "display_data"
    },
    {
     "name": "stdout",
     "output_type": "stream",
     "text": [
      "\\ucbone run completed - k=2 d=1 $\\sigma$=0.5\n",
      "T=1000: $15.42 \\ (2.06)$\n",
      "T=2000: $21.45 \\ (4.13)$\n",
      "T=5000: $32.61 \\ (9.02)$\n",
      "[[0]\n",
      " [1]\n",
      " [2]]\n"
     ]
    },
    {
     "data": {
      "application/vnd.jupyter.widget-view+json": {
       "model_id": "69bacca57c3d4fe484374c2e436c7775",
       "version_major": 2,
       "version_minor": 0
      },
      "text/plain": [
       "  0%|          | 0/5 [00:00<?, ?it/s]"
      ]
     },
     "metadata": {},
     "output_type": "display_data"
    },
    {
     "name": "stdout",
     "output_type": "stream",
     "text": [
      "\\JPAalgnameshort run completed - k=3 d=1 $\\sigma$=0.5\n",
      "T=1000: $28.37 \\ (4.2)$\n",
      "T=2000: $40.75 \\ (7.01)$\n",
      "T=5000: $56.8 \\ (9.81)$\n"
     ]
    },
    {
     "data": {
      "application/vnd.jupyter.widget-view+json": {
       "model_id": "aaf42a7378fd44d29d1a22e9ca97e1bf",
       "version_major": 2,
       "version_minor": 0
      },
      "text/plain": [
       "  0%|          | 0/5 [00:00<?, ?it/s]"
      ]
     },
     "metadata": {},
     "output_type": "display_data"
    },
    {
     "name": "stdout",
     "output_type": "stream",
     "text": [
      "\\JPAalgnameshortMM run completed - k=3 d=1 $\\sigma$=0.5\n",
      "T=1000: $28.37 \\ (4.2)$\n",
      "T=2000: $40.75 \\ (7.01)$\n",
      "T=5000: $56.8 \\ (9.81)$\n"
     ]
    },
    {
     "data": {
      "application/vnd.jupyter.widget-view+json": {
       "model_id": "57e64f6f53ba4052bc2c8b5ca07fee76",
       "version_major": 2,
       "version_minor": 0
      },
      "text/plain": [
       "  0%|          | 0/5 [00:00<?, ?it/s]"
      ]
     },
     "metadata": {},
     "output_type": "display_data"
    },
    {
     "name": "stdout",
     "output_type": "stream",
     "text": [
      "\\ucbone run completed - k=3 d=1 $\\sigma$=0.5\n",
      "T=1000: $28.37 \\ (4.2)$\n",
      "T=2000: $40.75 \\ (7.01)$\n",
      "T=5000: $56.8 \\ (9.81)$\n",
      "[[0 0]\n",
      " [1 0]\n",
      " [0 1]\n",
      " [1 1]]\n"
     ]
    },
    {
     "data": {
      "application/vnd.jupyter.widget-view+json": {
       "model_id": "962ee3b1720243e4886b4c9ab269d4cf",
       "version_major": 2,
       "version_minor": 0
      },
      "text/plain": [
       "  0%|          | 0/5 [00:00<?, ?it/s]"
      ]
     },
     "metadata": {},
     "output_type": "display_data"
    },
    {
     "name": "stdout",
     "output_type": "stream",
     "text": [
      "\\JPAalgnameshort run completed - k=2 d=2 $\\sigma$=0.5\n",
      "T=1000: $29.59 \\ (2.53)$\n",
      "T=2000: $38.52 \\ (1.88)$\n",
      "T=5000: $52.41 \\ (5.59)$\n"
     ]
    },
    {
     "data": {
      "application/vnd.jupyter.widget-view+json": {
       "model_id": "8bfe70a679bc4796a21b7beffb57abd5",
       "version_major": 2,
       "version_minor": 0
      },
      "text/plain": [
       "  0%|          | 0/5 [00:00<?, ?it/s]"
      ]
     },
     "metadata": {},
     "output_type": "display_data"
    },
    {
     "name": "stdout",
     "output_type": "stream",
     "text": [
      "\\JPAalgnameshortMM run completed - k=2 d=2 $\\sigma$=0.5\n",
      "T=1000: $124.67 \\ (44.07)$\n",
      "T=2000: $218.67 \\ (73.4)$\n",
      "T=5000: $476.56 \\ (151.07)$\n"
     ]
    },
    {
     "data": {
      "application/vnd.jupyter.widget-view+json": {
       "model_id": "11b80792bb834f75a2a3fa198bc93805",
       "version_major": 2,
       "version_minor": 0
      },
      "text/plain": [
       "  0%|          | 0/5 [00:00<?, ?it/s]"
      ]
     },
     "metadata": {},
     "output_type": "display_data"
    },
    {
     "name": "stdout",
     "output_type": "stream",
     "text": [
      "\\ucbone run completed - k=2 d=2 $\\sigma$=0.5\n",
      "T=1000: $43.75 \\ (1.62)$\n",
      "T=2000: $64.53 \\ (2.74)$\n",
      "T=5000: $97.22 \\ (8.25)$\n",
      "[[0 0]\n",
      " [1 0]\n",
      " [2 0]\n",
      " [0 1]\n",
      " [1 1]\n",
      " [2 1]\n",
      " [0 2]\n",
      " [1 2]\n",
      " [2 2]]\n"
     ]
    },
    {
     "data": {
      "application/vnd.jupyter.widget-view+json": {
       "model_id": "1a1f195ba6ad42e4856c21aa7c68ee3c",
       "version_major": 2,
       "version_minor": 0
      },
      "text/plain": [
       "  0%|          | 0/5 [00:00<?, ?it/s]"
      ]
     },
     "metadata": {},
     "output_type": "display_data"
    },
    {
     "name": "stdout",
     "output_type": "stream",
     "text": [
      "\\JPAalgnameshort run completed - k=3 d=2 $\\sigma$=0.5\n",
      "T=1000: $41.14 \\ (4.47)$\n",
      "T=2000: $58.02 \\ (6.15)$\n",
      "T=5000: $89.22 \\ (9.11)$\n"
     ]
    },
    {
     "data": {
      "application/vnd.jupyter.widget-view+json": {
       "model_id": "66218bd718e34792bb5e24cd77f2f180",
       "version_major": 2,
       "version_minor": 0
      },
      "text/plain": [
       "  0%|          | 0/5 [00:00<?, ?it/s]"
      ]
     },
     "metadata": {},
     "output_type": "display_data"
    },
    {
     "name": "stdout",
     "output_type": "stream",
     "text": [
      "\\JPAalgnameshortMM run completed - k=3 d=2 $\\sigma$=0.5\n",
      "T=1000: $43.99 \\ (8.22)$\n",
      "T=2000: $68.95 \\ (18.94)$\n",
      "T=5000: $128.67 \\ (45.92)$\n"
     ]
    },
    {
     "data": {
      "application/vnd.jupyter.widget-view+json": {
       "model_id": "77e143cede944156bfa65934331e7441",
       "version_major": 2,
       "version_minor": 0
      },
      "text/plain": [
       "  0%|          | 0/5 [00:00<?, ?it/s]"
      ]
     },
     "metadata": {},
     "output_type": "display_data"
    },
    {
     "name": "stdout",
     "output_type": "stream",
     "text": [
      "\\ucbone run completed - k=3 d=2 $\\sigma$=0.5\n",
      "T=1000: $67.9 \\ (7.77)$\n",
      "T=2000: $105.04 \\ (17.91)$\n",
      "T=5000: $177.94 \\ (40.88)$\n",
      "[[0 0 0]\n",
      " [1 0 0]\n",
      " [0 1 0]\n",
      " [1 1 0]\n",
      " [0 0 1]\n",
      " [1 0 1]\n",
      " [0 1 1]\n",
      " [1 1 1]]\n"
     ]
    },
    {
     "data": {
      "application/vnd.jupyter.widget-view+json": {
       "model_id": "a530c018e89e4c7d9108603e88537a48",
       "version_major": 2,
       "version_minor": 0
      },
      "text/plain": [
       "  0%|          | 0/5 [00:00<?, ?it/s]"
      ]
     },
     "metadata": {},
     "output_type": "display_data"
    },
    {
     "name": "stdout",
     "output_type": "stream",
     "text": [
      "\\JPAalgnameshort run completed - k=2 d=3 $\\sigma$=0.5\n",
      "T=1000: $21.6 \\ (3.59)$\n",
      "T=2000: $29.34 \\ (3.74)$\n",
      "T=5000: $48.02 \\ (6.17)$\n"
     ]
    },
    {
     "data": {
      "application/vnd.jupyter.widget-view+json": {
       "model_id": "e4a9cd34c14f434a98d566fc634f63cf",
       "version_major": 2,
       "version_minor": 0
      },
      "text/plain": [
       "  0%|          | 0/5 [00:00<?, ?it/s]"
      ]
     },
     "metadata": {},
     "output_type": "display_data"
    },
    {
     "name": "stdout",
     "output_type": "stream",
     "text": [
      "\\JPAalgnameshortMM run completed - k=2 d=3 $\\sigma$=0.5\n",
      "T=1000: $46.58 \\ (9.03)$\n",
      "T=2000: $80.64 \\ (23.01)$\n",
      "T=5000: $143.33 \\ (61.59)$\n"
     ]
    },
    {
     "data": {
      "application/vnd.jupyter.widget-view+json": {
       "model_id": "51496e83f79a4382887d1393149edabc",
       "version_major": 2,
       "version_minor": 0
      },
      "text/plain": [
       "  0%|          | 0/5 [00:00<?, ?it/s]"
      ]
     },
     "metadata": {},
     "output_type": "display_data"
    },
    {
     "name": "stdout",
     "output_type": "stream",
     "text": [
      "\\ucbone run completed - k=2 d=3 $\\sigma$=0.5\n",
      "T=1000: $63.18 \\ (10.07)$\n",
      "T=2000: $106.33 \\ (22.94)$\n",
      "T=5000: $222.06 \\ (62.42)$\n",
      "[[0 0 0]\n",
      " [1 0 0]\n",
      " [2 0 0]\n",
      " [0 1 0]\n",
      " [1 1 0]\n",
      " [2 1 0]\n",
      " [0 2 0]\n",
      " [1 2 0]\n",
      " [2 2 0]\n",
      " [0 0 1]\n",
      " [1 0 1]\n",
      " [2 0 1]\n",
      " [0 1 1]\n",
      " [1 1 1]\n",
      " [2 1 1]\n",
      " [0 2 1]\n",
      " [1 2 1]\n",
      " [2 2 1]\n",
      " [0 0 2]\n",
      " [1 0 2]\n",
      " [2 0 2]\n",
      " [0 1 2]\n",
      " [1 1 2]\n",
      " [2 1 2]\n",
      " [0 2 2]\n",
      " [1 2 2]\n",
      " [2 2 2]]\n"
     ]
    },
    {
     "data": {
      "application/vnd.jupyter.widget-view+json": {
       "model_id": "9fba07935f4446b789f7d223e2055300",
       "version_major": 2,
       "version_minor": 0
      },
      "text/plain": [
       "  0%|          | 0/5 [00:00<?, ?it/s]"
      ]
     },
     "metadata": {},
     "output_type": "display_data"
    },
    {
     "name": "stdout",
     "output_type": "stream",
     "text": [
      "\\JPAalgnameshort run completed - k=3 d=3 $\\sigma$=0.5\n",
      "T=1000: $41.38 \\ (7.59)$\n",
      "T=2000: $58.78 \\ (8.93)$\n",
      "T=5000: $97.53 \\ (16.2)$\n"
     ]
    },
    {
     "data": {
      "application/vnd.jupyter.widget-view+json": {
       "model_id": "13811692b88b4e919176ef539f64e166",
       "version_major": 2,
       "version_minor": 0
      },
      "text/plain": [
       "  0%|          | 0/5 [00:00<?, ?it/s]"
      ]
     },
     "metadata": {},
     "output_type": "display_data"
    },
    {
     "name": "stdout",
     "output_type": "stream",
     "text": [
      "\\JPAalgnameshortMM run completed - k=3 d=3 $\\sigma$=0.5\n",
      "T=1000: $84.51 \\ (18.04)$\n",
      "T=2000: $142.73 \\ (37.24)$\n",
      "T=5000: $348.91 \\ (108.14)$\n"
     ]
    },
    {
     "data": {
      "application/vnd.jupyter.widget-view+json": {
       "model_id": "0ac4f682dd3c4f7aa640f9dc4a8d88a2",
       "version_major": 2,
       "version_minor": 0
      },
      "text/plain": [
       "  0%|          | 0/5 [00:00<?, ?it/s]"
      ]
     },
     "metadata": {},
     "output_type": "display_data"
    },
    {
     "name": "stdout",
     "output_type": "stream",
     "text": [
      "\\ucbone run completed - k=3 d=3 $\\sigma$=0.5\n",
      "T=1000: $102.71 \\ (12.28)$\n",
      "T=2000: $188.77 \\ (27.86)$\n",
      "T=5000: $419.56 \\ (77.35)$\n"
     ]
    },
    {
     "data": {
      "image/png": "[encoded data removed]",
      "text/plain": [
       "<Figure size 432x288 with 1 Axes>"
      ]
     },
     "metadata": {
      "needs_background": "light"
     },
     "output_type": "display_data"
    },
    {
     "data": {
      "image/png": "[encoded data removed]",
      "text/plain": [
       "<Figure size 432x288 with 1 Axes>"
      ]
     },
     "metadata": {
      "needs_background": "light"
     },
     "output_type": "display_data"
    },
    {
     "data": {
      "image/png": "[encoded data removed]",
      "text/plain": [
       "<Figure size 432x288 with 1 Axes>"
      ]
     },
     "metadata": {
      "needs_background": "light"
     },
     "output_type": "display_data"
    },
    {
     "data": {
      "image/png": "[encoded data removed]",
      "text/plain": [
       "<Figure size 432x288 with 1 Axes>"
      ]
     },
     "metadata": {
      "needs_background": "light"
     },
     "output_type": "display_data"
    },
    {
     "data": {
      "image/png": "[encoded data removed]",
      "text/plain": [
       "<Figure size 432x288 with 1 Axes>"
      ]
     },
     "metadata": {
      "needs_background": "light"
     },
     "output_type": "display_data"
    },
    {
     "data": {
      "image/png": "[encoded data removed]",
      "text/plain": [
       "<Figure size 432x288 with 1 Axes>"
      ]
     },
     "metadata": {
      "needs_background": "light"
     },
     "output_type": "display_data"
    }
   ],
   "source": [
    "# BASIC SETTING FOR EXPERIMENTS\n",
    "fucb = '\\\\JPAalgnameshort'\n",
    "fucbMM = '\\\\JPAalgnameshortMM'\n",
    "ucbone = '\\\\ucbone'\n",
    "httem = '\\\\httem'\n",
    "algs = [fucb, ucbone, httem, fucbMM]\n",
    "T = 10000\n",
    "checkpoints = [1000, 5000, 10000]\n",
    "n_trials = 10\n",
    "seed = 0\n",
    "k_list = [3, 4, 5]\n",
    "d_list = [1, 2, 3, 4]\n",
    "bounded_list = [True, False]   \n",
    "do_subsampling = True\n",
    "\n",
    "# OVERRIDE FOR TESTING PURPOSE TO SPEED UP THE RUNS\n",
    "T = 5000\n",
    "checkpoints = [1000, 2000, 5000]\n",
    "bounded_list = [True] \n",
    "algs = [fucb, fucbMM, ucbone]\n",
    "n_trials = 5\n",
    "k_list = [2, 3]\n",
    "d_list = [1, 2, 3]\n",
    "do_subsampling = False\n",
    "    \n",
    "result_table = {}\n",
    "\n",
    "for bounded in bounded_list:\n",
    "\n",
    "    result_table[bounded] = {}\n",
    "    \n",
    "    if bounded: \n",
    "        sigma = 0.5 # fixed for bernoulli\n",
    "    else:\n",
    "        sigma = 0.1\n",
    "    \n",
    "    for d in d_list:\n",
    "\n",
    "        result_table[bounded][d] = {}\n",
    "\n",
    "        for k in k_list:\n",
    "\n",
    "            result_table[bounded][d][k] = {}\n",
    "\n",
    "            arms_vect = k * np.ones(d, dtype=int)\n",
    "\n",
    "            # F-UCB INIT\n",
    "            agent_factored = FactoredUCBAgent(arms_vect, d, sigma)\n",
    "\n",
    "            # F-UCB-MM INIT\n",
    "            agent_factored_MM = FactoredUCBAgentMM(k, d, T)\n",
    "            \n",
    "            # UCB1 INIT\n",
    "            agent_ucb = UCB1Agent(d*k, sigma)\n",
    "            action_mx = create_action_matrix(d, k)\n",
    "\n",
    "            # HT-TEM INIT\n",
    "            agent_ht_tem = TMRobustUCBAgent(d*k, 1, 1)\n",
    "            \n",
    "            mean_cum_expected_regret = {}\n",
    "            std_cum_expected_regret = {}\n",
    "            \n",
    "            for alg in algs:\n",
    "\n",
    "                result_table[bounded][d][k][alg] = {}\n",
    "\n",
    "                env = FactoredEnv(arms_vect, d, sigma=sigma, bounded=bounded)\n",
    "\n",
    "                inst_expected_regret = np.zeros((n_trials, T))\n",
    "                \n",
    "                # for trial_i in range(n_trials):\n",
    "                for trial_i in tqdm(range(n_trials)):\n",
    "                \n",
    "                    vals_expected = env.get_expected()\n",
    "                    max_expected = compute_max_expected(vals_expected)\n",
    "\n",
    "                    for t in range(T):\n",
    "\n",
    "                        if alg == ucbone:\n",
    "                            action = action_mx[agent_ucb.pull_arm(), :]\n",
    "                            agent_ucb.update(np.prod(env.step(action)))\n",
    "                        elif alg == fucb:\n",
    "                            action = agent_factored.pull_arm()\n",
    "                            agent_factored.update(env.step(action))\n",
    "                        elif alg == fucbMM:\n",
    "                            action = agent_factored_MM.pull_arm()\n",
    "                            agent_factored_MM.update(env.step(action))\n",
    "                        elif alg == httem:\n",
    "                            action = action_mx[agent_ht_tem.pull_arm(), :]\n",
    "                            agent_ht_tem.update(np.prod(env.step(action)))\n",
    "                        else:\n",
    "                            raise ValueError('Error in selecting algorithm')\n",
    "\n",
    "                        inst_expected_regret[trial_i, t] = max_expected - get_pulled_expected(\n",
    "                            vals_expected, action)\n",
    "                    \n",
    "                    # I reset all the agents, becuase i do not know which one \n",
    "                    # i am using for the sake of simplicity\n",
    "                    agent_ucb.reset()\n",
    "                    agent_factored.reset()\n",
    "                    agent_factored_MM.reset()\n",
    "                    agent_ht_tem.reset()\n",
    "                    \n",
    "                    if trial_i < n_trials - 1:\n",
    "                        env.reset()\n",
    "                \n",
    "                # maybe replace with cumsum with correct axis\n",
    "                cum_expected_regret = np.zeros(inst_expected_regret.shape)\n",
    "                cum_expected_regret[:, 0] = inst_expected_regret[:, 0]\n",
    "                for i in range(1, T):\n",
    "                    cum_expected_regret[:, i] = inst_expected_regret[:, i] + cum_expected_regret[:, i-1]\n",
    "\n",
    "                mean_cum_expected_regret[alg] = np.mean(cum_expected_regret, axis=0)\n",
    "                std_cum_expected_regret[alg] = np.std(cum_expected_regret, axis=0) / np.sqrt(n_trials)\n",
    "\n",
    "                print('{} run completed - k={} d={} $\\sigma$={}'.format(alg, k, d, sigma))\n",
    "                for i in checkpoints:\n",
    "                    result_table[bounded][d][k][alg][i] = '${} \\ ({})$   '.format(\n",
    "                        round(mean_cum_expected_regret[alg][i-1], 2), \n",
    "                        round(std_cum_expected_regret[alg][i-1], 2)\n",
    "                    )\n",
    "                    print('T={}: ${} \\ ({})$'.format(i, round(mean_cum_expected_regret[alg][i-1], 2), \n",
    "                                                  round(std_cum_expected_regret[alg][i-1], 2)))\n",
    "\n",
    "            plt.figure()\n",
    "            if do_subsampling:\n",
    "                subsample = 50\n",
    "                assert T % subsample == 0\n",
    "                x_plt = np.linspace(0, T-1, int(T/subsample), dtype=int)\n",
    "            else:\n",
    "                x_plt = np.linspace(0, T-1, T, dtype=int)\n",
    "            for alg in algs:\n",
    "                plt.plot(x_plt, mean_cum_expected_regret[alg][x_plt], \n",
    "                         label=alg)\n",
    "                plt.fill_between(x_plt, \n",
    "                                 mean_cum_expected_regret[alg][x_plt] - std_cum_expected_regret[alg][x_plt], \n",
    "                                 mean_cum_expected_regret[alg][x_plt] + std_cum_expected_regret[alg][x_plt], \n",
    "                                 alpha=0.3)\n",
    "            plt.legend()\n",
    "            plt.xlabel('Rounds')\n",
    "            plt.ylabel('Regret')\n",
    "            plt.title('bounded={} k={} d={} $\\sigma$={}'.format(bounded, k, d, sigma))\n",
    "            if bounded:\n",
    "                save_str = 'results/bounded_k{}_d{}'.format(k, d)\n",
    "            else:\n",
    "                save_str = 'results/subgauss_k{}_d{}'.format(k, d)\n",
    "            # plt.savefig(save_str + '.png')\n",
    "            # tkz.save(save_str + '.tex')"
   ]
  },
  {
   "cell_type": "code",
   "execution_count": 5,
   "id": "46dc7c88",
   "metadata": {
    "scrolled": false
   },
   "outputs": [
    {
     "name": "stdout",
     "output_type": "stream",
     "text": [
      "d= \t k= \t T=\t\t\\JPAalgnameshort\t\t\t\\JPAalgnameshortMM\t\t\t\\ucbone\t\t\t\n",
      "$1$ & \t $2$ & \t $1000$ \t\t& $15.42 \\ (2.06)$   \t& $15.42 \\ (2.06)$   \t& $15.42 \\ (2.06)$   \t\\\\\n",
      "\\cmidrule{3-9}\n",
      "$1$ & \t $2$ & \t $2000$ \t\t& $21.45 \\ (4.13)$   \t& $21.45 \\ (4.13)$   \t& $21.45 \\ (4.13)$   \t\\\\\n",
      "\\cmidrule{3-9}\n",
      "$1$ & \t $2$ & \t $5000$ \t\t& $32.61 \\ (9.02)$   \t& $32.61 \\ (9.02)$   \t& $32.61 \\ (9.02)$   \t\\\\\n",
      "\\cmidrule{2-9}\n",
      "$1$ & \t $3$ & \t $1000$ \t\t& $28.37 \\ (4.2)$   \t& $28.37 \\ (4.2)$   \t& $28.37 \\ (4.2)$   \t\\\\\n",
      "\\cmidrule{3-9}\n",
      "$1$ & \t $3$ & \t $2000$ \t\t& $40.75 \\ (7.01)$   \t& $40.75 \\ (7.01)$   \t& $40.75 \\ (7.01)$   \t\\\\\n",
      "\\cmidrule{3-9}\n",
      "$1$ & \t $3$ & \t $5000$ \t\t& $56.8 \\ (9.81)$   \t& $56.8 \\ (9.81)$   \t& $56.8 \\ (9.81)$   \t\\\\\n",
      "\\cmidrule{2-9}\n",
      "\\cmidrule{1-9}\n",
      "$2$ & \t $2$ & \t $1000$ \t\t& $29.59 \\ (2.53)$   \t& $124.67 \\ (44.07)$   \t& $43.75 \\ (1.62)$   \t\\\\\n",
      "\\cmidrule{3-9}\n",
      "$2$ & \t $2$ & \t $2000$ \t\t& $38.52 \\ (1.88)$   \t& $218.67 \\ (73.4)$   \t& $64.53 \\ (2.74)$   \t\\\\\n",
      "\\cmidrule{3-9}\n",
      "$2$ & \t $2$ & \t $5000$ \t\t& $52.41 \\ (5.59)$   \t& $476.56 \\ (151.07)$   \t& $97.22 \\ (8.25)$   \t\\\\\n",
      "\\cmidrule{2-9}\n",
      "$2$ & \t $3$ & \t $1000$ \t\t& $41.14 \\ (4.47)$   \t& $43.99 \\ (8.22)$   \t& $67.9 \\ (7.77)$   \t\\\\\n",
      "\\cmidrule{3-9}\n",
      "$2$ & \t $3$ & \t $2000$ \t\t& $58.02 \\ (6.15)$   \t& $68.95 \\ (18.94)$   \t& $105.04 \\ (17.91)$   \t\\\\\n",
      "\\cmidrule{3-9}\n",
      "$2$ & \t $3$ & \t $5000$ \t\t& $89.22 \\ (9.11)$   \t& $128.67 \\ (45.92)$   \t& $177.94 \\ (40.88)$   \t\\\\\n",
      "\\cmidrule{2-9}\n",
      "\\cmidrule{1-9}\n",
      "$3$ & \t $2$ & \t $1000$ \t\t& $21.6 \\ (3.59)$   \t& $46.58 \\ (9.03)$   \t& $63.18 \\ (10.07)$   \t\\\\\n",
      "\\cmidrule{3-9}\n",
      "$3$ & \t $2$ & \t $2000$ \t\t& $29.34 \\ (3.74)$   \t& $80.64 \\ (23.01)$   \t& $106.33 \\ (22.94)$   \t\\\\\n",
      "\\cmidrule{3-9}\n",
      "$3$ & \t $2$ & \t $5000$ \t\t& $48.02 \\ (6.17)$   \t& $143.33 \\ (61.59)$   \t& $222.06 \\ (62.42)$   \t\\\\\n",
      "\\cmidrule{2-9}\n",
      "$3$ & \t $3$ & \t $1000$ \t\t& $41.38 \\ (7.59)$   \t& $84.51 \\ (18.04)$   \t& $102.71 \\ (12.28)$   \t\\\\\n",
      "\\cmidrule{3-9}\n",
      "$3$ & \t $3$ & \t $2000$ \t\t& $58.78 \\ (8.93)$   \t& $142.73 \\ (37.24)$   \t& $188.77 \\ (27.86)$   \t\\\\\n",
      "\\cmidrule{3-9}\n",
      "$3$ & \t $3$ & \t $5000$ \t\t& $97.53 \\ (16.2)$   \t& $348.91 \\ (108.14)$   \t& $419.56 \\ (77.35)$   \t\\\\\n",
      "\\cmidrule{2-9}\n",
      "\\cmidrule{1-9}\n"
     ]
    }
   ],
   "source": [
    "print('d= \\t k= \\t T=\\t\\t', end='')\n",
    "[print(alg, end='\\t\\t\\t') for alg in algs]\n",
    "print('')\n",
    "\n",
    "for d in d_list:\n",
    "    for k in k_list:\n",
    "        for T_val in checkpoints:\n",
    "            print('${}$ & \\t ${}$ & \\t ${}$ \\t\\t'.format(d, k, T_val), end='')\n",
    "            for bounded in bounded_list:\n",
    "                for alg in algs:\n",
    "                    print('&', result_table[bounded][d][k][alg][T_val], end='\\t')\n",
    "            if T_val == checkpoints[-1]:\n",
    "                print('\\\\\\\\\\n\\\\cmidrule{2-9}')\n",
    "            else:\n",
    "                print('\\\\\\\\\\n\\\\cmidrule{3-9}')\n",
    "    print('\\cmidrule{1-9}')"
   ]
  }
 ],
 "metadata": {
  "kernelspec": {
   "display_name": "Python 3 (ipykernel)",
   "language": "python",
   "name": "python3"
  },
  "language_info": {
   "codemirror_mode": {
    "name": "ipython",
    "version": 3
   },
   "file_extension": ".py",
   "mimetype": "text/x-python",
   "name": "python",
   "nbconvert_exporter": "python",
   "pygments_lexer": "ipython3",
   "version": "3.10.12"
  }
 },
 "nbformat": 4,
 "nbformat_minor": 5
}
