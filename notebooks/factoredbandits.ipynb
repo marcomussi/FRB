{
 "cells": [
  {
   "cell_type": "code",
   "execution_count": 1,
   "id": "52278476",
   "metadata": {},
   "outputs": [
    {
     "name": "stdout",
     "output_type": "stream",
     "text": [
      "Moving Current Directory from /Users/marcomussi/git/FRB/notebooks to /Users/marcomussi/git/FRB\n"
     ]
    }
   ],
   "source": [
    "import numpy as np\n",
    "from tqdm.auto import tqdm\n",
    "import matplotlib.pyplot as plt\n",
    "import tikzplotlib as tkz\n",
    "import warnings\n",
    "warnings.filterwarnings(\"ignore\")\n",
    "\n",
    "import os, sys\n",
    "\n",
    "_, filename = os.path.split(os.getcwd())\n",
    "if filename == 'notebooks':\n",
    "    old_dir = os.getcwd()\n",
    "    os.chdir('../')\n",
    "    print('Moving Current Directory from ' + old_dir + ' to ' + os.getcwd())\n",
    "else:\n",
    "    print('Current Directory is ' + os.getcwd())\n",
    "\n",
    "sys.path.append('./')  \n",
    "\n",
    "from FRB.agents import UCB1Agent, FactoredUCBAgent, FactoredUCBAgentMM, TMRobustUCBAgent\n",
    "from FRB.env import FactoredEnv\n",
    "from FRB.utils import get_pulled_expected, compute_max_expected, create_action_matrix, get_sigma_square_eq_max"
   ]
  },
  {
   "cell_type": "code",
   "execution_count": 2,
   "id": "64fe5c05",
   "metadata": {
    "scrolled": false
   },
   "outputs": [
    {
     "name": "stdout",
     "output_type": "stream",
     "text": [
      "Expected values: [array([0.68416945, 0.80063256, 0.72193436]), array([0.68141823, 0.59655836, 0.75212588])]\n"
     ]
    },
    {
     "data": {
      "application/vnd.jupyter.widget-view+json": {
       "model_id": "5e229d725c574b8fab596325e472865b",
       "version_major": 2,
       "version_minor": 0
      },
      "text/plain": [
       "  0%|          | 0/5000 [00:00<?, ?it/s]"
      ]
     },
     "metadata": {},
     "output_type": "display_data"
    },
    {
     "name": "stdout",
     "output_type": "stream",
     "text": [
      "Expected values: [array([0.5919154 , 0.80422715, 0.30008006]), array([0.5116328 , 0.40272912, 0.36463702])]\n"
     ]
    },
    {
     "data": {
      "application/vnd.jupyter.widget-view+json": {
       "model_id": "9877911aa11546d7b4c5b81ef8d67f17",
       "version_major": 2,
       "version_minor": 0
      },
      "text/plain": [
       "  0%|          | 0/5000 [00:00<?, ?it/s]"
      ]
     },
     "metadata": {},
     "output_type": "display_data"
    },
    {
     "name": "stdout",
     "output_type": "stream",
     "text": [
      "Expected values: [array([0.60519643, 0.31814836, 0.68476373]), array([0.60472567, 0.59425746, 0.53123437])]\n"
     ]
    },
    {
     "data": {
      "application/vnd.jupyter.widget-view+json": {
       "model_id": "2e5b426c0054440fa8a067f341fc98c4",
       "version_major": 2,
       "version_minor": 0
      },
      "text/plain": [
       "  0%|          | 0/5000 [00:00<?, ?it/s]"
      ]
     },
     "metadata": {},
     "output_type": "display_data"
    },
    {
     "name": "stdout",
     "output_type": "stream",
     "text": [
      "Expected values: [array([0.68555853, 0.79570348, 0.50363332]), array([0.65757932, 0.92506287, 0.92740516])]\n"
     ]
    },
    {
     "data": {
      "application/vnd.jupyter.widget-view+json": {
       "model_id": "00642b7783f54d9cabc584237ec9834f",
       "version_major": 2,
       "version_minor": 0
      },
      "text/plain": [
       "  0%|          | 0/5000 [00:00<?, ?it/s]"
      ]
     },
     "metadata": {},
     "output_type": "display_data"
    },
    {
     "name": "stdout",
     "output_type": "stream",
     "text": [
      "Expected values: [array([0.97692089, 0.68306257, 0.98087905]), array([0.8003712 , 0.78841018, 0.45126265])]\n"
     ]
    },
    {
     "data": {
      "application/vnd.jupyter.widget-view+json": {
       "model_id": "9e68fab588b74d508888bf758f177c1c",
       "version_major": 2,
       "version_minor": 0
      },
      "text/plain": [
       "  0%|          | 0/5000 [00:00<?, ?it/s]"
      ]
     },
     "metadata": {},
     "output_type": "display_data"
    },
    {
     "name": "stdout",
     "output_type": "stream",
     "text": [
      "\\JPAalgnameshort run completed - k=3 d=2 $\\sigma$=0.5\n",
      "T=1000: $41.14 \\ (4.47)$\n",
      "T=2000: $58.02 \\ (6.15)$\n",
      "T=5000: $89.22 \\ (9.11)$\n",
      "Expected values: [array([0.68416945, 0.80063256, 0.72193436]), array([0.68141823, 0.59655836, 0.75212588])]\n"
     ]
    },
    {
     "data": {
      "application/vnd.jupyter.widget-view+json": {
       "model_id": "4e7daed8459f44ab9dc90e63fbfcce47",
       "version_major": 2,
       "version_minor": 0
      },
      "text/plain": [
       "  0%|          | 0/5000 [00:00<?, ?it/s]"
      ]
     },
     "metadata": {},
     "output_type": "display_data"
    },
    {
     "name": "stdout",
     "output_type": "stream",
     "text": [
      "Expected values: [array([0.5919154 , 0.80422715, 0.30008006]), array([0.5116328 , 0.40272912, 0.36463702])]\n"
     ]
    },
    {
     "data": {
      "application/vnd.jupyter.widget-view+json": {
       "model_id": "14c7398d77974ff5b92d4c1c20e351e9",
       "version_major": 2,
       "version_minor": 0
      },
      "text/plain": [
       "  0%|          | 0/5000 [00:00<?, ?it/s]"
      ]
     },
     "metadata": {},
     "output_type": "display_data"
    },
    {
     "name": "stdout",
     "output_type": "stream",
     "text": [
      "Expected values: [array([0.60519643, 0.31814836, 0.68476373]), array([0.60472567, 0.59425746, 0.53123437])]\n"
     ]
    },
    {
     "data": {
      "application/vnd.jupyter.widget-view+json": {
       "model_id": "9818280d55ea47e08eb22bf2e89b88e7",
       "version_major": 2,
       "version_minor": 0
      },
      "text/plain": [
       "  0%|          | 0/5000 [00:00<?, ?it/s]"
      ]
     },
     "metadata": {},
     "output_type": "display_data"
    },
    {
     "name": "stdout",
     "output_type": "stream",
     "text": [
      "Expected values: [array([0.68555853, 0.79570348, 0.50363332]), array([0.65757932, 0.92506287, 0.92740516])]\n"
     ]
    },
    {
     "data": {
      "application/vnd.jupyter.widget-view+json": {
       "model_id": "4bac8df6d420475b895a3ab755f993cc",
       "version_major": 2,
       "version_minor": 0
      },
      "text/plain": [
       "  0%|          | 0/5000 [00:00<?, ?it/s]"
      ]
     },
     "metadata": {},
     "output_type": "display_data"
    },
    {
     "name": "stdout",
     "output_type": "stream",
     "text": [
      "Expected values: [array([0.97692089, 0.68306257, 0.98087905]), array([0.8003712 , 0.78841018, 0.45126265])]\n"
     ]
    },
    {
     "data": {
      "application/vnd.jupyter.widget-view+json": {
       "model_id": "799b814775d64b729e78679e08f31e1e",
       "version_major": 2,
       "version_minor": 0
      },
      "text/plain": [
       "  0%|          | 0/5000 [00:00<?, ?it/s]"
      ]
     },
     "metadata": {},
     "output_type": "display_data"
    },
    {
     "name": "stdout",
     "output_type": "stream",
     "text": [
      "\\JPAalgnameshortMM run completed - k=3 d=2 $\\sigma$=0.5\n",
      "T=1000: $143.93 \\ (17.69)$\n",
      "T=2000: $287.98 \\ (35.24)$\n",
      "T=5000: $725.73 \\ (90.24)$\n",
      "Expected values: [array([0.68416945, 0.80063256, 0.72193436]), array([0.68141823, 0.59655836, 0.75212588])]\n"
     ]
    },
    {
     "data": {
      "application/vnd.jupyter.widget-view+json": {
       "model_id": "d9b9482618e7468daeb85889cc8fa08d",
       "version_major": 2,
       "version_minor": 0
      },
      "text/plain": [
       "  0%|          | 0/5000 [00:00<?, ?it/s]"
      ]
     },
     "metadata": {},
     "output_type": "display_data"
    },
    {
     "name": "stdout",
     "output_type": "stream",
     "text": [
      "Expected values: [array([0.5919154 , 0.80422715, 0.30008006]), array([0.5116328 , 0.40272912, 0.36463702])]\n"
     ]
    },
    {
     "data": {
      "application/vnd.jupyter.widget-view+json": {
       "model_id": "4469572e7bef4f52a7c6b03cf711dbd1",
       "version_major": 2,
       "version_minor": 0
      },
      "text/plain": [
       "  0%|          | 0/5000 [00:00<?, ?it/s]"
      ]
     },
     "metadata": {},
     "output_type": "display_data"
    },
    {
     "name": "stdout",
     "output_type": "stream",
     "text": [
      "Expected values: [array([0.60519643, 0.31814836, 0.68476373]), array([0.60472567, 0.59425746, 0.53123437])]\n"
     ]
    },
    {
     "data": {
      "application/vnd.jupyter.widget-view+json": {
       "model_id": "84e688a0429c4869ab25355117fcdf9a",
       "version_major": 2,
       "version_minor": 0
      },
      "text/plain": [
       "  0%|          | 0/5000 [00:00<?, ?it/s]"
      ]
     },
     "metadata": {},
     "output_type": "display_data"
    },
    {
     "name": "stdout",
     "output_type": "stream",
     "text": [
      "Expected values: [array([0.68555853, 0.79570348, 0.50363332]), array([0.65757932, 0.92506287, 0.92740516])]\n"
     ]
    },
    {
     "data": {
      "application/vnd.jupyter.widget-view+json": {
       "model_id": "d5755f10f5b4426db2be69f3c5962382",
       "version_major": 2,
       "version_minor": 0
      },
      "text/plain": [
       "  0%|          | 0/5000 [00:00<?, ?it/s]"
      ]
     },
     "metadata": {},
     "output_type": "display_data"
    },
    {
     "name": "stdout",
     "output_type": "stream",
     "text": [
      "Expected values: [array([0.97692089, 0.68306257, 0.98087905]), array([0.8003712 , 0.78841018, 0.45126265])]\n"
     ]
    },
    {
     "data": {
      "application/vnd.jupyter.widget-view+json": {
       "model_id": "321401ac78ea4667bb6a3c9879a2060f",
       "version_major": 2,
       "version_minor": 0
      },
      "text/plain": [
       "  0%|          | 0/5000 [00:00<?, ?it/s]"
      ]
     },
     "metadata": {},
     "output_type": "display_data"
    },
    {
     "name": "stdout",
     "output_type": "stream",
     "text": [
      "\\ucbone run completed - k=3 d=2 $\\sigma$=0.5\n",
      "T=1000: $67.9 \\ (7.77)$\n",
      "T=2000: $105.04 \\ (17.91)$\n",
      "T=5000: $177.94 \\ (40.88)$\n",
      "Expected values: [array([0.68416945, 0.80063256, 0.72193436, 0.68141823]), array([0.59655836, 0.75212588, 0.60631105, 0.9242411 ])]\n"
     ]
    },
    {
     "data": {
      "application/vnd.jupyter.widget-view+json": {
       "model_id": "bd85625a17484337a88c00ed27871591",
       "version_major": 2,
       "version_minor": 0
      },
      "text/plain": [
       "  0%|          | 0/5000 [00:00<?, ?it/s]"
      ]
     },
     "metadata": {},
     "output_type": "display_data"
    },
    {
     "name": "stdout",
     "output_type": "stream",
     "text": [
      "Expected values: [array([0.5919154 , 0.80422715, 0.30008006, 0.5116328 ]), array([0.40272912, 0.36463702, 0.43038215, 0.54189251])]\n"
     ]
    },
    {
     "data": {
      "application/vnd.jupyter.widget-view+json": {
       "model_id": "a72f1c0035a34ed7b1f47b2028452816",
       "version_major": 2,
       "version_minor": 0
      },
      "text/plain": [
       "  0%|          | 0/5000 [00:00<?, ?it/s]"
      ]
     },
     "metadata": {},
     "output_type": "display_data"
    },
    {
     "name": "stdout",
     "output_type": "stream",
     "text": [
      "Expected values: [array([0.60519643, 0.31814836, 0.68476373, 0.60472567]), array([0.59425746, 0.53123437, 0.44325404, 0.73348968])]\n"
     ]
    },
    {
     "data": {
      "application/vnd.jupyter.widget-view+json": {
       "model_id": "3dd1ab2d927d48ca81c4894dc83c52d3",
       "version_major": 2,
       "version_minor": 0
      },
      "text/plain": [
       "  0%|          | 0/5000 [00:00<?, ?it/s]"
      ]
     },
     "metadata": {},
     "output_type": "display_data"
    },
    {
     "name": "stdout",
     "output_type": "stream",
     "text": [
      "Expected values: [array([0.68555853, 0.79570348, 0.50363332, 0.65757932]), array([0.92506287, 0.92740516, 0.38790972, 0.44507001])]\n"
     ]
    },
    {
     "data": {
      "application/vnd.jupyter.widget-view+json": {
       "model_id": "ff8cd475b8684e0eae1afd36c702f8dc",
       "version_major": 2,
       "version_minor": 0
      },
      "text/plain": [
       "  0%|          | 0/5000 [00:00<?, ?it/s]"
      ]
     },
     "metadata": {},
     "output_type": "display_data"
    },
    {
     "name": "stdout",
     "output_type": "stream",
     "text": [
      "Expected values: [array([0.97692089, 0.68306257, 0.98087905, 0.8003712 ]), array([0.78841018, 0.45126265, 0.98339212, 0.30436118])]\n"
     ]
    },
    {
     "data": {
      "application/vnd.jupyter.widget-view+json": {
       "model_id": "2c775a4bfdbf4326b40e46503ea20770",
       "version_major": 2,
       "version_minor": 0
      },
      "text/plain": [
       "  0%|          | 0/5000 [00:00<?, ?it/s]"
      ]
     },
     "metadata": {},
     "output_type": "display_data"
    },
    {
     "name": "stdout",
     "output_type": "stream",
     "text": [
      "\\JPAalgnameshort run completed - k=4 d=2 $\\sigma$=0.5\n",
      "T=1000: $64.59 \\ (7.75)$\n",
      "T=2000: $82.25 \\ (10.83)$\n",
      "T=5000: $118.29 \\ (14.7)$\n",
      "Expected values: [array([0.68416945, 0.80063256, 0.72193436, 0.68141823]), array([0.59655836, 0.75212588, 0.60631105, 0.9242411 ])]\n"
     ]
    },
    {
     "data": {
      "application/vnd.jupyter.widget-view+json": {
       "model_id": "7b3b8364bed84902b932245a35c4541d",
       "version_major": 2,
       "version_minor": 0
      },
      "text/plain": [
       "  0%|          | 0/5000 [00:00<?, ?it/s]"
      ]
     },
     "metadata": {},
     "output_type": "display_data"
    },
    {
     "name": "stdout",
     "output_type": "stream",
     "text": [
      "Expected values: [array([0.5919154 , 0.80422715, 0.30008006, 0.5116328 ]), array([0.40272912, 0.36463702, 0.43038215, 0.54189251])]\n"
     ]
    },
    {
     "data": {
      "application/vnd.jupyter.widget-view+json": {
       "model_id": "a6a977b846764bfab2c517b702398c09",
       "version_major": 2,
       "version_minor": 0
      },
      "text/plain": [
       "  0%|          | 0/5000 [00:00<?, ?it/s]"
      ]
     },
     "metadata": {},
     "output_type": "display_data"
    },
    {
     "name": "stdout",
     "output_type": "stream",
     "text": [
      "Expected values: [array([0.60519643, 0.31814836, 0.68476373, 0.60472567]), array([0.59425746, 0.53123437, 0.44325404, 0.73348968])]\n"
     ]
    },
    {
     "data": {
      "application/vnd.jupyter.widget-view+json": {
       "model_id": "15e139a52fc244aaa7f59e0a47bb7929",
       "version_major": 2,
       "version_minor": 0
      },
      "text/plain": [
       "  0%|          | 0/5000 [00:00<?, ?it/s]"
      ]
     },
     "metadata": {},
     "output_type": "display_data"
    },
    {
     "name": "stdout",
     "output_type": "stream",
     "text": [
      "Expected values: [array([0.68555853, 0.79570348, 0.50363332, 0.65757932]), array([0.92506287, 0.92740516, 0.38790972, 0.44507001])]\n"
     ]
    },
    {
     "data": {
      "application/vnd.jupyter.widget-view+json": {
       "model_id": "475991102c304d92af8e80912a7a5a0c",
       "version_major": 2,
       "version_minor": 0
      },
      "text/plain": [
       "  0%|          | 0/5000 [00:00<?, ?it/s]"
      ]
     },
     "metadata": {},
     "output_type": "display_data"
    },
    {
     "name": "stdout",
     "output_type": "stream",
     "text": [
      "Expected values: [array([0.97692089, 0.68306257, 0.98087905, 0.8003712 ]), array([0.78841018, 0.45126265, 0.98339212, 0.30436118])]\n"
     ]
    },
    {
     "data": {
      "application/vnd.jupyter.widget-view+json": {
       "model_id": "9a170f91456c4d12970e707e96cc9b6a",
       "version_major": 2,
       "version_minor": 0
      },
      "text/plain": [
       "  0%|          | 0/5000 [00:00<?, ?it/s]"
      ]
     },
     "metadata": {},
     "output_type": "display_data"
    },
    {
     "name": "stdout",
     "output_type": "stream",
     "text": [
      "\\JPAalgnameshortMM run completed - k=4 d=2 $\\sigma$=0.5\n",
      "T=1000: $246.68 \\ (27.69)$\n",
      "T=2000: $487.99 \\ (57.67)$\n",
      "T=5000: $1214.03 \\ (146.54)$\n",
      "Expected values: [array([0.68416945, 0.80063256, 0.72193436, 0.68141823]), array([0.59655836, 0.75212588, 0.60631105, 0.9242411 ])]\n"
     ]
    },
    {
     "data": {
      "application/vnd.jupyter.widget-view+json": {
       "model_id": "be6997202fb14a1dbc17fcd86a7fbef4",
       "version_major": 2,
       "version_minor": 0
      },
      "text/plain": [
       "  0%|          | 0/5000 [00:00<?, ?it/s]"
      ]
     },
     "metadata": {},
     "output_type": "display_data"
    },
    {
     "name": "stdout",
     "output_type": "stream",
     "text": [
      "Expected values: [array([0.5919154 , 0.80422715, 0.30008006, 0.5116328 ]), array([0.40272912, 0.36463702, 0.43038215, 0.54189251])]\n"
     ]
    },
    {
     "data": {
      "application/vnd.jupyter.widget-view+json": {
       "model_id": "0dfae5245f584b3eba6ba286e9609cd5",
       "version_major": 2,
       "version_minor": 0
      },
      "text/plain": [
       "  0%|          | 0/5000 [00:00<?, ?it/s]"
      ]
     },
     "metadata": {},
     "output_type": "display_data"
    },
    {
     "name": "stdout",
     "output_type": "stream",
     "text": [
      "Expected values: [array([0.60519643, 0.31814836, 0.68476373, 0.60472567]), array([0.59425746, 0.53123437, 0.44325404, 0.73348968])]\n"
     ]
    },
    {
     "data": {
      "application/vnd.jupyter.widget-view+json": {
       "model_id": "36bd6824bffc4591908b388e1bb0e7e2",
       "version_major": 2,
       "version_minor": 0
      },
      "text/plain": [
       "  0%|          | 0/5000 [00:00<?, ?it/s]"
      ]
     },
     "metadata": {},
     "output_type": "display_data"
    },
    {
     "name": "stdout",
     "output_type": "stream",
     "text": [
      "Expected values: [array([0.68555853, 0.79570348, 0.50363332, 0.65757932]), array([0.92506287, 0.92740516, 0.38790972, 0.44507001])]\n"
     ]
    },
    {
     "data": {
      "application/vnd.jupyter.widget-view+json": {
       "model_id": "360a66bb1ee64d48bd81cd761b74e53b",
       "version_major": 2,
       "version_minor": 0
      },
      "text/plain": [
       "  0%|          | 0/5000 [00:00<?, ?it/s]"
      ]
     },
     "metadata": {},
     "output_type": "display_data"
    },
    {
     "name": "stdout",
     "output_type": "stream",
     "text": [
      "Expected values: [array([0.97692089, 0.68306257, 0.98087905, 0.8003712 ]), array([0.78841018, 0.45126265, 0.98339212, 0.30436118])]\n"
     ]
    },
    {
     "data": {
      "application/vnd.jupyter.widget-view+json": {
       "model_id": "f90bfa85f3d64a06aea9b1022dbe26b7",
       "version_major": 2,
       "version_minor": 0
      },
      "text/plain": [
       "  0%|          | 0/5000 [00:00<?, ?it/s]"
      ]
     },
     "metadata": {},
     "output_type": "display_data"
    },
    {
     "name": "stdout",
     "output_type": "stream",
     "text": [
      "\\ucbone run completed - k=4 d=2 $\\sigma$=0.5\n",
      "T=1000: $99.53 \\ (11.68)$\n",
      "T=2000: $145.58 \\ (25.84)$\n",
      "T=5000: $228.48 \\ (58.06)$\n",
      "Expected values: [array([0.68416945, 0.80063256, 0.72193436]), array([0.68141823, 0.59655836, 0.75212588]), array([0.60631105, 0.9242411 , 0.97456393])]\n"
     ]
    },
    {
     "data": {
      "application/vnd.jupyter.widget-view+json": {
       "model_id": "79770d6997dd4394bfbcd72bdbd8c65a",
       "version_major": 2,
       "version_minor": 0
      },
      "text/plain": [
       "  0%|          | 0/5000 [00:00<?, ?it/s]"
      ]
     },
     "metadata": {},
     "output_type": "display_data"
    },
    {
     "name": "stdout",
     "output_type": "stream",
     "text": [
      "Expected values: [array([0.5919154 , 0.80422715, 0.30008006]), array([0.5116328 , 0.40272912, 0.36463702]), array([0.43038215, 0.54189251, 0.57773723])]\n"
     ]
    },
    {
     "data": {
      "application/vnd.jupyter.widget-view+json": {
       "model_id": "ad097459c4224591bf91084bc5e8d11f",
       "version_major": 2,
       "version_minor": 0
      },
      "text/plain": [
       "  0%|          | 0/5000 [00:00<?, ?it/s]"
      ]
     },
     "metadata": {},
     "output_type": "display_data"
    },
    {
     "name": "stdout",
     "output_type": "stream",
     "text": [
      "Expected values: [array([0.60519643, 0.31814836, 0.68476373]), array([0.60472567, 0.59425746, 0.53123437]), array([0.44325404, 0.73348968, 0.50975827])]\n"
     ]
    },
    {
     "data": {
      "application/vnd.jupyter.widget-view+json": {
       "model_id": "83186943c027425fbab5c292362d78b6",
       "version_major": 2,
       "version_minor": 0
      },
      "text/plain": [
       "  0%|          | 0/5000 [00:00<?, ?it/s]"
      ]
     },
     "metadata": {},
     "output_type": "display_data"
    },
    {
     "name": "stdout",
     "output_type": "stream",
     "text": [
      "Expected values: [array([0.68555853, 0.79570348, 0.50363332]), array([0.65757932, 0.92506287, 0.92740516]), array([0.38790972, 0.44507001, 0.33602704])]\n"
     ]
    },
    {
     "data": {
      "application/vnd.jupyter.widget-view+json": {
       "model_id": "be53adcce34b4c4e89e46572dfb8faec",
       "version_major": 2,
       "version_minor": 0
      },
      "text/plain": [
       "  0%|          | 0/5000 [00:00<?, ?it/s]"
      ]
     },
     "metadata": {},
     "output_type": "display_data"
    },
    {
     "name": "stdout",
     "output_type": "stream",
     "text": [
      "Expected values: [array([0.97692089, 0.68306257, 0.98087905]), array([0.8003712 , 0.78841018, 0.45126265]), array([0.98339212, 0.30436118, 0.47708765])]\n"
     ]
    },
    {
     "data": {
      "application/vnd.jupyter.widget-view+json": {
       "model_id": "d11886edb4df409eac20ed5b03502ed2",
       "version_major": 2,
       "version_minor": 0
      },
      "text/plain": [
       "  0%|          | 0/5000 [00:00<?, ?it/s]"
      ]
     },
     "metadata": {},
     "output_type": "display_data"
    },
    {
     "name": "stdout",
     "output_type": "stream",
     "text": [
      "\\JPAalgnameshort run completed - k=3 d=3 $\\sigma$=0.5\n",
      "T=1000: $41.38 \\ (7.59)$\n",
      "T=2000: $58.78 \\ (8.93)$\n",
      "T=5000: $97.53 \\ (16.2)$\n",
      "Expected values: [array([0.68416945, 0.80063256, 0.72193436]), array([0.68141823, 0.59655836, 0.75212588]), array([0.60631105, 0.9242411 , 0.97456393])]\n"
     ]
    },
    {
     "data": {
      "application/vnd.jupyter.widget-view+json": {
       "model_id": "f7a5a4bd117f48bfb0211e71165d1872",
       "version_major": 2,
       "version_minor": 0
      },
      "text/plain": [
       "  0%|          | 0/5000 [00:00<?, ?it/s]"
      ]
     },
     "metadata": {},
     "output_type": "display_data"
    },
    {
     "name": "stdout",
     "output_type": "stream",
     "text": [
      "Expected values: [array([0.5919154 , 0.80422715, 0.30008006]), array([0.5116328 , 0.40272912, 0.36463702]), array([0.43038215, 0.54189251, 0.57773723])]\n"
     ]
    },
    {
     "data": {
      "application/vnd.jupyter.widget-view+json": {
       "model_id": "fd510adb6a0e48cbaec044c33e6dcad8",
       "version_major": 2,
       "version_minor": 0
      },
      "text/plain": [
       "  0%|          | 0/5000 [00:00<?, ?it/s]"
      ]
     },
     "metadata": {},
     "output_type": "display_data"
    },
    {
     "name": "stdout",
     "output_type": "stream",
     "text": [
      "Expected values: [array([0.60519643, 0.31814836, 0.68476373]), array([0.60472567, 0.59425746, 0.53123437]), array([0.44325404, 0.73348968, 0.50975827])]\n"
     ]
    },
    {
     "data": {
      "application/vnd.jupyter.widget-view+json": {
       "model_id": "0f84058565c4449eaf1f753405a89aa2",
       "version_major": 2,
       "version_minor": 0
      },
      "text/plain": [
       "  0%|          | 0/5000 [00:00<?, ?it/s]"
      ]
     },
     "metadata": {},
     "output_type": "display_data"
    },
    {
     "name": "stdout",
     "output_type": "stream",
     "text": [
      "Expected values: [array([0.68555853, 0.79570348, 0.50363332]), array([0.65757932, 0.92506287, 0.92740516]), array([0.38790972, 0.44507001, 0.33602704])]\n"
     ]
    },
    {
     "data": {
      "application/vnd.jupyter.widget-view+json": {
       "model_id": "b93155ad249e46c6b79ebc609abf3d2e",
       "version_major": 2,
       "version_minor": 0
      },
      "text/plain": [
       "  0%|          | 0/5000 [00:00<?, ?it/s]"
      ]
     },
     "metadata": {},
     "output_type": "display_data"
    },
    {
     "name": "stdout",
     "output_type": "stream",
     "text": [
      "Expected values: [array([0.97692089, 0.68306257, 0.98087905]), array([0.8003712 , 0.78841018, 0.45126265]), array([0.98339212, 0.30436118, 0.47708765])]\n"
     ]
    },
    {
     "data": {
      "application/vnd.jupyter.widget-view+json": {
       "model_id": "ec2f707d316943ab83d3d95b48a9c0ba",
       "version_major": 2,
       "version_minor": 0
      },
      "text/plain": [
       "  0%|          | 0/5000 [00:00<?, ?it/s]"
      ]
     },
     "metadata": {},
     "output_type": "display_data"
    },
    {
     "name": "stdout",
     "output_type": "stream",
     "text": [
      "\\JPAalgnameshortMM run completed - k=3 d=3 $\\sigma$=0.5\n",
      "T=1000: $173.78 \\ (27.3)$\n",
      "T=2000: $347.46 \\ (54.5)$\n",
      "T=5000: $867.98 \\ (136.27)$\n",
      "Expected values: [array([0.68416945, 0.80063256, 0.72193436]), array([0.68141823, 0.59655836, 0.75212588]), array([0.60631105, 0.9242411 , 0.97456393])]\n"
     ]
    },
    {
     "data": {
      "application/vnd.jupyter.widget-view+json": {
       "model_id": "634b31a191614bc38b7b863f0ae0aaa3",
       "version_major": 2,
       "version_minor": 0
      },
      "text/plain": [
       "  0%|          | 0/5000 [00:00<?, ?it/s]"
      ]
     },
     "metadata": {},
     "output_type": "display_data"
    },
    {
     "name": "stdout",
     "output_type": "stream",
     "text": [
      "Expected values: [array([0.5919154 , 0.80422715, 0.30008006]), array([0.5116328 , 0.40272912, 0.36463702]), array([0.43038215, 0.54189251, 0.57773723])]\n"
     ]
    },
    {
     "data": {
      "application/vnd.jupyter.widget-view+json": {
       "model_id": "00aedcad86cf46d9b9d0d0473e0e4a01",
       "version_major": 2,
       "version_minor": 0
      },
      "text/plain": [
       "  0%|          | 0/5000 [00:00<?, ?it/s]"
      ]
     },
     "metadata": {},
     "output_type": "display_data"
    },
    {
     "name": "stdout",
     "output_type": "stream",
     "text": [
      "Expected values: [array([0.60519643, 0.31814836, 0.68476373]), array([0.60472567, 0.59425746, 0.53123437]), array([0.44325404, 0.73348968, 0.50975827])]\n"
     ]
    },
    {
     "data": {
      "application/vnd.jupyter.widget-view+json": {
       "model_id": "93ac9559563c4e7bbab53134c8bc63ee",
       "version_major": 2,
       "version_minor": 0
      },
      "text/plain": [
       "  0%|          | 0/5000 [00:00<?, ?it/s]"
      ]
     },
     "metadata": {},
     "output_type": "display_data"
    },
    {
     "name": "stdout",
     "output_type": "stream",
     "text": [
      "Expected values: [array([0.68555853, 0.79570348, 0.50363332]), array([0.65757932, 0.92506287, 0.92740516]), array([0.38790972, 0.44507001, 0.33602704])]\n"
     ]
    },
    {
     "data": {
      "application/vnd.jupyter.widget-view+json": {
       "model_id": "25fe426f5ee947a6bfdddd06599f74ec",
       "version_major": 2,
       "version_minor": 0
      },
      "text/plain": [
       "  0%|          | 0/5000 [00:00<?, ?it/s]"
      ]
     },
     "metadata": {},
     "output_type": "display_data"
    },
    {
     "name": "stdout",
     "output_type": "stream",
     "text": [
      "Expected values: [array([0.97692089, 0.68306257, 0.98087905]), array([0.8003712 , 0.78841018, 0.45126265]), array([0.98339212, 0.30436118, 0.47708765])]\n"
     ]
    },
    {
     "data": {
      "application/vnd.jupyter.widget-view+json": {
       "model_id": "999f95173e2142b5aa8067fd1f197bad",
       "version_major": 2,
       "version_minor": 0
      },
      "text/plain": [
       "  0%|          | 0/5000 [00:00<?, ?it/s]"
      ]
     },
     "metadata": {},
     "output_type": "display_data"
    },
    {
     "name": "stdout",
     "output_type": "stream",
     "text": [
      "\\ucbone run completed - k=3 d=3 $\\sigma$=0.5\n",
      "T=1000: $102.71 \\ (12.28)$\n",
      "T=2000: $188.77 \\ (27.86)$\n",
      "T=5000: $419.56 \\ (77.35)$\n",
      "Expected values: [array([0.68416945, 0.80063256, 0.72193436, 0.68141823]), array([0.59655836, 0.75212588, 0.60631105, 0.9242411 ]), array([0.97456393, 0.56840906, 0.85420753, 0.67022644])]\n"
     ]
    },
    {
     "data": {
      "application/vnd.jupyter.widget-view+json": {
       "model_id": "2e8a607b1417492e9b8adf52051a2580",
       "version_major": 2,
       "version_minor": 0
      },
      "text/plain": [
       "  0%|          | 0/5000 [00:00<?, ?it/s]"
      ]
     },
     "metadata": {},
     "output_type": "display_data"
    },
    {
     "name": "stdout",
     "output_type": "stream",
     "text": [
      "Expected values: [array([0.5919154 , 0.80422715, 0.30008006, 0.5116328 ]), array([0.40272912, 0.36463702, 0.43038215, 0.54189251]), array([0.57773723, 0.67717171, 0.59343616, 0.77965365])]\n"
     ]
    },
    {
     "data": {
      "application/vnd.jupyter.widget-view+json": {
       "model_id": "ea48f7d9e2e343e69fad9bc9115b4186",
       "version_major": 2,
       "version_minor": 0
      },
      "text/plain": [
       "  0%|          | 0/5000 [00:00<?, ?it/s]"
      ]
     },
     "metadata": {},
     "output_type": "display_data"
    },
    {
     "name": "stdout",
     "output_type": "stream",
     "text": [
      "Expected values: [array([0.60519643, 0.31814836, 0.68476373, 0.60472567]), array([0.59425746, 0.53123437, 0.44325404, 0.73348968]), array([0.50975827, 0.48677909, 0.73479368, 0.67039947])]\n"
     ]
    },
    {
     "data": {
      "application/vnd.jupyter.widget-view+json": {
       "model_id": "13d8dcdc319a4876bec70bd7456fdea6",
       "version_major": 2,
       "version_minor": 0
      },
      "text/plain": [
       "  0%|          | 0/5000 [00:00<?, ?it/s]"
      ]
     },
     "metadata": {},
     "output_type": "display_data"
    },
    {
     "name": "stdout",
     "output_type": "stream",
     "text": [
      "Expected values: [array([0.68555853, 0.79570348, 0.50363332, 0.65757932]), array([0.92506287, 0.92740516, 0.38790972, 0.44507001]), array([0.33602704, 0.60856689, 0.32091335, 0.61978326])]\n"
     ]
    },
    {
     "data": {
      "application/vnd.jupyter.widget-view+json": {
       "model_id": "1470fc5138d5410082ad5b0e0e4fe735",
       "version_major": 2,
       "version_minor": 0
      },
      "text/plain": [
       "  0%|          | 0/5000 [00:00<?, ?it/s]"
      ]
     },
     "metadata": {},
     "output_type": "display_data"
    },
    {
     "name": "stdout",
     "output_type": "stream",
     "text": [
      "Expected values: [array([0.97692089, 0.68306257, 0.98087905, 0.8003712 ]), array([0.78841018, 0.45126265, 0.98339212, 0.30436118]), array([0.47708765, 0.60435407, 0.84556805, 0.43837955])]\n"
     ]
    },
    {
     "data": {
      "application/vnd.jupyter.widget-view+json": {
       "model_id": "bb0beaab8d1244ac8f5ccb8df6e91868",
       "version_major": 2,
       "version_minor": 0
      },
      "text/plain": [
       "  0%|          | 0/5000 [00:00<?, ?it/s]"
      ]
     },
     "metadata": {},
     "output_type": "display_data"
    },
    {
     "name": "stdout",
     "output_type": "stream",
     "text": [
      "\\JPAalgnameshort run completed - k=4 d=3 $\\sigma$=0.5\n",
      "T=1000: $74.5 \\ (6.21)$\n",
      "T=2000: $103.45 \\ (7.04)$\n",
      "T=5000: $152.0 \\ (6.81)$\n",
      "Expected values: [array([0.68416945, 0.80063256, 0.72193436, 0.68141823]), array([0.59655836, 0.75212588, 0.60631105, 0.9242411 ]), array([0.97456393, 0.56840906, 0.85420753, 0.67022644])]\n"
     ]
    },
    {
     "data": {
      "application/vnd.jupyter.widget-view+json": {
       "model_id": "50238f7fc5a24e74b4633553dfd8dd01",
       "version_major": 2,
       "version_minor": 0
      },
      "text/plain": [
       "  0%|          | 0/5000 [00:00<?, ?it/s]"
      ]
     },
     "metadata": {},
     "output_type": "display_data"
    },
    {
     "name": "stdout",
     "output_type": "stream",
     "text": [
      "Expected values: [array([0.5919154 , 0.80422715, 0.30008006, 0.5116328 ]), array([0.40272912, 0.36463702, 0.43038215, 0.54189251]), array([0.57773723, 0.67717171, 0.59343616, 0.77965365])]\n"
     ]
    },
    {
     "data": {
      "application/vnd.jupyter.widget-view+json": {
       "model_id": "c1e5280e2da04ba0a3eb1c17fbe3c7cb",
       "version_major": 2,
       "version_minor": 0
      },
      "text/plain": [
       "  0%|          | 0/5000 [00:00<?, ?it/s]"
      ]
     },
     "metadata": {},
     "output_type": "display_data"
    },
    {
     "name": "stdout",
     "output_type": "stream",
     "text": [
      "Expected values: [array([0.60519643, 0.31814836, 0.68476373, 0.60472567]), array([0.59425746, 0.53123437, 0.44325404, 0.73348968]), array([0.50975827, 0.48677909, 0.73479368, 0.67039947])]\n"
     ]
    },
    {
     "data": {
      "application/vnd.jupyter.widget-view+json": {
       "model_id": "85d4e9869a0c4077803477650ccf1647",
       "version_major": 2,
       "version_minor": 0
      },
      "text/plain": [
       "  0%|          | 0/5000 [00:00<?, ?it/s]"
      ]
     },
     "metadata": {},
     "output_type": "display_data"
    },
    {
     "name": "stdout",
     "output_type": "stream",
     "text": [
      "Expected values: [array([0.68555853, 0.79570348, 0.50363332, 0.65757932]), array([0.92506287, 0.92740516, 0.38790972, 0.44507001]), array([0.33602704, 0.60856689, 0.32091335, 0.61978326])]\n"
     ]
    },
    {
     "data": {
      "application/vnd.jupyter.widget-view+json": {
       "model_id": "75d80333f7f14beea5fed3389ddfbf86",
       "version_major": 2,
       "version_minor": 0
      },
      "text/plain": [
       "  0%|          | 0/5000 [00:00<?, ?it/s]"
      ]
     },
     "metadata": {},
     "output_type": "display_data"
    },
    {
     "name": "stdout",
     "output_type": "stream",
     "text": [
      "Expected values: [array([0.97692089, 0.68306257, 0.98087905, 0.8003712 ]), array([0.78841018, 0.45126265, 0.98339212, 0.30436118]), array([0.47708765, 0.60435407, 0.84556805, 0.43837955])]\n"
     ]
    },
    {
     "data": {
      "application/vnd.jupyter.widget-view+json": {
       "model_id": "1ed7b010e70648fc849fde06b8d4513f",
       "version_major": 2,
       "version_minor": 0
      },
      "text/plain": [
       "  0%|          | 0/5000 [00:00<?, ?it/s]"
      ]
     },
     "metadata": {},
     "output_type": "display_data"
    },
    {
     "name": "stdout",
     "output_type": "stream",
     "text": [
      "\\JPAalgnameshortMM run completed - k=4 d=3 $\\sigma$=0.5\n",
      "T=1000: $277.05 \\ (46.32)$\n",
      "T=2000: $552.3 \\ (92.17)$\n",
      "T=5000: $1385.02 \\ (231.56)$\n",
      "Expected values: [array([0.68416945, 0.80063256, 0.72193436, 0.68141823]), array([0.59655836, 0.75212588, 0.60631105, 0.9242411 ]), array([0.97456393, 0.56840906, 0.85420753, 0.67022644])]\n"
     ]
    },
    {
     "data": {
      "application/vnd.jupyter.widget-view+json": {
       "model_id": "10ba2e587b5a41d38fd12b460e74de25",
       "version_major": 2,
       "version_minor": 0
      },
      "text/plain": [
       "  0%|          | 0/5000 [00:00<?, ?it/s]"
      ]
     },
     "metadata": {},
     "output_type": "display_data"
    },
    {
     "name": "stdout",
     "output_type": "stream",
     "text": [
      "Expected values: [array([0.5919154 , 0.80422715, 0.30008006, 0.5116328 ]), array([0.40272912, 0.36463702, 0.43038215, 0.54189251]), array([0.57773723, 0.67717171, 0.59343616, 0.77965365])]\n"
     ]
    },
    {
     "data": {
      "application/vnd.jupyter.widget-view+json": {
       "model_id": "07f72c82927f4178bc41acc4eb1ccc34",
       "version_major": 2,
       "version_minor": 0
      },
      "text/plain": [
       "  0%|          | 0/5000 [00:00<?, ?it/s]"
      ]
     },
     "metadata": {},
     "output_type": "display_data"
    },
    {
     "name": "stdout",
     "output_type": "stream",
     "text": [
      "Expected values: [array([0.60519643, 0.31814836, 0.68476373, 0.60472567]), array([0.59425746, 0.53123437, 0.44325404, 0.73348968]), array([0.50975827, 0.48677909, 0.73479368, 0.67039947])]\n"
     ]
    },
    {
     "data": {
      "application/vnd.jupyter.widget-view+json": {
       "model_id": "6733762e035a4f2ea6791c71e3a6f069",
       "version_major": 2,
       "version_minor": 0
      },
      "text/plain": [
       "  0%|          | 0/5000 [00:00<?, ?it/s]"
      ]
     },
     "metadata": {},
     "output_type": "display_data"
    },
    {
     "name": "stdout",
     "output_type": "stream",
     "text": [
      "Expected values: [array([0.68555853, 0.79570348, 0.50363332, 0.65757932]), array([0.92506287, 0.92740516, 0.38790972, 0.44507001]), array([0.33602704, 0.60856689, 0.32091335, 0.61978326])]\n"
     ]
    },
    {
     "data": {
      "application/vnd.jupyter.widget-view+json": {
       "model_id": "8a3044d1105843bca4af831880c79f2e",
       "version_major": 2,
       "version_minor": 0
      },
      "text/plain": [
       "  0%|          | 0/5000 [00:00<?, ?it/s]"
      ]
     },
     "metadata": {},
     "output_type": "display_data"
    },
    {
     "name": "stdout",
     "output_type": "stream",
     "text": [
      "Expected values: [array([0.97692089, 0.68306257, 0.98087905, 0.8003712 ]), array([0.78841018, 0.45126265, 0.98339212, 0.30436118]), array([0.47708765, 0.60435407, 0.84556805, 0.43837955])]\n"
     ]
    },
    {
     "data": {
      "application/vnd.jupyter.widget-view+json": {
       "model_id": "57a425f1a17d47fd9fff94ee107787c5",
       "version_major": 2,
       "version_minor": 0
      },
      "text/plain": [
       "  0%|          | 0/5000 [00:00<?, ?it/s]"
      ]
     },
     "metadata": {},
     "output_type": "display_data"
    },
    {
     "name": "stdout",
     "output_type": "stream",
     "text": [
      "\\ucbone run completed - k=4 d=3 $\\sigma$=0.5\n",
      "T=1000: $189.2 \\ (35.12)$\n",
      "T=2000: $342.3 \\ (75.27)$\n",
      "T=5000: $749.72 \\ (183.92)$\n"
     ]
    },
    {
     "data": {
      "image/png": "[encoded data removed]",
      "text/plain": [
       "<Figure size 640x480 with 1 Axes>"
      ]
     },
     "metadata": {},
     "output_type": "display_data"
    },
    {
     "data": {
      "image/png": "[encoded data removed]",
      "text/plain": [
       "<Figure size 640x480 with 1 Axes>"
      ]
     },
     "metadata": {},
     "output_type": "display_data"
    },
    {
     "data": {
      "image/png": "[encoded data removed]",
      "text/plain": [
       "<Figure size 640x480 with 1 Axes>"
      ]
     },
     "metadata": {},
     "output_type": "display_data"
    },
    {
     "data": {
      "image/png": "[encoded data removed]",
      "text/plain": [
       "<Figure size 640x480 with 1 Axes>"
      ]
     },
     "metadata": {},
     "output_type": "display_data"
    }
   ],
   "source": [
    "# BASIC SETTING FOR EXPERIMENTS\n",
    "fucb = '\\\\JPAalgnameshort'\n",
    "fucbMM = '\\\\JPAalgnameshortMM'\n",
    "ucbone = '\\\\ucbone'\n",
    "httem = '\\\\httem'\n",
    "algs = [fucb, ucbone, httem, fucbMM]\n",
    "T = 10000\n",
    "checkpoints = [1000, 5000, 10000]\n",
    "n_trials = 10\n",
    "seed = 0\n",
    "k_list = [3, 4, 5]\n",
    "d_list = [1, 2, 3, 4]\n",
    "bounded_list = [True, False]   \n",
    "\n",
    "# OVERRIDE FOR TESTING PURPOSE TO SPEED UP THE RUNS\n",
    "T = 5000\n",
    "checkpoints = [1000, 2000, 5000]\n",
    "bounded_list = [True] \n",
    "algs = [fucb, fucbMM, ucbone]\n",
    "n_trials = 5\n",
    "k_list = [3, 4]\n",
    "d_list = [2, 3]\n",
    "    \n",
    "result_table = {}\n",
    "\n",
    "for bounded in bounded_list:\n",
    "\n",
    "    result_table[bounded] = {}\n",
    "    \n",
    "    if bounded: \n",
    "        sigma = 0.5 # fixed for bernoulli\n",
    "    else:\n",
    "        sigma = 0.1\n",
    "    \n",
    "    for d in d_list:\n",
    "\n",
    "        result_table[bounded][d] = {}\n",
    "\n",
    "        for k in k_list:\n",
    "\n",
    "            result_table[bounded][d][k] = {}\n",
    "\n",
    "            arms_vect = k * np.ones(d, dtype=int)\n",
    "\n",
    "            # F-UCB INIT\n",
    "            agent_factored = FactoredUCBAgent(arms_vect, d, sigma)\n",
    "\n",
    "            # F-UCB-MM INIT\n",
    "            agent_factored_MM = FactoredUCBAgentMM(arms_vect, d, T)\n",
    "            \n",
    "            # UCB1 INIT\n",
    "            agent_ucb = UCB1Agent(d*k, sigma)\n",
    "            action_mx = create_action_matrix(d, k)\n",
    "\n",
    "            # HT-TEM INIT\n",
    "            agent_ht_tem = TMRobustUCBAgent(d*k, 1, 1)\n",
    "            \n",
    "            mean_cum_expected_regret = {}\n",
    "            std_cum_expected_regret = {}\n",
    "            \n",
    "            for alg in algs:\n",
    "\n",
    "                result_table[bounded][d][k][alg] = {}\n",
    "\n",
    "                env = FactoredEnv(arms_vect, d, sigma=sigma, bounded=bounded)\n",
    "\n",
    "                inst_expected_regret = np.zeros((n_trials, T))\n",
    "\n",
    "                # for trial_i in tqdm(range(n_trials)):\n",
    "                for trial_i in range(n_trials):\n",
    "\n",
    "                    vals_expected = env.get_expected()\n",
    "                    max_expected = compute_max_expected(vals_expected)\n",
    "\n",
    "                    for t in tqdm(range(T)):\n",
    "\n",
    "                        if alg == ucbone:\n",
    "                            action = action_mx[agent_ucb.pull_arm(), :]\n",
    "                            agent_ucb.update(np.prod(env.step(action)))\n",
    "                        elif alg == fucb:\n",
    "                            action = agent_factored.pull_arm()\n",
    "                            agent_factored.update(env.step(action))\n",
    "                        elif alg == fucbMM:\n",
    "                            action = agent_factored_MM.pull_arm()\n",
    "                            agent_factored_MM.update(env.step(action))\n",
    "                        elif alg == httem:\n",
    "                            action = action_mx[agent_ht_tem.pull_arm(), :]\n",
    "                            agent_ht_tem.update(np.prod(env.step(action)))\n",
    "                        else:\n",
    "                            raise ValueError('Error in selecting algorithm')\n",
    "\n",
    "                        inst_expected_regret[trial_i, t] = max_expected - get_pulled_expected(\n",
    "                            vals_expected, action)\n",
    "                    \n",
    "                    # I reset all the agents, becuase i do not know which one \n",
    "                    # i am using for the sake of simplicity\n",
    "                    agent_ucb.reset()\n",
    "                    agent_factored.reset()\n",
    "                    agent_factored_MM.reset()\n",
    "                    agent_ht_tem.reset()\n",
    "                    \n",
    "                    if trial_i < n_trials - 1:\n",
    "                        env.reset()\n",
    "                \n",
    "                # maybe replace with cumsum with correct axis\n",
    "                cum_expected_regret = np.zeros(inst_expected_regret.shape)\n",
    "                cum_expected_regret[:, 0] = inst_expected_regret[:, 0]\n",
    "                for i in range(1, T):\n",
    "                    cum_expected_regret[:, i] = inst_expected_regret[:, i] + cum_expected_regret[:, i-1]\n",
    "\n",
    "                mean_cum_expected_regret[alg] = np.mean(cum_expected_regret, axis=0)\n",
    "                std_cum_expected_regret[alg] = np.std(cum_expected_regret, axis=0) / np.sqrt(n_trials)\n",
    "\n",
    "                print('{} run completed - k={} d={} $\\sigma$={}'.format(alg, k, d, sigma))\n",
    "                for i in checkpoints:\n",
    "                    result_table[bounded][d][k][alg][i] = '${} \\ ({})$   '.format(\n",
    "                        round(mean_cum_expected_regret[alg][i-1], 2), \n",
    "                        round(std_cum_expected_regret[alg][i-1], 2)\n",
    "                    )\n",
    "                    print('T={}: ${} \\ ({})$'.format(i, round(mean_cum_expected_regret[alg][i-1], 2), \n",
    "                                                  round(std_cum_expected_regret[alg][i-1], 2)))\n",
    "\n",
    "            plt.figure()\n",
    "            subsample = 50\n",
    "            assert T % subsample == 0\n",
    "            x_plt = np.linspace(0, T-1, int(T/subsample), dtype=int)\n",
    "            for alg in algs:\n",
    "                plt.plot(x_plt, mean_cum_expected_regret[alg][x_plt], \n",
    "                         label=alg)\n",
    "                plt.fill_between(x_plt, \n",
    "                                 mean_cum_expected_regret[alg][x_plt] - std_cum_expected_regret[alg][x_plt], \n",
    "                                 mean_cum_expected_regret[alg][x_plt] + std_cum_expected_regret[alg][x_plt], \n",
    "                                 alpha=0.3)\n",
    "            plt.legend()\n",
    "            plt.xlabel('Rounds')\n",
    "            plt.ylabel('Regret')\n",
    "            plt.title('bounded={} k={} d={} $\\sigma$={}'.format(bounded, k, d, sigma))\n",
    "            if bounded:\n",
    "                save_str = 'results/bounded_k{}_d{}'.format(k, d)\n",
    "            else:\n",
    "                save_str = 'results/subgauss_k{}_d{}'.format(k, d)\n",
    "            plt.savefig(save_str + '.png')\n",
    "            tkz.save(save_str + '.tex')"
   ]
  },
  {
   "cell_type": "code",
   "execution_count": 3,
   "id": "46dc7c88",
   "metadata": {
    "scrolled": false
   },
   "outputs": [
    {
     "name": "stdout",
     "output_type": "stream",
     "text": [
      "d= \t k= \t T=\t\t\\JPAalgnameshort\t\t\t\\JPAalgnameshortMM\t\t\t\\ucbone\t\t\t\n",
      "$2$ & \t $3$ & \t $1000$ \t\t& $41.14 \\ (4.47)$   \t& $143.93 \\ (17.69)$   \t& $67.9 \\ (7.77)$   \t\\\\\n",
      "\\cmidrule{3-9}\n",
      "$2$ & \t $3$ & \t $2000$ \t\t& $58.02 \\ (6.15)$   \t& $287.98 \\ (35.24)$   \t& $105.04 \\ (17.91)$   \t\\\\\n",
      "\\cmidrule{3-9}\n",
      "$2$ & \t $3$ & \t $5000$ \t\t& $89.22 \\ (9.11)$   \t& $725.73 \\ (90.24)$   \t& $177.94 \\ (40.88)$   \t\\\\\n",
      "\\cmidrule{2-9}\n",
      "$2$ & \t $4$ & \t $1000$ \t\t& $64.59 \\ (7.75)$   \t& $246.68 \\ (27.69)$   \t& $99.53 \\ (11.68)$   \t\\\\\n",
      "\\cmidrule{3-9}\n",
      "$2$ & \t $4$ & \t $2000$ \t\t& $82.25 \\ (10.83)$   \t& $487.99 \\ (57.67)$   \t& $145.58 \\ (25.84)$   \t\\\\\n",
      "\\cmidrule{3-9}\n",
      "$2$ & \t $4$ & \t $5000$ \t\t& $118.29 \\ (14.7)$   \t& $1214.03 \\ (146.54)$   \t& $228.48 \\ (58.06)$   \t\\\\\n",
      "\\cmidrule{2-9}\n",
      "\\cmidrule{1-9}\n",
      "$3$ & \t $3$ & \t $1000$ \t\t& $41.38 \\ (7.59)$   \t& $173.78 \\ (27.3)$   \t& $102.71 \\ (12.28)$   \t\\\\\n",
      "\\cmidrule{3-9}\n",
      "$3$ & \t $3$ & \t $2000$ \t\t& $58.78 \\ (8.93)$   \t& $347.46 \\ (54.5)$   \t& $188.77 \\ (27.86)$   \t\\\\\n",
      "\\cmidrule{3-9}\n",
      "$3$ & \t $3$ & \t $5000$ \t\t& $97.53 \\ (16.2)$   \t& $867.98 \\ (136.27)$   \t& $419.56 \\ (77.35)$   \t\\\\\n",
      "\\cmidrule{2-9}\n",
      "$3$ & \t $4$ & \t $1000$ \t\t& $74.5 \\ (6.21)$   \t& $277.05 \\ (46.32)$   \t& $189.2 \\ (35.12)$   \t\\\\\n",
      "\\cmidrule{3-9}\n",
      "$3$ & \t $4$ & \t $2000$ \t\t& $103.45 \\ (7.04)$   \t& $552.3 \\ (92.17)$   \t& $342.3 \\ (75.27)$   \t\\\\\n",
      "\\cmidrule{3-9}\n",
      "$3$ & \t $4$ & \t $5000$ \t\t& $152.0 \\ (6.81)$   \t& $1385.02 \\ (231.56)$   \t& $749.72 \\ (183.92)$   \t\\\\\n",
      "\\cmidrule{2-9}\n",
      "\\cmidrule{1-9}\n"
     ]
    }
   ],
   "source": [
    "print('d= \\t k= \\t T=\\t\\t', end='')\n",
    "[print(alg, end='\\t\\t\\t') for alg in algs]\n",
    "print('')\n",
    "\n",
    "for d in d_list:\n",
    "    for k in k_list:\n",
    "        for T_val in checkpoints:\n",
    "            print('${}$ & \\t ${}$ & \\t ${}$ \\t\\t'.format(d, k, T_val), end='')\n",
    "            for bounded in bounded_list:\n",
    "                for alg in algs:\n",
    "                    print('&', result_table[bounded][d][k][alg][T_val], end='\\t')\n",
    "            if T_val == checkpoints[-1]:\n",
    "                print('\\\\\\\\\\n\\\\cmidrule{2-9}')\n",
    "            else:\n",
    "                print('\\\\\\\\\\n\\\\cmidrule{3-9}')\n",
    "    print('\\cmidrule{1-9}')"
   ]
  },
  {
   "cell_type": "code",
   "execution_count": 4,
   "id": "d71c1d17",
   "metadata": {},
   "outputs": [],
   "source": [
    "import numpy as np\n",
    "\n",
    "n_arms_vect = np.array([3, 2, 3, 2]) \n",
    "d = len(n_arms_vect)\n",
    "\n",
    "matrix = -1 * np.ones((np.prod(n_arms_vect), d), dtype=int)\n",
    "for i in range(d):\n",
    "    base_vect = np.linspace(0, n_arms_vect[i] - 1, n_arms_vect[i], dtype=int)\n",
    "    vect = -1 * np.ones(np.prod(n_arms_vect[:i+1]))\n",
    "    external_repeats = int(np.prod(n_arms_vect) / len(vect))\n",
    "    internal_repeats = max(1, np.prod(n_arms_vect[:i]))\n",
    "    for j in range(len(base_vect)):\n",
    "        vect[j*(internal_repeats):(j+1)*(internal_repeats)] = j\n",
    "    vect_new = np.copy(vect).reshape(-1, 1)\n",
    "    for _ in range(external_repeats-1):\n",
    "        vect_new = np.vstack((vect_new, vect.reshape(-1, 1)))\n",
    "    matrix[:, i] = vect_new.ravel()    \n",
    "            "
   ]
  },
  {
   "cell_type": "code",
   "execution_count": null,
   "id": "833ffdc9",
   "metadata": {},
   "outputs": [],
   "source": []
  }
 ],
 "metadata": {
  "kernelspec": {
   "display_name": "Python 3 (ipykernel)",
   "language": "python",
   "name": "python3"
  },
  "language_info": {
   "codemirror_mode": {
    "name": "ipython",
    "version": 3
   },
   "file_extension": ".py",
   "mimetype": "text/x-python",
   "name": "python",
   "nbconvert_exporter": "python",
   "pygments_lexer": "ipython3",
   "version": "3.8.16"
  }
 },
 "nbformat": 4,
 "nbformat_minor": 5
}
